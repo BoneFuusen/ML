{
 "cells": [
  {
   "cell_type": "code",
   "execution_count": 1,
   "id": "801d211a-331c-4476-bb9e-a37708704e94",
   "metadata": {},
   "outputs": [],
   "source": [
    "import pandas as pd\n",
    "import matplotlib.pyplot as plt\n",
    "import numpy as np\n",
    "import seaborn as sns\n",
    "import warnings"
   ]
  },
  {
   "cell_type": "code",
   "execution_count": 2,
   "id": "6066e247-1e36-43e0-83ce-6f2dd50ddc2f",
   "metadata": {},
   "outputs": [],
   "source": [
    "import pickle"
   ]
  },
  {
   "cell_type": "code",
   "execution_count": 3,
   "id": "b7be2e4b-0ff1-464f-8af5-d6fe09cc2594",
   "metadata": {},
   "outputs": [],
   "source": [
    "data = pd.read_csv('../data/diabetes_012_health_indicators_BRFSS2015.csv')"
   ]
  },
  {
   "cell_type": "markdown",
   "id": "e26209d6-6382-43c6-926e-b89afd76646a",
   "metadata": {},
   "source": [
    "## 1. Предобработка данных."
   ]
  },
  {
   "cell_type": "code",
   "execution_count": 4,
   "id": "5d26a608-eba0-4e6b-9aa0-92908aff84bc",
   "metadata": {},
   "outputs": [],
   "source": [
    "data[\"Diabetes_012\"] = data[\"Diabetes_012\"].astype(int)\n",
    "data[\"HighBP\"] = data[\"HighBP\"].astype(int)\n",
    "data[\"HighChol\"] = data[\"HighChol\"].astype(int)\n",
    "data[\"CholCheck\"] = data[\"CholCheck\"].astype(int)\n",
    "data[\"BMI\"] = data[\"BMI\"].astype(int)\n",
    "data[\"Smoker\"] = data[\"Smoker\"].astype(int)\n",
    "data[\"Stroke\"] = data[\"Stroke\"].astype(int)\n",
    "data[\"HeartDiseaseorAttack\"] = data[\"HeartDiseaseorAttack\"].astype(int)\n",
    "data[\"PhysActivity\"] = data[\"PhysActivity\"].astype(int)\n",
    "data[\"Fruits\"] = data[\"Fruits\"].astype(int) \n",
    "data[\"Veggies\"] = data[\"Veggies\"].astype(int)\n",
    "data[\"HvyAlcoholConsump\"] = data[\"HvyAlcoholConsump\"].astype(int)\n",
    "data[\"AnyHealthcare\"] = data[\"AnyHealthcare\"].astype(int)\n",
    "data[\"NoDocbcCost\"] = data[\"NoDocbcCost\"].astype(int)\n",
    "data[\"GenHlth\"] = data[\"GenHlth\"].astype(int)\n",
    "data[\"PhysHlth\"] = data[\"PhysHlth\"].astype(int)\n",
    "data[\"DiffWalk\"] = data[\"DiffWalk\"].astype(int)\n",
    "data[\"Sex\"] = data[\"Sex\"].astype(int)\n",
    "data[\"Age\"] = data[\"Age\"].astype(int)\n",
    "data[\"Education\"] = data[\"Education\"].astype(int)\n",
    "data[\"Income\"] =data[\"Income\"].astype(int)"
   ]
  },
  {
   "cell_type": "code",
   "execution_count": 5,
   "id": "6002f598-96e8-43b5-9ce7-415d85033823",
   "metadata": {},
   "outputs": [
    {
     "data": {
      "text/plain": [
       "Diabetes_012            0\n",
       "HighBP                  0\n",
       "HighChol                0\n",
       "CholCheck               0\n",
       "BMI                     0\n",
       "Smoker                  0\n",
       "Stroke                  0\n",
       "HeartDiseaseorAttack    0\n",
       "PhysActivity            0\n",
       "Fruits                  0\n",
       "Veggies                 0\n",
       "HvyAlcoholConsump       0\n",
       "AnyHealthcare           0\n",
       "NoDocbcCost             0\n",
       "GenHlth                 0\n",
       "MentHlth                0\n",
       "PhysHlth                0\n",
       "DiffWalk                0\n",
       "Sex                     0\n",
       "Age                     0\n",
       "Education               0\n",
       "Income                  0\n",
       "dtype: int64"
      ]
     },
     "execution_count": 5,
     "metadata": {},
     "output_type": "execute_result"
    }
   ],
   "source": [
    "data.isna().sum()"
   ]
  },
  {
   "cell_type": "code",
   "execution_count": 6,
   "id": "9e56ad0d-ba44-4af7-a674-5d6a80ee0234",
   "metadata": {},
   "outputs": [
    {
     "name": "stdout",
     "output_type": "stream",
     "text": [
      "<class 'pandas.core.frame.DataFrame'>\n",
      "Index: 23899 entries, 1242 to 253638\n",
      "Data columns (total 22 columns):\n",
      " #   Column                Non-Null Count  Dtype  \n",
      "---  ------                --------------  -----  \n",
      " 0   Diabetes_012          23899 non-null  int64  \n",
      " 1   HighBP                23899 non-null  int64  \n",
      " 2   HighChol              23899 non-null  int64  \n",
      " 3   CholCheck             23899 non-null  int64  \n",
      " 4   BMI                   23899 non-null  int64  \n",
      " 5   Smoker                23899 non-null  int64  \n",
      " 6   Stroke                23899 non-null  int64  \n",
      " 7   HeartDiseaseorAttack  23899 non-null  int64  \n",
      " 8   PhysActivity          23899 non-null  int64  \n",
      " 9   Fruits                23899 non-null  int64  \n",
      " 10  Veggies               23899 non-null  int64  \n",
      " 11  HvyAlcoholConsump     23899 non-null  int64  \n",
      " 12  AnyHealthcare         23899 non-null  int64  \n",
      " 13  NoDocbcCost           23899 non-null  int64  \n",
      " 14  GenHlth               23899 non-null  int64  \n",
      " 15  MentHlth              23899 non-null  float64\n",
      " 16  PhysHlth              23899 non-null  int64  \n",
      " 17  DiffWalk              23899 non-null  int64  \n",
      " 18  Sex                   23899 non-null  int64  \n",
      " 19  Age                   23899 non-null  int64  \n",
      " 20  Education             23899 non-null  int64  \n",
      " 21  Income                23899 non-null  int64  \n",
      "dtypes: float64(1), int64(21)\n",
      "memory usage: 4.2 MB\n"
     ]
    }
   ],
   "source": [
    "duplicates = data[data.duplicated()]\n",
    "duplicates.info()"
   ]
  },
  {
   "cell_type": "code",
   "execution_count": 7,
   "id": "d8d6acff-954b-4d98-8533-fdc1c53150f3",
   "metadata": {},
   "outputs": [],
   "source": [
    "data.drop_duplicates(inplace = True)"
   ]
  },
  {
   "cell_type": "markdown",
   "id": "056b1404-1204-4236-83a2-8b16aa20a751",
   "metadata": {},
   "source": [
    "## 2. Разбиение на обучающую и тестовую выборки."
   ]
  },
  {
   "cell_type": "code",
   "execution_count": 8,
   "id": "119cd2ba-8f1a-4dca-b20c-4ac2f525921b",
   "metadata": {},
   "outputs": [],
   "source": [
    "y = data[\"Diabetes_012\"]\n",
    "X = data.drop([\"Diabetes_012\"], axis=1)"
   ]
  },
  {
   "cell_type": "code",
   "execution_count": 9,
   "id": "8a0d28ad-4490-4916-9612-42e4c8a39423",
   "metadata": {},
   "outputs": [],
   "source": [
    "from sklearn.preprocessing import StandardScaler\n",
    "from sklearn import preprocessing"
   ]
  },
  {
   "cell_type": "code",
   "execution_count": 10,
   "id": "1ef8f91e-83d2-4a7a-b4c0-7ee6ab8eb54f",
   "metadata": {},
   "outputs": [],
   "source": [
    "scaler = StandardScaler()\n",
    "X = scaler.fit_transform(X)"
   ]
  },
  {
   "cell_type": "code",
   "execution_count": 11,
   "id": "a60cc887-dfc4-4eac-b24d-e942f2412a4e",
   "metadata": {},
   "outputs": [
    {
     "data": {
      "text/plain": [
       "(190055, 21)"
      ]
     },
     "execution_count": 11,
     "metadata": {},
     "output_type": "execute_result"
    }
   ],
   "source": [
    "X[y==0].shape"
   ]
  },
  {
   "cell_type": "code",
   "execution_count": 12,
   "id": "2c3800e0-f83c-4aa9-8401-745784b0a291",
   "metadata": {},
   "outputs": [
    {
     "data": {
      "text/plain": [
       "(4629, 21)"
      ]
     },
     "execution_count": 12,
     "metadata": {},
     "output_type": "execute_result"
    }
   ],
   "source": [
    "X[y==1].shape"
   ]
  },
  {
   "cell_type": "code",
   "execution_count": 13,
   "id": "158561f9-86c0-4aa1-9664-8da54ee675a6",
   "metadata": {},
   "outputs": [],
   "source": [
    "from imblearn.under_sampling import RandomUnderSampler\n",
    "\n",
    "rus = RandomUnderSampler()\n",
    "X_res, y_res = rus.fit_resample(X, y)"
   ]
  },
  {
   "cell_type": "code",
   "execution_count": 14,
   "id": "f50c2280-e2ab-486f-90ac-4f19063e86dd",
   "metadata": {},
   "outputs": [],
   "source": [
    "from sklearn.model_selection import train_test_split"
   ]
  },
  {
   "cell_type": "code",
   "execution_count": 15,
   "id": "133610fe-cbe8-46a4-aeda-671c8a507378",
   "metadata": {},
   "outputs": [],
   "source": [
    "X_train, X_test, y_train, y_test = train_test_split(X_res,y_res,test_size=0.2,random_state=0)"
   ]
  },
  {
   "cell_type": "markdown",
   "id": "4f78b12a-43ee-481b-a1fe-92d18126a4b0",
   "metadata": {},
   "source": [
    "## 3. Обучение моделей."
   ]
  },
  {
   "cell_type": "markdown",
   "id": "77c4c158-42da-42f9-9a45-81b5dc0dbf85",
   "metadata": {},
   "source": [
    "### ML1. Naive Bayes."
   ]
  },
  {
   "cell_type": "code",
   "execution_count": 15,
   "id": "c26b51f9-4904-4d03-aaf1-62e6485bfd54",
   "metadata": {},
   "outputs": [],
   "source": [
    "from sklearn.naive_bayes import GaussianNB\n",
    "from sklearn.metrics import accuracy_score\n",
    "from sklearn.metrics import f1_score, classification_report"
   ]
  },
  {
   "cell_type": "code",
   "execution_count": 16,
   "id": "d5604098-857f-4f9b-9ae8-b58e22af5d79",
   "metadata": {},
   "outputs": [
    {
     "data": {
      "text/plain": [
       "0.47516198704103674"
      ]
     },
     "execution_count": 16,
     "metadata": {},
     "output_type": "execute_result"
    }
   ],
   "source": [
    "gnb = GaussianNB()\n",
    "gnb.fit(X_train, y_train)\n",
    "predictions_gnb= gnb.predict(X_test)\n",
    "accuracy_score(y_test, predictions_gnb)"
   ]
  },
  {
   "cell_type": "code",
   "execution_count": 17,
   "id": "ae84b298-c115-4d2d-98d0-36f373baea23",
   "metadata": {},
   "outputs": [
    {
     "name": "stdout",
     "output_type": "stream",
     "text": [
      "              precision    recall  f1-score   support\n",
      "\n",
      "           0       0.49      0.65      0.56       878\n",
      "           1       0.44      0.12      0.18       956\n",
      "           2       0.47      0.67      0.55       944\n",
      "\n",
      "    accuracy                           0.48      2778\n",
      "   macro avg       0.47      0.48      0.43      2778\n",
      "weighted avg       0.46      0.48      0.43      2778\n",
      "\n",
      "Predicted labels:  [2 0 1 ... 2 2 1]\n"
     ]
    }
   ],
   "source": [
    "predictions_gnb= gnb.predict(X_test)\n",
    "print(classification_report(y_test, predictions_gnb))\n",
    "print('Predicted labels: ', predictions_gnb)"
   ]
  },
  {
   "cell_type": "code",
   "execution_count": 51,
   "id": "f6dcd437-2b20-4e2d-9ff7-d293c58370ea",
   "metadata": {},
   "outputs": [],
   "source": [
    "with open('GaussianNB', 'wb') as f:\n",
    "    pickle.dump(gnb, f)"
   ]
  },
  {
   "cell_type": "markdown",
   "id": "8c5bbde3-3ed6-4646-8ee1-c1909dcabd56",
   "metadata": {},
   "source": [
    "### ML2. KMeans."
   ]
  },
  {
   "cell_type": "code",
   "execution_count": 18,
   "id": "a5b2cda1-ca2d-48f2-89db-daaaff37a8ab",
   "metadata": {},
   "outputs": [],
   "source": [
    "from sklearn.cluster import KMeans"
   ]
  },
  {
   "cell_type": "code",
   "execution_count": 19,
   "id": "d6abf90e-cf50-4f49-b504-4c3c21d0fce5",
   "metadata": {},
   "outputs": [],
   "source": [
    "kmeans = KMeans(n_clusters=3, random_state=100)"
   ]
  },
  {
   "cell_type": "code",
   "execution_count": 20,
   "id": "33a8b00f-5630-4eaf-8df9-20cb30f0844e",
   "metadata": {},
   "outputs": [
    {
     "name": "stderr",
     "output_type": "stream",
     "text": [
      "/Users/sergejkotov/Desktop/ml/venv/lib/python3.9/site-packages/sklearn/cluster/_kmeans.py:1416: FutureWarning: The default value of `n_init` will change from 10 to 'auto' in 1.4. Set the value of `n_init` explicitly to suppress the warning\n",
      "  super()._check_params_vs_input(X, default_n_init=10)\n"
     ]
    }
   ],
   "source": [
    "data_c = scaler.fit_transform(data)\n",
    "kmeans_fit = kmeans.fit(data_c)"
   ]
  },
  {
   "cell_type": "code",
   "execution_count": 21,
   "id": "45004249-2ab5-4b1e-bf37-9e2ab24c3068",
   "metadata": {},
   "outputs": [
    {
     "data": {
      "text/plain": [
       "array([[ 0.56993087,  0.4654769 ,  0.33931985,  0.096404  ,  0.40802286,\n",
       "         0.29719638,  0.51650313,  0.56337381, -0.6430796 , -0.16061844,\n",
       "        -0.24210088, -0.11384848, -0.07811914,  0.45785618,  1.25605876,\n",
       "         0.85368465,  1.46650668,  1.49470391, -0.15791768,  0.30116078,\n",
       "        -0.55987115, -0.8775252 ],\n",
       "       [ 0.20791379,  0.712017  ,  0.43093571,  0.17213617,  0.09713792,\n",
       "         0.10156407, -0.01948432,  0.11178221,  0.03093302,  0.02205819,\n",
       "        -0.00455621, -0.02860949,  0.14969538, -0.20143794,  0.00423124,\n",
       "        -0.27404566, -0.30471903, -0.2221605 ,  0.15267294,  0.55020885,\n",
       "        -0.03848094,  0.0517552 ],\n",
       "       [-0.38887673, -0.7520662 , -0.47763873, -0.17552791, -0.23696827,\n",
       "        -0.19729125, -0.18582979, -0.30929111,  0.22602246,  0.04496826,\n",
       "         0.09807294,  0.06732642, -0.08948052, -0.01716104, -0.49326782,\n",
       "        -0.11335961, -0.32778932, -0.40493905, -0.06074403, -0.55832741,\n",
       "         0.24919021,  0.30077456]])"
      ]
     },
     "execution_count": 21,
     "metadata": {},
     "output_type": "execute_result"
    }
   ],
   "source": [
    "kmeans_fit.cluster_centers_"
   ]
  },
  {
   "cell_type": "code",
   "execution_count": 22,
   "id": "d653e95f-56f6-4885-accd-7f74c48bc6eb",
   "metadata": {},
   "outputs": [],
   "source": [
    "pr = kmeans_fit.predict(data_c)"
   ]
  },
  {
   "cell_type": "code",
   "execution_count": 23,
   "id": "5ce1e261-f93a-434f-8dc2-e2ef25277958",
   "metadata": {},
   "outputs": [
    {
     "data": {
      "text/plain": [
       "4284406.7390978895"
      ]
     },
     "execution_count": 23,
     "metadata": {},
     "output_type": "execute_result"
    }
   ],
   "source": [
    "kmeans_fit.inertia_"
   ]
  },
  {
   "cell_type": "code",
   "execution_count": 24,
   "id": "3f03c59c-222d-4016-99c0-4b6ba31a8a23",
   "metadata": {},
   "outputs": [],
   "source": [
    "from sklearn.metrics import silhouette_score, silhouette_samples"
   ]
  },
  {
   "cell_type": "code",
   "execution_count": 25,
   "id": "fc74c18b-dccd-429c-b3c3-029a721e94c9",
   "metadata": {},
   "outputs": [
    {
     "data": {
      "text/plain": [
       "0.06966353131034572"
      ]
     },
     "execution_count": 25,
     "metadata": {},
     "output_type": "execute_result"
    }
   ],
   "source": [
    "silhouette_score(data_c, kmeans.labels_)"
   ]
  },
  {
   "cell_type": "code",
   "execution_count": 52,
   "id": "80dc9fbc-b04f-4241-ad48-158912680958",
   "metadata": {},
   "outputs": [],
   "source": [
    "with open('KMeans', 'wb') as f:\n",
    "    pickle.dump(kmeans, f)"
   ]
  },
  {
   "cell_type": "markdown",
   "id": "10db6bfb-21ee-4b38-837e-8652ddb9b446",
   "metadata": {},
   "source": [
    "### ML3. Gradient Boosting."
   ]
  },
  {
   "cell_type": "code",
   "execution_count": 26,
   "id": "4a39330d-07d8-42b9-8058-2cc4e8de8d84",
   "metadata": {},
   "outputs": [],
   "source": [
    "from sklearn.ensemble import BaggingClassifier, BaggingRegressor, GradientBoostingClassifier, GradientBoostingRegressor\n",
    "from sklearn.tree import DecisionTreeClassifier"
   ]
  },
  {
   "cell_type": "code",
   "execution_count": 27,
   "id": "ff492851-7daa-4a2e-bec8-fa2f6e55bbce",
   "metadata": {},
   "outputs": [],
   "source": [
    "base_class = DecisionTreeClassifier()\n",
    "gradient_classifier = GradientBoostingClassifier(learning_rate=0.1)"
   ]
  },
  {
   "cell_type": "code",
   "execution_count": 28,
   "id": "564d3901-e9d8-446f-927b-60ce7f2f96ae",
   "metadata": {},
   "outputs": [
    {
     "data": {
      "text/html": [
       "<style>#sk-container-id-1 {color: black;}#sk-container-id-1 pre{padding: 0;}#sk-container-id-1 div.sk-toggleable {background-color: white;}#sk-container-id-1 label.sk-toggleable__label {cursor: pointer;display: block;width: 100%;margin-bottom: 0;padding: 0.3em;box-sizing: border-box;text-align: center;}#sk-container-id-1 label.sk-toggleable__label-arrow:before {content: \"▸\";float: left;margin-right: 0.25em;color: #696969;}#sk-container-id-1 label.sk-toggleable__label-arrow:hover:before {color: black;}#sk-container-id-1 div.sk-estimator:hover label.sk-toggleable__label-arrow:before {color: black;}#sk-container-id-1 div.sk-toggleable__content {max-height: 0;max-width: 0;overflow: hidden;text-align: left;background-color: #f0f8ff;}#sk-container-id-1 div.sk-toggleable__content pre {margin: 0.2em;color: black;border-radius: 0.25em;background-color: #f0f8ff;}#sk-container-id-1 input.sk-toggleable__control:checked~div.sk-toggleable__content {max-height: 200px;max-width: 100%;overflow: auto;}#sk-container-id-1 input.sk-toggleable__control:checked~label.sk-toggleable__label-arrow:before {content: \"▾\";}#sk-container-id-1 div.sk-estimator input.sk-toggleable__control:checked~label.sk-toggleable__label {background-color: #d4ebff;}#sk-container-id-1 div.sk-label input.sk-toggleable__control:checked~label.sk-toggleable__label {background-color: #d4ebff;}#sk-container-id-1 input.sk-hidden--visually {border: 0;clip: rect(1px 1px 1px 1px);clip: rect(1px, 1px, 1px, 1px);height: 1px;margin: -1px;overflow: hidden;padding: 0;position: absolute;width: 1px;}#sk-container-id-1 div.sk-estimator {font-family: monospace;background-color: #f0f8ff;border: 1px dotted black;border-radius: 0.25em;box-sizing: border-box;margin-bottom: 0.5em;}#sk-container-id-1 div.sk-estimator:hover {background-color: #d4ebff;}#sk-container-id-1 div.sk-parallel-item::after {content: \"\";width: 100%;border-bottom: 1px solid gray;flex-grow: 1;}#sk-container-id-1 div.sk-label:hover label.sk-toggleable__label {background-color: #d4ebff;}#sk-container-id-1 div.sk-serial::before {content: \"\";position: absolute;border-left: 1px solid gray;box-sizing: border-box;top: 0;bottom: 0;left: 50%;z-index: 0;}#sk-container-id-1 div.sk-serial {display: flex;flex-direction: column;align-items: center;background-color: white;padding-right: 0.2em;padding-left: 0.2em;position: relative;}#sk-container-id-1 div.sk-item {position: relative;z-index: 1;}#sk-container-id-1 div.sk-parallel {display: flex;align-items: stretch;justify-content: center;background-color: white;position: relative;}#sk-container-id-1 div.sk-item::before, #sk-container-id-1 div.sk-parallel-item::before {content: \"\";position: absolute;border-left: 1px solid gray;box-sizing: border-box;top: 0;bottom: 0;left: 50%;z-index: -1;}#sk-container-id-1 div.sk-parallel-item {display: flex;flex-direction: column;z-index: 1;position: relative;background-color: white;}#sk-container-id-1 div.sk-parallel-item:first-child::after {align-self: flex-end;width: 50%;}#sk-container-id-1 div.sk-parallel-item:last-child::after {align-self: flex-start;width: 50%;}#sk-container-id-1 div.sk-parallel-item:only-child::after {width: 0;}#sk-container-id-1 div.sk-dashed-wrapped {border: 1px dashed gray;margin: 0 0.4em 0.5em 0.4em;box-sizing: border-box;padding-bottom: 0.4em;background-color: white;}#sk-container-id-1 div.sk-label label {font-family: monospace;font-weight: bold;display: inline-block;line-height: 1.2em;}#sk-container-id-1 div.sk-label-container {text-align: center;}#sk-container-id-1 div.sk-container {/* jupyter's `normalize.less` sets `[hidden] { display: none; }` but bootstrap.min.css set `[hidden] { display: none !important; }` so we also need the `!important` here to be able to override the default hidden behavior on the sphinx rendered scikit-learn.org. See: https://github.com/scikit-learn/scikit-learn/issues/21755 */display: inline-block !important;position: relative;}#sk-container-id-1 div.sk-text-repr-fallback {display: none;}</style><div id=\"sk-container-id-1\" class=\"sk-top-container\"><div class=\"sk-text-repr-fallback\"><pre>GradientBoostingClassifier()</pre><b>In a Jupyter environment, please rerun this cell to show the HTML representation or trust the notebook. <br />On GitHub, the HTML representation is unable to render, please try loading this page with nbviewer.org.</b></div><div class=\"sk-container\" hidden><div class=\"sk-item\"><div class=\"sk-estimator sk-toggleable\"><input class=\"sk-toggleable__control sk-hidden--visually\" id=\"sk-estimator-id-1\" type=\"checkbox\" checked><label for=\"sk-estimator-id-1\" class=\"sk-toggleable__label sk-toggleable__label-arrow\">GradientBoostingClassifier</label><div class=\"sk-toggleable__content\"><pre>GradientBoostingClassifier()</pre></div></div></div></div></div>"
      ],
      "text/plain": [
       "GradientBoostingClassifier()"
      ]
     },
     "execution_count": 28,
     "metadata": {},
     "output_type": "execute_result"
    }
   ],
   "source": [
    "gradient_classifier.fit(X_train, y_train)"
   ]
  },
  {
   "cell_type": "code",
   "execution_count": 29,
   "id": "92ce5023-2a8a-418b-88e5-616624894f58",
   "metadata": {},
   "outputs": [],
   "source": [
    "y_pred_gc = gradient_classifier.predict(X_test)"
   ]
  },
  {
   "cell_type": "code",
   "execution_count": 30,
   "id": "386ce697-5310-4dcc-b7c6-05472e460896",
   "metadata": {},
   "outputs": [
    {
     "name": "stdout",
     "output_type": "stream",
     "text": [
      "              precision    recall  f1-score   support\n",
      "\n",
      "           0       0.59      0.62      0.61       878\n",
      "           1       0.42      0.32      0.36       956\n",
      "           2       0.50      0.60      0.55       944\n",
      "\n",
      "    accuracy                           0.51      2778\n",
      "   macro avg       0.50      0.51      0.50      2778\n",
      "weighted avg       0.50      0.51      0.50      2778\n",
      "\n"
     ]
    }
   ],
   "source": [
    "print(classification_report(y_test, y_pred_gc))"
   ]
  },
  {
   "cell_type": "code",
   "execution_count": 53,
   "id": "fca20829-63b5-4914-811a-a2eb78018289",
   "metadata": {},
   "outputs": [],
   "source": [
    "with open('GradientBoosting', 'wb') as f:\n",
    "    pickle.dump(gradient_classifier, f)"
   ]
  },
  {
   "cell_type": "markdown",
   "id": "5917ec8b-3ccd-470f-83b4-65f4e88f406a",
   "metadata": {},
   "source": [
    "### ML4. Bagging."
   ]
  },
  {
   "cell_type": "code",
   "execution_count": 31,
   "id": "8b32e425-f336-49a4-9c58-895f6f44cc9a",
   "metadata": {},
   "outputs": [],
   "source": [
    "bagging_classifier = BaggingClassifier(base_class, n_estimators = 10)"
   ]
  },
  {
   "cell_type": "code",
   "execution_count": 32,
   "id": "f75df141-c1ac-4d29-812b-3ce4681f7429",
   "metadata": {},
   "outputs": [
    {
     "data": {
      "text/html": [
       "<style>#sk-container-id-2 {color: black;}#sk-container-id-2 pre{padding: 0;}#sk-container-id-2 div.sk-toggleable {background-color: white;}#sk-container-id-2 label.sk-toggleable__label {cursor: pointer;display: block;width: 100%;margin-bottom: 0;padding: 0.3em;box-sizing: border-box;text-align: center;}#sk-container-id-2 label.sk-toggleable__label-arrow:before {content: \"▸\";float: left;margin-right: 0.25em;color: #696969;}#sk-container-id-2 label.sk-toggleable__label-arrow:hover:before {color: black;}#sk-container-id-2 div.sk-estimator:hover label.sk-toggleable__label-arrow:before {color: black;}#sk-container-id-2 div.sk-toggleable__content {max-height: 0;max-width: 0;overflow: hidden;text-align: left;background-color: #f0f8ff;}#sk-container-id-2 div.sk-toggleable__content pre {margin: 0.2em;color: black;border-radius: 0.25em;background-color: #f0f8ff;}#sk-container-id-2 input.sk-toggleable__control:checked~div.sk-toggleable__content {max-height: 200px;max-width: 100%;overflow: auto;}#sk-container-id-2 input.sk-toggleable__control:checked~label.sk-toggleable__label-arrow:before {content: \"▾\";}#sk-container-id-2 div.sk-estimator input.sk-toggleable__control:checked~label.sk-toggleable__label {background-color: #d4ebff;}#sk-container-id-2 div.sk-label input.sk-toggleable__control:checked~label.sk-toggleable__label {background-color: #d4ebff;}#sk-container-id-2 input.sk-hidden--visually {border: 0;clip: rect(1px 1px 1px 1px);clip: rect(1px, 1px, 1px, 1px);height: 1px;margin: -1px;overflow: hidden;padding: 0;position: absolute;width: 1px;}#sk-container-id-2 div.sk-estimator {font-family: monospace;background-color: #f0f8ff;border: 1px dotted black;border-radius: 0.25em;box-sizing: border-box;margin-bottom: 0.5em;}#sk-container-id-2 div.sk-estimator:hover {background-color: #d4ebff;}#sk-container-id-2 div.sk-parallel-item::after {content: \"\";width: 100%;border-bottom: 1px solid gray;flex-grow: 1;}#sk-container-id-2 div.sk-label:hover label.sk-toggleable__label {background-color: #d4ebff;}#sk-container-id-2 div.sk-serial::before {content: \"\";position: absolute;border-left: 1px solid gray;box-sizing: border-box;top: 0;bottom: 0;left: 50%;z-index: 0;}#sk-container-id-2 div.sk-serial {display: flex;flex-direction: column;align-items: center;background-color: white;padding-right: 0.2em;padding-left: 0.2em;position: relative;}#sk-container-id-2 div.sk-item {position: relative;z-index: 1;}#sk-container-id-2 div.sk-parallel {display: flex;align-items: stretch;justify-content: center;background-color: white;position: relative;}#sk-container-id-2 div.sk-item::before, #sk-container-id-2 div.sk-parallel-item::before {content: \"\";position: absolute;border-left: 1px solid gray;box-sizing: border-box;top: 0;bottom: 0;left: 50%;z-index: -1;}#sk-container-id-2 div.sk-parallel-item {display: flex;flex-direction: column;z-index: 1;position: relative;background-color: white;}#sk-container-id-2 div.sk-parallel-item:first-child::after {align-self: flex-end;width: 50%;}#sk-container-id-2 div.sk-parallel-item:last-child::after {align-self: flex-start;width: 50%;}#sk-container-id-2 div.sk-parallel-item:only-child::after {width: 0;}#sk-container-id-2 div.sk-dashed-wrapped {border: 1px dashed gray;margin: 0 0.4em 0.5em 0.4em;box-sizing: border-box;padding-bottom: 0.4em;background-color: white;}#sk-container-id-2 div.sk-label label {font-family: monospace;font-weight: bold;display: inline-block;line-height: 1.2em;}#sk-container-id-2 div.sk-label-container {text-align: center;}#sk-container-id-2 div.sk-container {/* jupyter's `normalize.less` sets `[hidden] { display: none; }` but bootstrap.min.css set `[hidden] { display: none !important; }` so we also need the `!important` here to be able to override the default hidden behavior on the sphinx rendered scikit-learn.org. See: https://github.com/scikit-learn/scikit-learn/issues/21755 */display: inline-block !important;position: relative;}#sk-container-id-2 div.sk-text-repr-fallback {display: none;}</style><div id=\"sk-container-id-2\" class=\"sk-top-container\"><div class=\"sk-text-repr-fallback\"><pre>BaggingClassifier(estimator=DecisionTreeClassifier())</pre><b>In a Jupyter environment, please rerun this cell to show the HTML representation or trust the notebook. <br />On GitHub, the HTML representation is unable to render, please try loading this page with nbviewer.org.</b></div><div class=\"sk-container\" hidden><div class=\"sk-item sk-dashed-wrapped\"><div class=\"sk-label-container\"><div class=\"sk-label sk-toggleable\"><input class=\"sk-toggleable__control sk-hidden--visually\" id=\"sk-estimator-id-2\" type=\"checkbox\" ><label for=\"sk-estimator-id-2\" class=\"sk-toggleable__label sk-toggleable__label-arrow\">BaggingClassifier</label><div class=\"sk-toggleable__content\"><pre>BaggingClassifier(estimator=DecisionTreeClassifier())</pre></div></div></div><div class=\"sk-parallel\"><div class=\"sk-parallel-item\"><div class=\"sk-item\"><div class=\"sk-label-container\"><div class=\"sk-label sk-toggleable\"><input class=\"sk-toggleable__control sk-hidden--visually\" id=\"sk-estimator-id-3\" type=\"checkbox\" ><label for=\"sk-estimator-id-3\" class=\"sk-toggleable__label sk-toggleable__label-arrow\">estimator: DecisionTreeClassifier</label><div class=\"sk-toggleable__content\"><pre>DecisionTreeClassifier()</pre></div></div></div><div class=\"sk-serial\"><div class=\"sk-item\"><div class=\"sk-estimator sk-toggleable\"><input class=\"sk-toggleable__control sk-hidden--visually\" id=\"sk-estimator-id-4\" type=\"checkbox\" ><label for=\"sk-estimator-id-4\" class=\"sk-toggleable__label sk-toggleable__label-arrow\">DecisionTreeClassifier</label><div class=\"sk-toggleable__content\"><pre>DecisionTreeClassifier()</pre></div></div></div></div></div></div></div></div></div></div>"
      ],
      "text/plain": [
       "BaggingClassifier(estimator=DecisionTreeClassifier())"
      ]
     },
     "execution_count": 32,
     "metadata": {},
     "output_type": "execute_result"
    }
   ],
   "source": [
    "bagging_classifier.fit(X_train, y_train)"
   ]
  },
  {
   "cell_type": "code",
   "execution_count": 33,
   "id": "674b7dc9-2b1a-453b-a403-ef63a5d95e3b",
   "metadata": {},
   "outputs": [],
   "source": [
    "y_pred_bc = bagging_classifier.predict(X_test)"
   ]
  },
  {
   "cell_type": "code",
   "execution_count": 34,
   "id": "dd026521-daa6-4068-8643-c1a32804cda1",
   "metadata": {},
   "outputs": [
    {
     "name": "stdout",
     "output_type": "stream",
     "text": [
      "              precision    recall  f1-score   support\n",
      "\n",
      "           0       0.53      0.58      0.55       878\n",
      "           1       0.39      0.36      0.37       956\n",
      "           2       0.47      0.46      0.46       944\n",
      "\n",
      "    accuracy                           0.46      2778\n",
      "   macro avg       0.46      0.47      0.46      2778\n",
      "weighted avg       0.46      0.46      0.46      2778\n",
      "\n"
     ]
    }
   ],
   "source": [
    "print(classification_report(y_test, y_pred_bc))"
   ]
  },
  {
   "cell_type": "code",
   "execution_count": 54,
   "id": "8e12bf5f-0570-4ff5-90f6-62986fd1e515",
   "metadata": {},
   "outputs": [],
   "source": [
    "with open('Bagging', 'wb') as f:\n",
    "    pickle.dump(bagging_classifier, f)"
   ]
  },
  {
   "cell_type": "markdown",
   "id": "40031e31-850d-406d-89d2-04f3b9c52663",
   "metadata": {},
   "source": [
    "### ML5. Stacking."
   ]
  },
  {
   "cell_type": "code",
   "execution_count": 35,
   "id": "85eff148-2f4c-4259-a3ca-f5cec56a519a",
   "metadata": {},
   "outputs": [],
   "source": [
    "from sklearn.linear_model import LogisticRegression\n",
    "from sklearn.ensemble import StackingClassifier"
   ]
  },
  {
   "cell_type": "code",
   "execution_count": 36,
   "id": "2a3bc56d-963a-4343-8080-0d1beb8b95e9",
   "metadata": {},
   "outputs": [],
   "source": [
    "base_models_class = [\n",
    "    ('gnb', GaussianNB()),\n",
    "    ('LogisticRegression', LogisticRegression(C=0.1, penalty='l1', solver='liblinear', max_iter=200, class_weight='balanced'))\n",
    "]"
   ]
  },
  {
   "cell_type": "code",
   "execution_count": 37,
   "id": "5016b5e0-61cb-4bf0-b315-fb297f154b65",
   "metadata": {},
   "outputs": [],
   "source": [
    "stacking_classifier = StackingClassifier(estimators=base_models_class, final_estimator=DecisionTreeClassifier())"
   ]
  },
  {
   "cell_type": "code",
   "execution_count": 38,
   "id": "ac461f7c-2f52-4b8d-a582-7f6c220917b2",
   "metadata": {},
   "outputs": [
    {
     "data": {
      "text/html": [
       "<style>#sk-container-id-3 {color: black;}#sk-container-id-3 pre{padding: 0;}#sk-container-id-3 div.sk-toggleable {background-color: white;}#sk-container-id-3 label.sk-toggleable__label {cursor: pointer;display: block;width: 100%;margin-bottom: 0;padding: 0.3em;box-sizing: border-box;text-align: center;}#sk-container-id-3 label.sk-toggleable__label-arrow:before {content: \"▸\";float: left;margin-right: 0.25em;color: #696969;}#sk-container-id-3 label.sk-toggleable__label-arrow:hover:before {color: black;}#sk-container-id-3 div.sk-estimator:hover label.sk-toggleable__label-arrow:before {color: black;}#sk-container-id-3 div.sk-toggleable__content {max-height: 0;max-width: 0;overflow: hidden;text-align: left;background-color: #f0f8ff;}#sk-container-id-3 div.sk-toggleable__content pre {margin: 0.2em;color: black;border-radius: 0.25em;background-color: #f0f8ff;}#sk-container-id-3 input.sk-toggleable__control:checked~div.sk-toggleable__content {max-height: 200px;max-width: 100%;overflow: auto;}#sk-container-id-3 input.sk-toggleable__control:checked~label.sk-toggleable__label-arrow:before {content: \"▾\";}#sk-container-id-3 div.sk-estimator input.sk-toggleable__control:checked~label.sk-toggleable__label {background-color: #d4ebff;}#sk-container-id-3 div.sk-label input.sk-toggleable__control:checked~label.sk-toggleable__label {background-color: #d4ebff;}#sk-container-id-3 input.sk-hidden--visually {border: 0;clip: rect(1px 1px 1px 1px);clip: rect(1px, 1px, 1px, 1px);height: 1px;margin: -1px;overflow: hidden;padding: 0;position: absolute;width: 1px;}#sk-container-id-3 div.sk-estimator {font-family: monospace;background-color: #f0f8ff;border: 1px dotted black;border-radius: 0.25em;box-sizing: border-box;margin-bottom: 0.5em;}#sk-container-id-3 div.sk-estimator:hover {background-color: #d4ebff;}#sk-container-id-3 div.sk-parallel-item::after {content: \"\";width: 100%;border-bottom: 1px solid gray;flex-grow: 1;}#sk-container-id-3 div.sk-label:hover label.sk-toggleable__label {background-color: #d4ebff;}#sk-container-id-3 div.sk-serial::before {content: \"\";position: absolute;border-left: 1px solid gray;box-sizing: border-box;top: 0;bottom: 0;left: 50%;z-index: 0;}#sk-container-id-3 div.sk-serial {display: flex;flex-direction: column;align-items: center;background-color: white;padding-right: 0.2em;padding-left: 0.2em;position: relative;}#sk-container-id-3 div.sk-item {position: relative;z-index: 1;}#sk-container-id-3 div.sk-parallel {display: flex;align-items: stretch;justify-content: center;background-color: white;position: relative;}#sk-container-id-3 div.sk-item::before, #sk-container-id-3 div.sk-parallel-item::before {content: \"\";position: absolute;border-left: 1px solid gray;box-sizing: border-box;top: 0;bottom: 0;left: 50%;z-index: -1;}#sk-container-id-3 div.sk-parallel-item {display: flex;flex-direction: column;z-index: 1;position: relative;background-color: white;}#sk-container-id-3 div.sk-parallel-item:first-child::after {align-self: flex-end;width: 50%;}#sk-container-id-3 div.sk-parallel-item:last-child::after {align-self: flex-start;width: 50%;}#sk-container-id-3 div.sk-parallel-item:only-child::after {width: 0;}#sk-container-id-3 div.sk-dashed-wrapped {border: 1px dashed gray;margin: 0 0.4em 0.5em 0.4em;box-sizing: border-box;padding-bottom: 0.4em;background-color: white;}#sk-container-id-3 div.sk-label label {font-family: monospace;font-weight: bold;display: inline-block;line-height: 1.2em;}#sk-container-id-3 div.sk-label-container {text-align: center;}#sk-container-id-3 div.sk-container {/* jupyter's `normalize.less` sets `[hidden] { display: none; }` but bootstrap.min.css set `[hidden] { display: none !important; }` so we also need the `!important` here to be able to override the default hidden behavior on the sphinx rendered scikit-learn.org. See: https://github.com/scikit-learn/scikit-learn/issues/21755 */display: inline-block !important;position: relative;}#sk-container-id-3 div.sk-text-repr-fallback {display: none;}</style><div id=\"sk-container-id-3\" class=\"sk-top-container\"><div class=\"sk-text-repr-fallback\"><pre>StackingClassifier(estimators=[(&#x27;gnb&#x27;, GaussianNB()),\n",
       "                               (&#x27;LogisticRegression&#x27;,\n",
       "                                LogisticRegression(C=0.1,\n",
       "                                                   class_weight=&#x27;balanced&#x27;,\n",
       "                                                   max_iter=200, penalty=&#x27;l1&#x27;,\n",
       "                                                   solver=&#x27;liblinear&#x27;))],\n",
       "                   final_estimator=DecisionTreeClassifier())</pre><b>In a Jupyter environment, please rerun this cell to show the HTML representation or trust the notebook. <br />On GitHub, the HTML representation is unable to render, please try loading this page with nbviewer.org.</b></div><div class=\"sk-container\" hidden><div class=\"sk-item sk-dashed-wrapped\"><div class=\"sk-label-container\"><div class=\"sk-label sk-toggleable\"><input class=\"sk-toggleable__control sk-hidden--visually\" id=\"sk-estimator-id-5\" type=\"checkbox\" ><label for=\"sk-estimator-id-5\" class=\"sk-toggleable__label sk-toggleable__label-arrow\">StackingClassifier</label><div class=\"sk-toggleable__content\"><pre>StackingClassifier(estimators=[(&#x27;gnb&#x27;, GaussianNB()),\n",
       "                               (&#x27;LogisticRegression&#x27;,\n",
       "                                LogisticRegression(C=0.1,\n",
       "                                                   class_weight=&#x27;balanced&#x27;,\n",
       "                                                   max_iter=200, penalty=&#x27;l1&#x27;,\n",
       "                                                   solver=&#x27;liblinear&#x27;))],\n",
       "                   final_estimator=DecisionTreeClassifier())</pre></div></div></div><div class=\"sk-serial\"><div class=\"sk-item\"><div class=\"sk-parallel\"><div class=\"sk-parallel-item\"><div class=\"sk-item\"><div class=\"sk-label-container\"><div class=\"sk-label sk-toggleable\"><label>gnb</label></div></div><div class=\"sk-serial\"><div class=\"sk-item\"><div class=\"sk-estimator sk-toggleable\"><input class=\"sk-toggleable__control sk-hidden--visually\" id=\"sk-estimator-id-6\" type=\"checkbox\" ><label for=\"sk-estimator-id-6\" class=\"sk-toggleable__label sk-toggleable__label-arrow\">GaussianNB</label><div class=\"sk-toggleable__content\"><pre>GaussianNB()</pre></div></div></div></div></div></div><div class=\"sk-parallel-item\"><div class=\"sk-item\"><div class=\"sk-label-container\"><div class=\"sk-label sk-toggleable\"><label>LogisticRegression</label></div></div><div class=\"sk-serial\"><div class=\"sk-item\"><div class=\"sk-estimator sk-toggleable\"><input class=\"sk-toggleable__control sk-hidden--visually\" id=\"sk-estimator-id-7\" type=\"checkbox\" ><label for=\"sk-estimator-id-7\" class=\"sk-toggleable__label sk-toggleable__label-arrow\">LogisticRegression</label><div class=\"sk-toggleable__content\"><pre>LogisticRegression(C=0.1, class_weight=&#x27;balanced&#x27;, max_iter=200, penalty=&#x27;l1&#x27;,\n",
       "                   solver=&#x27;liblinear&#x27;)</pre></div></div></div></div></div></div></div></div><div class=\"sk-item\"><div class=\"sk-parallel\"><div class=\"sk-parallel-item\"><div class=\"sk-item\"><div class=\"sk-label-container\"><div class=\"sk-label sk-toggleable\"><label>final_estimator</label></div></div><div class=\"sk-serial\"><div class=\"sk-item\"><div class=\"sk-estimator sk-toggleable\"><input class=\"sk-toggleable__control sk-hidden--visually\" id=\"sk-estimator-id-8\" type=\"checkbox\" ><label for=\"sk-estimator-id-8\" class=\"sk-toggleable__label sk-toggleable__label-arrow\">DecisionTreeClassifier</label><div class=\"sk-toggleable__content\"><pre>DecisionTreeClassifier()</pre></div></div></div></div></div></div></div></div></div></div></div></div>"
      ],
      "text/plain": [
       "StackingClassifier(estimators=[('gnb', GaussianNB()),\n",
       "                               ('LogisticRegression',\n",
       "                                LogisticRegression(C=0.1,\n",
       "                                                   class_weight='balanced',\n",
       "                                                   max_iter=200, penalty='l1',\n",
       "                                                   solver='liblinear'))],\n",
       "                   final_estimator=DecisionTreeClassifier())"
      ]
     },
     "execution_count": 38,
     "metadata": {},
     "output_type": "execute_result"
    }
   ],
   "source": [
    "stacking_classifier.fit(X_train, y_train)"
   ]
  },
  {
   "cell_type": "code",
   "execution_count": 39,
   "id": "cfa4e5bb-350e-4269-bba3-a783dc05b7ec",
   "metadata": {},
   "outputs": [],
   "source": [
    "y_pred_stacking_classifier = stacking_classifier.predict(X_test)"
   ]
  },
  {
   "cell_type": "code",
   "execution_count": 40,
   "id": "37ef35cd-b21e-4a5e-9b1a-8420259db435",
   "metadata": {},
   "outputs": [
    {
     "name": "stdout",
     "output_type": "stream",
     "text": [
      "              precision    recall  f1-score   support\n",
      "\n",
      "           0       0.48      0.51      0.49       878\n",
      "           1       0.35      0.33      0.34       956\n",
      "           2       0.42      0.43      0.43       944\n",
      "\n",
      "    accuracy                           0.42      2778\n",
      "   macro avg       0.42      0.42      0.42      2778\n",
      "weighted avg       0.42      0.42      0.42      2778\n",
      "\n"
     ]
    }
   ],
   "source": [
    "print(classification_report(y_test, y_pred_stacking_classifier))"
   ]
  },
  {
   "cell_type": "code",
   "execution_count": 55,
   "id": "ca053559-7766-4ac4-b969-1d4bfe7a74f9",
   "metadata": {},
   "outputs": [],
   "source": [
    "with open('Stacking', 'wb') as f:\n",
    "    pickle.dump(stacking_classifier, f)"
   ]
  },
  {
   "cell_type": "markdown",
   "id": "5cb01a37-e816-43ff-a402-7f2dc9f8b77d",
   "metadata": {},
   "source": [
    "### ML6. Fully-connected Deep Neural Network (Keras)."
   ]
  },
  {
   "cell_type": "code",
   "execution_count": 16,
   "id": "a5858a25-a148-4c16-849c-0cb490577a0a",
   "metadata": {},
   "outputs": [],
   "source": [
    "from keras.models import Sequential\n",
    "from keras.layers import Dense"
   ]
  },
  {
   "cell_type": "code",
   "execution_count": 17,
   "id": "9802c18d-0411-4198-87a9-614fa65df7f9",
   "metadata": {},
   "outputs": [],
   "source": [
    "model = Sequential()"
   ]
  },
  {
   "cell_type": "code",
   "execution_count": 18,
   "id": "e3dfc340-9146-4796-81f5-3edc8a006930",
   "metadata": {},
   "outputs": [
    {
     "name": "stderr",
     "output_type": "stream",
     "text": [
      "/Users/sergejkotov/Desktop/ml/venv/lib/python3.9/site-packages/keras/src/layers/core/dense.py:73: UserWarning: Do not pass an `input_shape`/`input_dim` argument to a layer. When using Sequential models, prefer using an `Input(shape)` object as the first layer in the model instead.\n",
      "  super().__init__(activity_regularizer=activity_regularizer, **kwargs)\n"
     ]
    }
   ],
   "source": [
    "model.add(Dense(64, input_dim=X_train.shape[1], activation='relu'))"
   ]
  },
  {
   "cell_type": "code",
   "execution_count": 19,
   "id": "e9e143cd-397c-4643-a13d-aef834933234",
   "metadata": {},
   "outputs": [],
   "source": [
    "model.add(Dense(128, activation='relu'))\n",
    "model.add(Dense(128, activation='relu'))"
   ]
  },
  {
   "cell_type": "code",
   "execution_count": 20,
   "id": "8b81e1b9-c4a8-497f-abc7-c703c969918a",
   "metadata": {},
   "outputs": [],
   "source": [
    "model.add(Dense(1, activation='sigmoid'))"
   ]
  },
  {
   "cell_type": "code",
   "execution_count": 21,
   "id": "c1f8939c-6eb0-4d3b-a64a-a59d4927e1ec",
   "metadata": {},
   "outputs": [],
   "source": [
    "model.compile(loss='binary_crossentropy', optimizer='adam', metrics=['accuracy'])"
   ]
  },
  {
   "cell_type": "code",
   "execution_count": 23,
   "id": "c94ccc8f-9932-4296-a1ba-751f3bac8655",
   "metadata": {},
   "outputs": [
    {
     "name": "stdout",
     "output_type": "stream",
     "text": [
      "Epoch 1/100\n",
      "\u001b[1m348/348\u001b[0m \u001b[32m━━━━━━━━━━━━━━━━━━━━\u001b[0m\u001b[37m\u001b[0m \u001b[1m0s\u001b[0m 676us/step - accuracy: 0.4028 - loss: -301786016.0000 - val_accuracy: 0.4165 - val_loss: -403373984.0000\n",
      "Epoch 2/100\n",
      "\u001b[1m348/348\u001b[0m \u001b[32m━━━━━━━━━━━━━━━━━━━━\u001b[0m\u001b[37m\u001b[0m \u001b[1m0s\u001b[0m 639us/step - accuracy: 0.3933 - loss: -418263104.0000 - val_accuracy: 0.3708 - val_loss: -534992576.0000\n",
      "Epoch 3/100\n",
      "\u001b[1m348/348\u001b[0m \u001b[32m━━━━━━━━━━━━━━━━━━━━\u001b[0m\u001b[37m\u001b[0m \u001b[1m0s\u001b[0m 614us/step - accuracy: 0.4026 - loss: -558678528.0000 - val_accuracy: 0.4212 - val_loss: -693155968.0000\n",
      "Epoch 4/100\n",
      "\u001b[1m348/348\u001b[0m \u001b[32m━━━━━━━━━━━━━━━━━━━━\u001b[0m\u001b[37m\u001b[0m \u001b[1m0s\u001b[0m 652us/step - accuracy: 0.3923 - loss: -697791872.0000 - val_accuracy: 0.3438 - val_loss: -881029760.0000\n",
      "Epoch 5/100\n",
      "\u001b[1m348/348\u001b[0m \u001b[32m━━━━━━━━━━━━━━━━━━━━\u001b[0m\u001b[37m\u001b[0m \u001b[1m0s\u001b[0m 642us/step - accuracy: 0.3916 - loss: -854006976.0000 - val_accuracy: 0.3445 - val_loss: -1096986112.0000\n",
      "Epoch 6/100\n",
      "\u001b[1m348/348\u001b[0m \u001b[32m━━━━━━━━━━━━━━━━━━━━\u001b[0m\u001b[37m\u001b[0m \u001b[1m0s\u001b[0m 650us/step - accuracy: 0.4015 - loss: -1032939584.0000 - val_accuracy: 0.4219 - val_loss: -1345359232.0000\n",
      "Epoch 7/100\n",
      "\u001b[1m348/348\u001b[0m \u001b[32m━━━━━━━━━━━━━━━━━━━━\u001b[0m\u001b[37m\u001b[0m \u001b[1m0s\u001b[0m 619us/step - accuracy: 0.3962 - loss: -1323025536.0000 - val_accuracy: 0.4284 - val_loss: -1631474688.0000\n",
      "Epoch 8/100\n",
      "\u001b[1m348/348\u001b[0m \u001b[32m━━━━━━━━━━━━━━━━━━━━\u001b[0m\u001b[37m\u001b[0m \u001b[1m0s\u001b[0m 645us/step - accuracy: 0.3883 - loss: -1594852992.0000 - val_accuracy: 0.4161 - val_loss: -1956803072.0000\n",
      "Epoch 9/100\n",
      "\u001b[1m348/348\u001b[0m \u001b[32m━━━━━━━━━━━━━━━━━━━━\u001b[0m\u001b[37m\u001b[0m \u001b[1m0s\u001b[0m 610us/step - accuracy: 0.3994 - loss: -1909430528.0000 - val_accuracy: 0.3751 - val_loss: -2321248512.0000\n",
      "Epoch 10/100\n",
      "\u001b[1m348/348\u001b[0m \u001b[32m━━━━━━━━━━━━━━━━━━━━\u001b[0m\u001b[37m\u001b[0m \u001b[1m0s\u001b[0m 632us/step - accuracy: 0.3865 - loss: -2246149632.0000 - val_accuracy: 0.4309 - val_loss: -2729691648.0000\n",
      "Epoch 11/100\n",
      "\u001b[1m348/348\u001b[0m \u001b[32m━━━━━━━━━━━━━━━━━━━━\u001b[0m\u001b[37m\u001b[0m \u001b[1m0s\u001b[0m 632us/step - accuracy: 0.3995 - loss: -2592335360.0000 - val_accuracy: 0.4219 - val_loss: -3183663872.0000\n",
      "Epoch 12/100\n",
      "\u001b[1m348/348\u001b[0m \u001b[32m━━━━━━━━━━━━━━━━━━━━\u001b[0m\u001b[37m\u001b[0m \u001b[1m0s\u001b[0m 649us/step - accuracy: 0.3933 - loss: -3173520896.0000 - val_accuracy: 0.4244 - val_loss: -3689784064.0000\n",
      "Epoch 13/100\n",
      "\u001b[1m348/348\u001b[0m \u001b[32m━━━━━━━━━━━━━━━━━━━━\u001b[0m\u001b[37m\u001b[0m \u001b[1m0s\u001b[0m 744us/step - accuracy: 0.3988 - loss: -3620035584.0000 - val_accuracy: 0.4287 - val_loss: -4248602880.0000\n",
      "Epoch 14/100\n",
      "\u001b[1m348/348\u001b[0m \u001b[32m━━━━━━━━━━━━━━━━━━━━\u001b[0m\u001b[37m\u001b[0m \u001b[1m0s\u001b[0m 733us/step - accuracy: 0.3914 - loss: -4122768640.0000 - val_accuracy: 0.4273 - val_loss: -4857977856.0000\n",
      "Epoch 15/100\n",
      "\u001b[1m348/348\u001b[0m \u001b[32m━━━━━━━━━━━━━━━━━━━━\u001b[0m\u001b[37m\u001b[0m \u001b[1m0s\u001b[0m 696us/step - accuracy: 0.3981 - loss: -4737842688.0000 - val_accuracy: 0.4291 - val_loss: -5527184384.0000\n",
      "Epoch 16/100\n",
      "\u001b[1m348/348\u001b[0m \u001b[32m━━━━━━━━━━━━━━━━━━━━\u001b[0m\u001b[37m\u001b[0m \u001b[1m0s\u001b[0m 622us/step - accuracy: 0.3942 - loss: -5164271616.0000 - val_accuracy: 0.3438 - val_loss: -6248544768.0000\n",
      "Epoch 17/100\n",
      "\u001b[1m348/348\u001b[0m \u001b[32m━━━━━━━━━━━━━━━━━━━━\u001b[0m\u001b[37m\u001b[0m \u001b[1m0s\u001b[0m 657us/step - accuracy: 0.3911 - loss: -6193213952.0000 - val_accuracy: 0.3902 - val_loss: -7041641984.0000\n",
      "Epoch 18/100\n",
      "\u001b[1m348/348\u001b[0m \u001b[32m━━━━━━━━━━━━━━━━━━━━\u001b[0m\u001b[37m\u001b[0m \u001b[1m0s\u001b[0m 672us/step - accuracy: 0.3930 - loss: -7045020160.0000 - val_accuracy: 0.4118 - val_loss: -7903774720.0000\n",
      "Epoch 19/100\n",
      "\u001b[1m348/348\u001b[0m \u001b[32m━━━━━━━━━━━━━━━━━━━━\u001b[0m\u001b[37m\u001b[0m \u001b[1m0s\u001b[0m 649us/step - accuracy: 0.3909 - loss: -7508609536.0000 - val_accuracy: 0.4190 - val_loss: -8834952192.0000\n",
      "Epoch 20/100\n",
      "\u001b[1m348/348\u001b[0m \u001b[32m━━━━━━━━━━━━━━━━━━━━\u001b[0m\u001b[37m\u001b[0m \u001b[1m0s\u001b[0m 638us/step - accuracy: 0.3929 - loss: -8482101760.0000 - val_accuracy: 0.4161 - val_loss: -9839971328.0000\n",
      "Epoch 21/100\n",
      "\u001b[1m348/348\u001b[0m \u001b[32m━━━━━━━━━━━━━━━━━━━━\u001b[0m\u001b[37m\u001b[0m \u001b[1m0s\u001b[0m 652us/step - accuracy: 0.3856 - loss: -8907879424.0000 - val_accuracy: 0.4158 - val_loss: -10928576512.0000\n",
      "Epoch 22/100\n",
      "\u001b[1m348/348\u001b[0m \u001b[32m━━━━━━━━━━━━━━━━━━━━\u001b[0m\u001b[37m\u001b[0m \u001b[1m0s\u001b[0m 643us/step - accuracy: 0.4031 - loss: -10232082432.0000 - val_accuracy: 0.3438 - val_loss: -12074318848.0000\n",
      "Epoch 23/100\n",
      "\u001b[1m348/348\u001b[0m \u001b[32m━━━━━━━━━━━━━━━━━━━━\u001b[0m\u001b[37m\u001b[0m \u001b[1m0s\u001b[0m 679us/step - accuracy: 0.3874 - loss: -11960054784.0000 - val_accuracy: 0.4219 - val_loss: -13316836352.0000\n",
      "Epoch 24/100\n",
      "\u001b[1m348/348\u001b[0m \u001b[32m━━━━━━━━━━━━━━━━━━━━\u001b[0m\u001b[37m\u001b[0m \u001b[1m0s\u001b[0m 642us/step - accuracy: 0.3972 - loss: -12140029952.0000 - val_accuracy: 0.4230 - val_loss: -14636865536.0000\n",
      "Epoch 25/100\n",
      "\u001b[1m348/348\u001b[0m \u001b[32m━━━━━━━━━━━━━━━━━━━━\u001b[0m\u001b[37m\u001b[0m \u001b[1m0s\u001b[0m 731us/step - accuracy: 0.3923 - loss: -14060916736.0000 - val_accuracy: 0.4233 - val_loss: -16056566784.0000\n",
      "Epoch 26/100\n",
      "\u001b[1m348/348\u001b[0m \u001b[32m━━━━━━━━━━━━━━━━━━━━\u001b[0m\u001b[37m\u001b[0m \u001b[1m0s\u001b[0m 718us/step - accuracy: 0.4001 - loss: -14902619136.0000 - val_accuracy: 0.3988 - val_loss: -17573677056.0000\n",
      "Epoch 27/100\n",
      "\u001b[1m348/348\u001b[0m \u001b[32m━━━━━━━━━━━━━━━━━━━━\u001b[0m\u001b[37m\u001b[0m \u001b[1m0s\u001b[0m 737us/step - accuracy: 0.3872 - loss: -16971914240.0000 - val_accuracy: 0.4194 - val_loss: -19154323456.0000\n",
      "Epoch 28/100\n",
      "\u001b[1m348/348\u001b[0m \u001b[32m━━━━━━━━━━━━━━━━━━━━\u001b[0m\u001b[37m\u001b[0m \u001b[1m0s\u001b[0m 711us/step - accuracy: 0.3926 - loss: -18290434048.0000 - val_accuracy: 0.3438 - val_loss: -20856754176.0000\n",
      "Epoch 29/100\n",
      "\u001b[1m348/348\u001b[0m \u001b[32m━━━━━━━━━━━━━━━━━━━━\u001b[0m\u001b[37m\u001b[0m \u001b[1m0s\u001b[0m 732us/step - accuracy: 0.3988 - loss: -20840181760.0000 - val_accuracy: 0.4237 - val_loss: -22664640512.0000\n",
      "Epoch 30/100\n",
      "\u001b[1m348/348\u001b[0m \u001b[32m━━━━━━━━━━━━━━━━━━━━\u001b[0m\u001b[37m\u001b[0m \u001b[1m0s\u001b[0m 758us/step - accuracy: 0.3891 - loss: -21374818304.0000 - val_accuracy: 0.4280 - val_loss: -24567785472.0000\n",
      "Epoch 31/100\n",
      "\u001b[1m348/348\u001b[0m \u001b[32m━━━━━━━━━━━━━━━━━━━━\u001b[0m\u001b[37m\u001b[0m \u001b[1m0s\u001b[0m 739us/step - accuracy: 0.3926 - loss: -24144054272.0000 - val_accuracy: 0.4273 - val_loss: -26601981952.0000\n",
      "Epoch 32/100\n",
      "\u001b[1m348/348\u001b[0m \u001b[32m━━━━━━━━━━━━━━━━━━━━\u001b[0m\u001b[37m\u001b[0m \u001b[1m0s\u001b[0m 699us/step - accuracy: 0.3951 - loss: -25642719232.0000 - val_accuracy: 0.3441 - val_loss: -28754460672.0000\n",
      "Epoch 33/100\n",
      "\u001b[1m348/348\u001b[0m \u001b[32m━━━━━━━━━━━━━━━━━━━━\u001b[0m\u001b[37m\u001b[0m \u001b[1m0s\u001b[0m 643us/step - accuracy: 0.3854 - loss: -27685961728.0000 - val_accuracy: 0.4161 - val_loss: -31018616832.0000\n",
      "Epoch 34/100\n",
      "\u001b[1m348/348\u001b[0m \u001b[32m━━━━━━━━━━━━━━━━━━━━\u001b[0m\u001b[37m\u001b[0m \u001b[1m0s\u001b[0m 659us/step - accuracy: 0.4018 - loss: -29650354176.0000 - val_accuracy: 0.3441 - val_loss: -33393154048.0000\n",
      "Epoch 35/100\n",
      "\u001b[1m348/348\u001b[0m \u001b[32m━━━━━━━━━━━━━━━━━━━━\u001b[0m\u001b[37m\u001b[0m \u001b[1m0s\u001b[0m 662us/step - accuracy: 0.3816 - loss: -31919579136.0000 - val_accuracy: 0.4258 - val_loss: -35894120448.0000\n",
      "Epoch 36/100\n",
      "\u001b[1m348/348\u001b[0m \u001b[32m━━━━━━━━━━━━━━━━━━━━\u001b[0m\u001b[37m\u001b[0m \u001b[1m0s\u001b[0m 640us/step - accuracy: 0.3972 - loss: -34151804928.0000 - val_accuracy: 0.4280 - val_loss: -38524002304.0000\n",
      "Epoch 37/100\n",
      "\u001b[1m348/348\u001b[0m \u001b[32m━━━━━━━━━━━━━━━━━━━━\u001b[0m\u001b[37m\u001b[0m \u001b[1m0s\u001b[0m 646us/step - accuracy: 0.3997 - loss: -38065246208.0000 - val_accuracy: 0.3441 - val_loss: -41329790976.0000\n",
      "Epoch 38/100\n",
      "\u001b[1m348/348\u001b[0m \u001b[32m━━━━━━━━━━━━━━━━━━━━\u001b[0m\u001b[37m\u001b[0m \u001b[1m0s\u001b[0m 646us/step - accuracy: 0.3863 - loss: -39250939904.0000 - val_accuracy: 0.4287 - val_loss: -44279058432.0000\n",
      "Epoch 39/100\n",
      "\u001b[1m348/348\u001b[0m \u001b[32m━━━━━━━━━━━━━━━━━━━━\u001b[0m\u001b[37m\u001b[0m \u001b[1m0s\u001b[0m 641us/step - accuracy: 0.3906 - loss: -40605241344.0000 - val_accuracy: 0.4194 - val_loss: -47381131264.0000\n",
      "Epoch 40/100\n",
      "\u001b[1m348/348\u001b[0m \u001b[32m━━━━━━━━━━━━━━━━━━━━\u001b[0m\u001b[37m\u001b[0m \u001b[1m0s\u001b[0m 655us/step - accuracy: 0.3987 - loss: -44974497792.0000 - val_accuracy: 0.3787 - val_loss: -50597933056.0000\n",
      "Epoch 41/100\n",
      "\u001b[1m348/348\u001b[0m \u001b[32m━━━━━━━━━━━━━━━━━━━━\u001b[0m\u001b[37m\u001b[0m \u001b[1m0s\u001b[0m 655us/step - accuracy: 0.3936 - loss: -50882519040.0000 - val_accuracy: 0.4294 - val_loss: -53981319168.0000\n",
      "Epoch 42/100\n",
      "\u001b[1m348/348\u001b[0m \u001b[32m━━━━━━━━━━━━━━━━━━━━\u001b[0m\u001b[37m\u001b[0m \u001b[1m0s\u001b[0m 720us/step - accuracy: 0.3921 - loss: -46768783360.0000 - val_accuracy: 0.3441 - val_loss: -57536409600.0000\n",
      "Epoch 43/100\n",
      "\u001b[1m348/348\u001b[0m \u001b[32m━━━━━━━━━━━━━━━━━━━━\u001b[0m\u001b[37m\u001b[0m \u001b[1m0s\u001b[0m 730us/step - accuracy: 0.3836 - loss: -55845875712.0000 - val_accuracy: 0.3441 - val_loss: -61273755648.0000\n",
      "Epoch 44/100\n",
      "\u001b[1m348/348\u001b[0m \u001b[32m━━━━━━━━━━━━━━━━━━━━\u001b[0m\u001b[37m\u001b[0m \u001b[1m0s\u001b[0m 733us/step - accuracy: 0.3834 - loss: -61284716544.0000 - val_accuracy: 0.4201 - val_loss: -65145200640.0000\n",
      "Epoch 45/100\n",
      "\u001b[1m348/348\u001b[0m \u001b[32m━━━━━━━━━━━━━━━━━━━━\u001b[0m\u001b[37m\u001b[0m \u001b[1m0s\u001b[0m 666us/step - accuracy: 0.3862 - loss: -63962750976.0000 - val_accuracy: 0.4284 - val_loss: -69287837696.0000\n",
      "Epoch 46/100\n",
      "\u001b[1m348/348\u001b[0m \u001b[32m━━━━━━━━━━━━━━━━━━━━\u001b[0m\u001b[37m\u001b[0m \u001b[1m0s\u001b[0m 662us/step - accuracy: 0.4010 - loss: -66639114240.0000 - val_accuracy: 0.4294 - val_loss: -73488842752.0000\n",
      "Epoch 47/100\n",
      "\u001b[1m348/348\u001b[0m \u001b[32m━━━━━━━━━━━━━━━━━━━━\u001b[0m\u001b[37m\u001b[0m \u001b[1m0s\u001b[0m 654us/step - accuracy: 0.3901 - loss: -74167885824.0000 - val_accuracy: 0.4039 - val_loss: -77885841408.0000\n",
      "Epoch 48/100\n",
      "\u001b[1m348/348\u001b[0m \u001b[32m━━━━━━━━━━━━━━━━━━━━\u001b[0m\u001b[37m\u001b[0m \u001b[1m0s\u001b[0m 698us/step - accuracy: 0.3884 - loss: -71468843008.0000 - val_accuracy: 0.3438 - val_loss: -82506047488.0000\n",
      "Epoch 49/100\n",
      "\u001b[1m348/348\u001b[0m \u001b[32m━━━━━━━━━━━━━━━━━━━━\u001b[0m\u001b[37m\u001b[0m \u001b[1m0s\u001b[0m 666us/step - accuracy: 0.3963 - loss: -80385916928.0000 - val_accuracy: 0.4309 - val_loss: -87293247488.0000\n",
      "Epoch 50/100\n",
      "\u001b[1m348/348\u001b[0m \u001b[32m━━━━━━━━━━━━━━━━━━━━\u001b[0m\u001b[37m\u001b[0m \u001b[1m0s\u001b[0m 658us/step - accuracy: 0.3897 - loss: -85196898304.0000 - val_accuracy: 0.3441 - val_loss: -92271927296.0000\n",
      "Epoch 51/100\n",
      "\u001b[1m348/348\u001b[0m \u001b[32m━━━━━━━━━━━━━━━━━━━━\u001b[0m\u001b[37m\u001b[0m \u001b[1m0s\u001b[0m 660us/step - accuracy: 0.3910 - loss: -88166973440.0000 - val_accuracy: 0.3441 - val_loss: -97471070208.0000\n",
      "Epoch 52/100\n",
      "\u001b[1m348/348\u001b[0m \u001b[32m━━━━━━━━━━━━━━━━━━━━\u001b[0m\u001b[37m\u001b[0m \u001b[1m0s\u001b[0m 696us/step - accuracy: 0.3941 - loss: -85409890304.0000 - val_accuracy: 0.3510 - val_loss: -102881181696.0000\n",
      "Epoch 53/100\n",
      "\u001b[1m348/348\u001b[0m \u001b[32m━━━━━━━━━━━━━━━━━━━━\u001b[0m\u001b[37m\u001b[0m \u001b[1m0s\u001b[0m 751us/step - accuracy: 0.3879 - loss: -94719180800.0000 - val_accuracy: 0.4302 - val_loss: -108470173696.0000\n",
      "Epoch 54/100\n",
      "\u001b[1m348/348\u001b[0m \u001b[32m━━━━━━━━━━━━━━━━━━━━\u001b[0m\u001b[37m\u001b[0m \u001b[1m0s\u001b[0m 691us/step - accuracy: 0.3909 - loss: -102663340032.0000 - val_accuracy: 0.3441 - val_loss: -114294038528.0000\n",
      "Epoch 55/100\n",
      "\u001b[1m348/348\u001b[0m \u001b[32m━━━━━━━━━━━━━━━━━━━━\u001b[0m\u001b[37m\u001b[0m \u001b[1m0s\u001b[0m 690us/step - accuracy: 0.3957 - loss: -101616689152.0000 - val_accuracy: 0.4262 - val_loss: -120379981824.0000\n",
      "Epoch 56/100\n",
      "\u001b[1m348/348\u001b[0m \u001b[32m━━━━━━━━━━━━━━━━━━━━\u001b[0m\u001b[37m\u001b[0m \u001b[1m0s\u001b[0m 670us/step - accuracy: 0.4046 - loss: -110036426752.0000 - val_accuracy: 0.4154 - val_loss: -126588919808.0000\n",
      "Epoch 57/100\n",
      "\u001b[1m348/348\u001b[0m \u001b[32m━━━━━━━━━━━━━━━━━━━━\u001b[0m\u001b[37m\u001b[0m \u001b[1m0s\u001b[0m 662us/step - accuracy: 0.3932 - loss: -124783951872.0000 - val_accuracy: 0.3441 - val_loss: -132990509056.0000\n",
      "Epoch 58/100\n",
      "\u001b[1m348/348\u001b[0m \u001b[32m━━━━━━━━━━━━━━━━━━━━\u001b[0m\u001b[37m\u001b[0m \u001b[1m0s\u001b[0m 700us/step - accuracy: 0.3916 - loss: -123243905024.0000 - val_accuracy: 0.3441 - val_loss: -139649744896.0000\n",
      "Epoch 59/100\n",
      "\u001b[1m348/348\u001b[0m \u001b[32m━━━━━━━━━━━━━━━━━━━━\u001b[0m\u001b[37m\u001b[0m \u001b[1m0s\u001b[0m 632us/step - accuracy: 0.3973 - loss: -124941139968.0000 - val_accuracy: 0.3441 - val_loss: -146593234944.0000\n",
      "Epoch 60/100\n",
      "\u001b[1m348/348\u001b[0m \u001b[32m━━━━━━━━━━━━━━━━━━━━\u001b[0m\u001b[37m\u001b[0m \u001b[1m0s\u001b[0m 692us/step - accuracy: 0.3919 - loss: -137459924992.0000 - val_accuracy: 0.3441 - val_loss: -153729712128.0000\n",
      "Epoch 61/100\n",
      "\u001b[1m348/348\u001b[0m \u001b[32m━━━━━━━━━━━━━━━━━━━━\u001b[0m\u001b[37m\u001b[0m \u001b[1m0s\u001b[0m 733us/step - accuracy: 0.3989 - loss: -147765723136.0000 - val_accuracy: 0.4269 - val_loss: -161094008832.0000\n",
      "Epoch 62/100\n",
      "\u001b[1m348/348\u001b[0m \u001b[32m━━━━━━━━━━━━━━━━━━━━\u001b[0m\u001b[37m\u001b[0m \u001b[1m0s\u001b[0m 749us/step - accuracy: 0.3949 - loss: -151901585408.0000 - val_accuracy: 0.4057 - val_loss: -168810561536.0000\n",
      "Epoch 63/100\n",
      "\u001b[1m348/348\u001b[0m \u001b[32m━━━━━━━━━━━━━━━━━━━━\u001b[0m\u001b[37m\u001b[0m \u001b[1m0s\u001b[0m 725us/step - accuracy: 0.3892 - loss: -164902305792.0000 - val_accuracy: 0.4298 - val_loss: -176665477120.0000\n",
      "Epoch 64/100\n",
      "\u001b[1m348/348\u001b[0m \u001b[32m━━━━━━━━━━━━━━━━━━━━\u001b[0m\u001b[37m\u001b[0m \u001b[1m0s\u001b[0m 706us/step - accuracy: 0.3861 - loss: -173589250048.0000 - val_accuracy: 0.3441 - val_loss: -184840159232.0000\n",
      "Epoch 65/100\n",
      "\u001b[1m348/348\u001b[0m \u001b[32m━━━━━━━━━━━━━━━━━━━━\u001b[0m\u001b[37m\u001b[0m \u001b[1m0s\u001b[0m 697us/step - accuracy: 0.3875 - loss: -166531710976.0000 - val_accuracy: 0.4298 - val_loss: -193350139904.0000\n",
      "Epoch 66/100\n",
      "\u001b[1m348/348\u001b[0m \u001b[32m━━━━━━━━━━━━━━━━━━━━\u001b[0m\u001b[37m\u001b[0m \u001b[1m0s\u001b[0m 692us/step - accuracy: 0.3944 - loss: -190346018816.0000 - val_accuracy: 0.4291 - val_loss: -202112663552.0000\n",
      "Epoch 67/100\n",
      "\u001b[1m348/348\u001b[0m \u001b[32m━━━━━━━━━━━━━━━━━━━━\u001b[0m\u001b[37m\u001b[0m \u001b[1m0s\u001b[0m 640us/step - accuracy: 0.3956 - loss: -199566524416.0000 - val_accuracy: 0.4078 - val_loss: -211180224512.0000\n",
      "Epoch 68/100\n",
      "\u001b[1m348/348\u001b[0m \u001b[32m━━━━━━━━━━━━━━━━━━━━\u001b[0m\u001b[37m\u001b[0m \u001b[1m0s\u001b[0m 639us/step - accuracy: 0.3996 - loss: -196130242560.0000 - val_accuracy: 0.3938 - val_loss: -220717154304.0000\n",
      "Epoch 69/100\n",
      "\u001b[1m348/348\u001b[0m \u001b[32m━━━━━━━━━━━━━━━━━━━━\u001b[0m\u001b[37m\u001b[0m \u001b[1m0s\u001b[0m 638us/step - accuracy: 0.3824 - loss: -210665078784.0000 - val_accuracy: 0.4230 - val_loss: -230384222208.0000\n",
      "Epoch 70/100\n",
      "\u001b[1m348/348\u001b[0m \u001b[32m━━━━━━━━━━━━━━━━━━━━\u001b[0m\u001b[37m\u001b[0m \u001b[1m0s\u001b[0m 693us/step - accuracy: 0.3915 - loss: -219392835584.0000 - val_accuracy: 0.3441 - val_loss: -240339845120.0000\n",
      "Epoch 71/100\n",
      "\u001b[1m348/348\u001b[0m \u001b[32m━━━━━━━━━━━━━━━━━━━━\u001b[0m\u001b[37m\u001b[0m \u001b[1m0s\u001b[0m 680us/step - accuracy: 0.3913 - loss: -246958866432.0000 - val_accuracy: 0.4237 - val_loss: -250608844800.0000\n",
      "Epoch 72/100\n",
      "\u001b[1m348/348\u001b[0m \u001b[32m━━━━━━━━━━━━━━━━━━━━\u001b[0m\u001b[37m\u001b[0m \u001b[1m0s\u001b[0m 678us/step - accuracy: 0.3935 - loss: -242987008000.0000 - val_accuracy: 0.4294 - val_loss: -261254660096.0000\n",
      "Epoch 73/100\n",
      "\u001b[1m348/348\u001b[0m \u001b[32m━━━━━━━━━━━━━━━━━━━━\u001b[0m\u001b[37m\u001b[0m \u001b[1m0s\u001b[0m 655us/step - accuracy: 0.3992 - loss: -253810229248.0000 - val_accuracy: 0.4294 - val_loss: -272073261056.0000\n",
      "Epoch 74/100\n",
      "\u001b[1m348/348\u001b[0m \u001b[32m━━━━━━━━━━━━━━━━━━━━\u001b[0m\u001b[37m\u001b[0m \u001b[1m0s\u001b[0m 720us/step - accuracy: 0.3953 - loss: -274841944064.0000 - val_accuracy: 0.3441 - val_loss: -283404566528.0000\n",
      "Epoch 75/100\n",
      "\u001b[1m348/348\u001b[0m \u001b[32m━━━━━━━━━━━━━━━━━━━━\u001b[0m\u001b[37m\u001b[0m \u001b[1m0s\u001b[0m 691us/step - accuracy: 0.4013 - loss: -254503206912.0000 - val_accuracy: 0.3441 - val_loss: -295101988864.0000\n",
      "Epoch 76/100\n",
      "\u001b[1m348/348\u001b[0m \u001b[32m━━━━━━━━━━━━━━━━━━━━\u001b[0m\u001b[37m\u001b[0m \u001b[1m0s\u001b[0m 722us/step - accuracy: 0.4009 - loss: -266014425088.0000 - val_accuracy: 0.4114 - val_loss: -307095601152.0000\n",
      "Epoch 77/100\n",
      "\u001b[1m348/348\u001b[0m \u001b[32m━━━━━━━━━━━━━━━━━━━━\u001b[0m\u001b[37m\u001b[0m \u001b[1m0s\u001b[0m 702us/step - accuracy: 0.3845 - loss: -304249896960.0000 - val_accuracy: 0.4291 - val_loss: -319417057280.0000\n",
      "Epoch 78/100\n",
      "\u001b[1m348/348\u001b[0m \u001b[32m━━━━━━━━━━━━━━━━━━━━\u001b[0m\u001b[37m\u001b[0m \u001b[1m0s\u001b[0m 740us/step - accuracy: 0.3957 - loss: -307353649152.0000 - val_accuracy: 0.4161 - val_loss: -331916509184.0000\n",
      "Epoch 79/100\n",
      "\u001b[1m348/348\u001b[0m \u001b[32m━━━━━━━━━━━━━━━━━━━━\u001b[0m\u001b[37m\u001b[0m \u001b[1m0s\u001b[0m 734us/step - accuracy: 0.3884 - loss: -313075859456.0000 - val_accuracy: 0.4269 - val_loss: -345033342976.0000\n",
      "Epoch 80/100\n",
      "\u001b[1m348/348\u001b[0m \u001b[32m━━━━━━━━━━━━━━━━━━━━\u001b[0m\u001b[37m\u001b[0m \u001b[1m0s\u001b[0m 697us/step - accuracy: 0.4025 - loss: -304764616704.0000 - val_accuracy: 0.4219 - val_loss: -358521307136.0000\n",
      "Epoch 81/100\n",
      "\u001b[1m348/348\u001b[0m \u001b[32m━━━━━━━━━━━━━━━━━━━━\u001b[0m\u001b[37m\u001b[0m \u001b[1m0s\u001b[0m 701us/step - accuracy: 0.3979 - loss: -347904770048.0000 - val_accuracy: 0.4154 - val_loss: -372483850240.0000\n",
      "Epoch 82/100\n",
      "\u001b[1m348/348\u001b[0m \u001b[32m━━━━━━━━━━━━━━━━━━━━\u001b[0m\u001b[37m\u001b[0m \u001b[1m0s\u001b[0m 732us/step - accuracy: 0.3862 - loss: -343154819072.0000 - val_accuracy: 0.4284 - val_loss: -386728591360.0000\n",
      "Epoch 83/100\n",
      "\u001b[1m348/348\u001b[0m \u001b[32m━━━━━━━━━━━━━━━━━━━━\u001b[0m\u001b[37m\u001b[0m \u001b[1m0s\u001b[0m 675us/step - accuracy: 0.3969 - loss: -364102254592.0000 - val_accuracy: 0.4114 - val_loss: -401446731776.0000\n",
      "Epoch 84/100\n",
      "\u001b[1m348/348\u001b[0m \u001b[32m━━━━━━━━━━━━━━━━━━━━\u001b[0m\u001b[37m\u001b[0m \u001b[1m0s\u001b[0m 746us/step - accuracy: 0.4000 - loss: -371658358784.0000 - val_accuracy: 0.4262 - val_loss: -416462045184.0000\n",
      "Epoch 85/100\n",
      "\u001b[1m348/348\u001b[0m \u001b[32m━━━━━━━━━━━━━━━━━━━━\u001b[0m\u001b[37m\u001b[0m \u001b[1m0s\u001b[0m 706us/step - accuracy: 0.3874 - loss: -421125160960.0000 - val_accuracy: 0.3438 - val_loss: -431876145152.0000\n",
      "Epoch 86/100\n",
      "\u001b[1m348/348\u001b[0m \u001b[32m━━━━━━━━━━━━━━━━━━━━\u001b[0m\u001b[37m\u001b[0m \u001b[1m0s\u001b[0m 711us/step - accuracy: 0.3907 - loss: -394451910656.0000 - val_accuracy: 0.4291 - val_loss: -447674515456.0000\n",
      "Epoch 87/100\n",
      "\u001b[1m348/348\u001b[0m \u001b[32m━━━━━━━━━━━━━━━━━━━━\u001b[0m\u001b[37m\u001b[0m \u001b[1m0s\u001b[0m 719us/step - accuracy: 0.3988 - loss: -399270412288.0000 - val_accuracy: 0.3441 - val_loss: -463912828928.0000\n",
      "Epoch 88/100\n",
      "\u001b[1m348/348\u001b[0m \u001b[32m━━━━━━━━━━━━━━━━━━━━\u001b[0m\u001b[37m\u001b[0m \u001b[1m0s\u001b[0m 709us/step - accuracy: 0.3869 - loss: -432997400576.0000 - val_accuracy: 0.4312 - val_loss: -480608550912.0000\n",
      "Epoch 89/100\n",
      "\u001b[1m348/348\u001b[0m \u001b[32m━━━━━━━━━━━━━━━━━━━━\u001b[0m\u001b[37m\u001b[0m \u001b[1m0s\u001b[0m 719us/step - accuracy: 0.4027 - loss: -437583904768.0000 - val_accuracy: 0.4276 - val_loss: -497583292416.0000\n",
      "Epoch 90/100\n",
      "\u001b[1m348/348\u001b[0m \u001b[32m━━━━━━━━━━━━━━━━━━━━\u001b[0m\u001b[37m\u001b[0m \u001b[1m0s\u001b[0m 722us/step - accuracy: 0.3905 - loss: -471601774592.0000 - val_accuracy: 0.4276 - val_loss: -515190358016.0000\n",
      "Epoch 91/100\n",
      "\u001b[1m348/348\u001b[0m \u001b[32m━━━━━━━━━━━━━━━━━━━━\u001b[0m\u001b[37m\u001b[0m \u001b[1m0s\u001b[0m 670us/step - accuracy: 0.3942 - loss: -486198607872.0000 - val_accuracy: 0.4276 - val_loss: -533152235520.0000\n",
      "Epoch 92/100\n",
      "\u001b[1m348/348\u001b[0m \u001b[32m━━━━━━━━━━━━━━━━━━━━\u001b[0m\u001b[37m\u001b[0m \u001b[1m0s\u001b[0m 668us/step - accuracy: 0.3838 - loss: -534025371648.0000 - val_accuracy: 0.4186 - val_loss: -551603798016.0000\n",
      "Epoch 93/100\n",
      "\u001b[1m348/348\u001b[0m \u001b[32m━━━━━━━━━━━━━━━━━━━━\u001b[0m\u001b[37m\u001b[0m \u001b[1m0s\u001b[0m 710us/step - accuracy: 0.3956 - loss: -525824131072.0000 - val_accuracy: 0.3441 - val_loss: -570563100672.0000\n",
      "Epoch 94/100\n",
      "\u001b[1m348/348\u001b[0m \u001b[32m━━━━━━━━━━━━━━━━━━━━\u001b[0m\u001b[37m\u001b[0m \u001b[1m0s\u001b[0m 659us/step - accuracy: 0.3925 - loss: -524194054144.0000 - val_accuracy: 0.4158 - val_loss: -590031093760.0000\n",
      "Epoch 95/100\n",
      "\u001b[1m348/348\u001b[0m \u001b[32m━━━━━━━━━━━━━━━━━━━━\u001b[0m\u001b[37m\u001b[0m \u001b[1m0s\u001b[0m 693us/step - accuracy: 0.3900 - loss: -539379433472.0000 - val_accuracy: 0.4233 - val_loss: -610129281024.0000\n",
      "Epoch 96/100\n",
      "\u001b[1m348/348\u001b[0m \u001b[32m━━━━━━━━━━━━━━━━━━━━\u001b[0m\u001b[37m\u001b[0m \u001b[1m0s\u001b[0m 632us/step - accuracy: 0.3912 - loss: -596946255872.0000 - val_accuracy: 0.3441 - val_loss: -630434824192.0000\n",
      "Epoch 97/100\n",
      "\u001b[1m348/348\u001b[0m \u001b[32m━━━━━━━━━━━━━━━━━━━━\u001b[0m\u001b[37m\u001b[0m \u001b[1m0s\u001b[0m 690us/step - accuracy: 0.3952 - loss: -595120816128.0000 - val_accuracy: 0.3441 - val_loss: -651408310272.0000\n",
      "Epoch 98/100\n",
      "\u001b[1m348/348\u001b[0m \u001b[32m━━━━━━━━━━━━━━━━━━━━\u001b[0m\u001b[37m\u001b[0m \u001b[1m0s\u001b[0m 680us/step - accuracy: 0.3958 - loss: -631333519360.0000 - val_accuracy: 0.4276 - val_loss: -672988659712.0000\n",
      "Epoch 99/100\n",
      "\u001b[1m348/348\u001b[0m \u001b[32m━━━━━━━━━━━━━━━━━━━━\u001b[0m\u001b[37m\u001b[0m \u001b[1m0s\u001b[0m 641us/step - accuracy: 0.4031 - loss: -620196069376.0000 - val_accuracy: 0.3441 - val_loss: -694929063936.0000\n",
      "Epoch 100/100\n",
      "\u001b[1m348/348\u001b[0m \u001b[32m━━━━━━━━━━━━━━━━━━━━\u001b[0m\u001b[37m\u001b[0m \u001b[1m0s\u001b[0m 623us/step - accuracy: 0.3885 - loss: -598482419712.0000 - val_accuracy: 0.4273 - val_loss: -717444874240.0000\n"
     ]
    },
    {
     "data": {
      "text/plain": [
       "<keras.src.callbacks.history.History at 0x29b0c9f40>"
      ]
     },
     "execution_count": 23,
     "metadata": {},
     "output_type": "execute_result"
    }
   ],
   "source": [
    "model.fit(X_train, y_train, epochs=100, batch_size=32, validation_data=(X_test, y_test))"
   ]
  },
  {
   "cell_type": "code",
   "execution_count": 24,
   "id": "b2615054-b483-41e2-b4ef-d65d47038038",
   "metadata": {},
   "outputs": [
    {
     "name": "stdout",
     "output_type": "stream",
     "text": [
      "\u001b[1m87/87\u001b[0m \u001b[32m━━━━━━━━━━━━━━━━━━━━\u001b[0m\u001b[37m\u001b[0m \u001b[1m0s\u001b[0m 532us/step\n"
     ]
    }
   ],
   "source": [
    "neur_pred = model.predict(X_test)"
   ]
  },
  {
   "cell_type": "code",
   "execution_count": 29,
   "id": "80b6f585-e5fc-4159-aca7-873d0cbac3dc",
   "metadata": {},
   "outputs": [
    {
     "name": "stderr",
     "output_type": "stream",
     "text": [
      "WARNING:absl:You are saving your model as an HDF5 file via `model.save()` or `keras.saving.save_model(model)`. This file format is considered legacy. We recommend using instead the native Keras format, e.g. `model.save('my_model.keras')` or `keras.saving.save_model(model, 'my_model.keras')`. \n"
     ]
    }
   ],
   "source": [
    "from tensorflow.keras.models import load_model\n",
    "model.save('/Users/sergejkotov/Desktop/ml/models/NW_upd.h5')"
   ]
  },
  {
   "cell_type": "code",
   "execution_count": null,
   "id": "898800da-805a-45fd-9a5a-71f974901a9c",
   "metadata": {},
   "outputs": [],
   "source": []
  }
 ],
 "metadata": {
  "kernelspec": {
   "display_name": "Python 3 (ipykernel)",
   "language": "python",
   "name": "python3"
  },
  "language_info": {
   "codemirror_mode": {
    "name": "ipython",
    "version": 3
   },
   "file_extension": ".py",
   "mimetype": "text/x-python",
   "name": "python",
   "nbconvert_exporter": "python",
   "pygments_lexer": "ipython3",
   "version": "3.9.6"
  }
 },
 "nbformat": 4,
 "nbformat_minor": 5
}
