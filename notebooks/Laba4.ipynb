{
 "cells": [
  {
   "cell_type": "markdown",
   "id": "214f95d6-2b60-450e-8090-ac012deff5b6",
   "metadata": {},
   "source": [
    "# Лабораторная работа №4 "
   ]
  },
  {
   "cell_type": "markdown",
   "id": "f0042ed9-16f3-4b27-941e-7d23be1f33c1",
   "metadata": {},
   "source": [
    "## Задание 2."
   ]
  },
  {
   "cell_type": "markdown",
   "id": "ae96ec77-7a5b-4157-a4ae-a3203fa0746c",
   "metadata": {},
   "source": [
    "### 2.1 Инициализация проекта. "
   ]
  },
  {
   "cell_type": "code",
   "execution_count": 1,
   "id": "1d470feb-15cb-4eb2-99a5-3b3ebc10f4e2",
   "metadata": {},
   "outputs": [],
   "source": [
    "import pandas as pd\n",
    "import matplotlib.pyplot as plt\n",
    "import numpy as np\n",
    "import seaborn as sns"
   ]
  },
  {
   "cell_type": "code",
   "execution_count": 2,
   "id": "c22d5f3a-74b3-4e3f-a897-694d6fe76e5f",
   "metadata": {},
   "outputs": [],
   "source": [
    "data = pd.read_csv('../data/weatherAUS.csv')"
   ]
  },
  {
   "cell_type": "markdown",
   "id": "e897cabf-e624-4f4d-a8b1-f211f4fb40ea",
   "metadata": {},
   "source": [
    "### 2.2 Исследование исходных данных и предобработка."
   ]
  },
  {
   "cell_type": "code",
   "execution_count": 3,
   "id": "776b88fd-7f04-40ff-8f66-9758ea05c362",
   "metadata": {},
   "outputs": [
    {
     "name": "stdout",
     "output_type": "stream",
     "text": [
      "<class 'pandas.core.frame.DataFrame'>\n",
      "RangeIndex: 145460 entries, 0 to 145459\n",
      "Data columns (total 23 columns):\n",
      " #   Column         Non-Null Count   Dtype  \n",
      "---  ------         --------------   -----  \n",
      " 0   Date           145460 non-null  object \n",
      " 1   Location       145460 non-null  object \n",
      " 2   MinTemp        143975 non-null  float64\n",
      " 3   MaxTemp        144199 non-null  float64\n",
      " 4   Rainfall       142199 non-null  float64\n",
      " 5   Evaporation    82670 non-null   float64\n",
      " 6   Sunshine       75625 non-null   float64\n",
      " 7   WindGustDir    135134 non-null  object \n",
      " 8   WindGustSpeed  135197 non-null  float64\n",
      " 9   WindDir9am     134894 non-null  object \n",
      " 10  WindDir3pm     141232 non-null  object \n",
      " 11  WindSpeed9am   143693 non-null  float64\n",
      " 12  WindSpeed3pm   142398 non-null  float64\n",
      " 13  Humidity9am    142806 non-null  float64\n",
      " 14  Humidity3pm    140953 non-null  float64\n",
      " 15  Pressure9am    130395 non-null  float64\n",
      " 16  Pressure3pm    130432 non-null  float64\n",
      " 17  Cloud9am       89572 non-null   float64\n",
      " 18  Cloud3pm       86102 non-null   float64\n",
      " 19  Temp9am        143693 non-null  float64\n",
      " 20  Temp3pm        141851 non-null  float64\n",
      " 21  RainToday      142199 non-null  object \n",
      " 22  RainTomorrow   142193 non-null  object \n",
      "dtypes: float64(16), object(7)\n",
      "memory usage: 25.5+ MB\n"
     ]
    }
   ],
   "source": [
    "data.info()"
   ]
  },
  {
   "cell_type": "code",
   "execution_count": 4,
   "id": "299ce094-5b90-48b8-9cc4-312c77057ee3",
   "metadata": {},
   "outputs": [
    {
     "data": {
      "text/plain": [
       "Date                 0\n",
       "Location             0\n",
       "MinTemp           1485\n",
       "MaxTemp           1261\n",
       "Rainfall          3261\n",
       "Evaporation      62790\n",
       "Sunshine         69835\n",
       "WindGustDir      10326\n",
       "WindGustSpeed    10263\n",
       "WindDir9am       10566\n",
       "WindDir3pm        4228\n",
       "WindSpeed9am      1767\n",
       "WindSpeed3pm      3062\n",
       "Humidity9am       2654\n",
       "Humidity3pm       4507\n",
       "Pressure9am      15065\n",
       "Pressure3pm      15028\n",
       "Cloud9am         55888\n",
       "Cloud3pm         59358\n",
       "Temp9am           1767\n",
       "Temp3pm           3609\n",
       "RainToday         3261\n",
       "RainTomorrow      3267\n",
       "dtype: int64"
      ]
     },
     "execution_count": 4,
     "metadata": {},
     "output_type": "execute_result"
    }
   ],
   "source": [
    "data.isnull().sum()"
   ]
  },
  {
   "cell_type": "code",
   "execution_count": 5,
   "id": "2b63d319-8801-49a2-ab76-96c5c754390e",
   "metadata": {},
   "outputs": [],
   "source": [
    "for column in data.columns:\n",
    "    if data[column].dtype == 'int64':\n",
    "        data[column].fillna(data[column].median(), inplace=True)\n",
    "    elif data[column].dtype == 'float64':\n",
    "        data[column].fillna(data[column].mean(), inplace=True)\n",
    "    else:\n",
    "        data[column].fillna(data[column].mode()[0], inplace=True)"
   ]
  },
  {
   "cell_type": "code",
   "execution_count": 6,
   "id": "1c412951-639f-4752-919a-206ee0dfe397",
   "metadata": {
    "scrolled": true
   },
   "outputs": [
    {
     "data": {
      "text/plain": [
       "array([16.9       , 17.2       , 21.        , 18.1       , 17.8       ,\n",
       "       20.6       , 16.3       , 18.3       , 20.1       , 20.4       ,\n",
       "       15.9       , 17.4       , 15.8       , 17.3       , 18.        ,\n",
       "       15.5       , 19.1       , 24.5       , 23.8       , 20.9       ,\n",
       "       21.5       , 23.2       , 26.6       , 24.6       , 21.6       ,\n",
       "       12.5       , 19.7       , 14.9       , 17.1       , 20.7       ,\n",
       "       22.4       , 23.1       , 25.2       , 17.9       , 20.2       ,\n",
       "       22.8       , 24.2       , 24.3       , 25.6       , 27.6       ,\n",
       "       16.        , 22.        , 26.8       , 27.3       , 26.1       ,\n",
       "       23.3       , 21.2       , 23.4       , 25.8       , 28.2       ,\n",
       "       29.        , 29.2       , 29.9       , 32.4       , 28.8       ,\n",
       "       27.2       , 25.5       , 26.5       , 28.7       , 29.6       ,\n",
       "       34.5       , 18.7       , 16.7       , 17.        , 19.2       ,\n",
       "       21.4       , 22.1       , 19.3       , 15.        , 20.        ,\n",
       "       22.2       , 23.        , 15.6       , 13.9       , 12.6       ,\n",
       "       13.3       , 17.6       , 18.6       , 19.        , 19.9       ,\n",
       "       12.7       , 12.2       , 12.1       , 14.7       , 18.8       ,\n",
       "       15.4       , 16.2       , 16.5       , 14.        , 16.6       ,\n",
       "       18.4       , 12.9       , 13.8       , 15.1       , 16.4       ,\n",
       "       16.1       , 20.5       ,  9.6       , 12.4       , 14.1       ,\n",
       "       11.2       ,  9.5       ,  7.6       , 10.1       ,  8.2       ,\n",
       "        7.9       ,  7.2       , 10.6       , 10.3       , 10.        ,\n",
       "        8.3       , 11.        ,  9.4       , 11.7       ,  8.5       ,\n",
       "        9.1       ,  7.5       , 13.        ,  7.        ,  8.8       ,\n",
       "        7.4       , 11.9       , 11.6       , 13.6       ,  7.1       ,\n",
       "       10.2       ,  8.        ,  9.2       , 11.3       ,  4.7       ,\n",
       "        6.8       ,  4.9       ,  2.2       ,  1.9       ,  5.9       ,\n",
       "        6.5       ,  5.4       ,  6.6       ,  5.6       ,  6.9       ,\n",
       "        8.4       ,  9.8       , 13.5       ,  7.8       ,  2.3       ,\n",
       "        2.4       ,  3.3       ,  3.8       ,  4.8       ,  8.1       ,\n",
       "        9.        ,  4.5       ,  3.2       ,  3.7       ,  2.5       ,\n",
       "        4.4       ,  4.2       ,  9.3       ,  8.9       , 10.5       ,\n",
       "        9.9       ,  5.7       ,  2.        , 14.8       ,  6.7       ,\n",
       "        6.        ,  5.5       , 11.1       ,  5.8       , 10.8       ,\n",
       "       13.2       ,  7.7       ,  9.7       ,  8.6       ,  8.7       ,\n",
       "       10.9       , 14.3       , 11.5       , 13.1       , 15.2       ,\n",
       "       11.8       , 13.4       , 14.4       , 23.9       , 17.5       ,\n",
       "       24.7       , 21.7       , 24.1       , 19.5       , 27.8       ,\n",
       "       16.8       , 20.3       , 18.9       , 15.7       , 12.8       ,\n",
       "       21.8       , 20.8       , 32.1       , 24.4       , 26.        ,\n",
       "       28.1       , 21.3       , 26.4       , 29.1       , 29.4       ,\n",
       "       25.1       , 27.7       , 18.5       , 25.        , 22.9       ,\n",
       "       23.5       , 26.3       , 22.6       , 25.9       , 26.9       ,\n",
       "       19.4       , 19.6       , 22.3       , 19.8       , 14.2       ,\n",
       "       17.7       , 18.2       , 14.6       , 15.3       , 10.4       ,\n",
       "       10.7       ,  6.4       ,  6.3       ,  5.1       ,  6.2       ,\n",
       "        5.3       ,  4.1       ,  3.4       ,  6.1       ,  2.8       ,\n",
       "        3.1       ,  3.        ,  5.        ,  2.9       ,  5.2       ,\n",
       "        4.        ,  4.6       ,  4.3       ,  7.3       , 11.4       ,\n",
       "       13.7       , 24.        , 22.5       , 21.9       , 26.7       ,\n",
       "       24.9       , 25.3       , 21.1       , 25.4       , 24.8       ,\n",
       "       14.5       ,  3.5       ,  3.6       ,  3.9       ,  2.6       ,\n",
       "       16.99063142, 12.        , 22.7       ,  0.3       , 27.5       ,\n",
       "       29.5       , 23.6       , 30.7       , 29.7       , 27.        ,\n",
       "       23.7       , 12.3       , 28.6       , 31.8       , 28.        ,\n",
       "       30.8       , 28.4       , 25.7       , 27.4       , 26.2       ,\n",
       "       33.7       , 27.9       , 30.2       , 28.3       ,  2.7       ,\n",
       "       29.3       , 29.8       ,  1.6       , 30.4       , 37.6       ,\n",
       "       34.2       , 31.3       , 33.6       , 31.5       , 31.4       ,\n",
       "       28.9       , 30.1       , 32.        , 32.6       , 35.6       ,\n",
       "       31.6       , 31.2       , 30.        , 34.3       , 31.1       ,\n",
       "       37.3       , 27.1       , 34.4       , 33.        , 33.9       ,\n",
       "       32.9       , 34.1       , 28.5       , 35.7       , 31.        ,\n",
       "       30.3       , 32.3       , 35.1       , 34.8       , 34.        ,\n",
       "       37.7       , 30.9       , 32.2       , 33.4       , 33.2       ,\n",
       "       32.7       , 30.6       , 31.7       , 35.2       , 30.5       ,\n",
       "       33.5       , 36.8       , 34.9       , 33.1       , 36.3       ,\n",
       "       32.5       , 31.9       , 32.8       , 35.5       , 36.4       ,\n",
       "       37.5       , 35.9       ,  0.8       ,  0.9       , 36.5       ,\n",
       "       37.2       , 33.3       ,  0.6       ,  1.        ,  1.7       ,\n",
       "        2.1       ,  1.2       ,  1.8       ,  0.        ,  1.3       ,\n",
       "        1.5       ,  0.5       ,  0.4       ,  0.2       ,  1.4       ,\n",
       "        0.1       , -0.9       ,  0.7       , -0.7       , -0.2       ,\n",
       "       -0.3       , -1.1       ,  1.1       , -1.        , -1.2       ,\n",
       "       -1.3       , -0.5       , -0.6       , -0.4       , -0.8       ,\n",
       "       -3.1       , -0.1       , -1.4       , -1.7       , -2.3       ,\n",
       "       -2.8       , -3.4       , -5.9       , -2.5       , -4.1       ,\n",
       "       -1.6       , -2.2       , -2.4       , -2.9       , -2.1       ,\n",
       "       -3.2       , -2.        , -1.8       , -4.2       , -3.3       ,\n",
       "       -4.3       , -3.6       , -3.7       , -4.8       , -5.5       ,\n",
       "       -4.        , -1.9       , -2.7       , -4.9       , -5.2       ,\n",
       "       -5.3       , -1.5       , -3.9       , -3.        , -3.8       ,\n",
       "       -4.4       , -2.6       , -6.2       , -3.5       , -4.5       ,\n",
       "       -5.6       , -7.        , -7.2       , 36.        , 35.4       ,\n",
       "       34.6       , 33.8       , 36.9       , 35.3       , 36.1       ,\n",
       "       38.3       , 37.4       , 34.7       , 38.6       , 35.8       ,\n",
       "       37.9       , 35.        , 40.2       , 37.        , 39.4       ,\n",
       "       39.        , 38.2       , 36.2       , 38.9       , 36.6       ,\n",
       "       39.1       , 38.        ])"
      ]
     },
     "execution_count": 6,
     "metadata": {},
     "output_type": "execute_result"
    }
   ],
   "source": [
    "data[\"Temp9am\"].unique()"
   ]
  },
  {
   "cell_type": "code",
   "execution_count": 7,
   "id": "c084e5f1-bca3-4bd5-951f-69e110248820",
   "metadata": {},
   "outputs": [],
   "source": [
    "for ind, value in enumerate(data[\"Temp9am\"]):\n",
    "    clean = str(value).replace('.', '')\n",
    "    data.at[ind, 'Temp9am'] = int(clean)"
   ]
  },
  {
   "cell_type": "code",
   "execution_count": 8,
   "id": "15a25a1b-72fc-4b1c-b5ee-60a2f6a22fd0",
   "metadata": {},
   "outputs": [
    {
     "data": {
      "text/plain": [
       "array([ 1.69000000e+02,  1.72000000e+02,  2.10000000e+02,  1.81000000e+02,\n",
       "        1.78000000e+02,  2.06000000e+02,  1.63000000e+02,  1.83000000e+02,\n",
       "        2.01000000e+02,  2.04000000e+02,  1.59000000e+02,  1.74000000e+02,\n",
       "        1.58000000e+02,  1.73000000e+02,  1.80000000e+02,  1.55000000e+02,\n",
       "        1.91000000e+02,  2.45000000e+02,  2.38000000e+02,  2.09000000e+02,\n",
       "        2.15000000e+02,  2.32000000e+02,  2.66000000e+02,  2.46000000e+02,\n",
       "        2.16000000e+02,  1.25000000e+02,  1.97000000e+02,  1.49000000e+02,\n",
       "        1.71000000e+02,  2.07000000e+02,  2.24000000e+02,  2.31000000e+02,\n",
       "        2.52000000e+02,  1.79000000e+02,  2.02000000e+02,  2.28000000e+02,\n",
       "        2.42000000e+02,  2.43000000e+02,  2.56000000e+02,  2.76000000e+02,\n",
       "        1.60000000e+02,  2.20000000e+02,  2.68000000e+02,  2.73000000e+02,\n",
       "        2.61000000e+02,  2.33000000e+02,  2.12000000e+02,  2.34000000e+02,\n",
       "        2.58000000e+02,  2.82000000e+02,  2.90000000e+02,  2.92000000e+02,\n",
       "        2.99000000e+02,  3.24000000e+02,  2.88000000e+02,  2.72000000e+02,\n",
       "        2.55000000e+02,  2.65000000e+02,  2.87000000e+02,  2.96000000e+02,\n",
       "        3.45000000e+02,  1.87000000e+02,  1.67000000e+02,  1.70000000e+02,\n",
       "        1.92000000e+02,  2.14000000e+02,  2.21000000e+02,  1.93000000e+02,\n",
       "        1.50000000e+02,  2.00000000e+02,  2.22000000e+02,  2.30000000e+02,\n",
       "        1.56000000e+02,  1.39000000e+02,  1.26000000e+02,  1.33000000e+02,\n",
       "        1.76000000e+02,  1.86000000e+02,  1.90000000e+02,  1.99000000e+02,\n",
       "        1.27000000e+02,  1.22000000e+02,  1.21000000e+02,  1.47000000e+02,\n",
       "        1.88000000e+02,  1.54000000e+02,  1.62000000e+02,  1.65000000e+02,\n",
       "        1.40000000e+02,  1.66000000e+02,  1.84000000e+02,  1.29000000e+02,\n",
       "        1.38000000e+02,  1.51000000e+02,  1.64000000e+02,  1.61000000e+02,\n",
       "        2.05000000e+02,  9.60000000e+01,  1.24000000e+02,  1.41000000e+02,\n",
       "        1.12000000e+02,  9.50000000e+01,  7.60000000e+01,  1.01000000e+02,\n",
       "        8.20000000e+01,  7.90000000e+01,  7.20000000e+01,  1.06000000e+02,\n",
       "        1.03000000e+02,  1.00000000e+02,  8.30000000e+01,  1.10000000e+02,\n",
       "        9.40000000e+01,  1.17000000e+02,  8.50000000e+01,  9.10000000e+01,\n",
       "        7.50000000e+01,  1.30000000e+02,  7.00000000e+01,  8.80000000e+01,\n",
       "        7.40000000e+01,  1.19000000e+02,  1.16000000e+02,  1.36000000e+02,\n",
       "        7.10000000e+01,  1.02000000e+02,  8.00000000e+01,  9.20000000e+01,\n",
       "        1.13000000e+02,  4.70000000e+01,  6.80000000e+01,  4.90000000e+01,\n",
       "        2.20000000e+01,  1.90000000e+01,  5.90000000e+01,  6.50000000e+01,\n",
       "        5.40000000e+01,  6.60000000e+01,  5.60000000e+01,  6.90000000e+01,\n",
       "        8.40000000e+01,  9.80000000e+01,  1.35000000e+02,  7.80000000e+01,\n",
       "        2.30000000e+01,  2.40000000e+01,  3.30000000e+01,  3.80000000e+01,\n",
       "        4.80000000e+01,  8.10000000e+01,  9.00000000e+01,  4.50000000e+01,\n",
       "        3.20000000e+01,  3.70000000e+01,  2.50000000e+01,  4.40000000e+01,\n",
       "        4.20000000e+01,  9.30000000e+01,  8.90000000e+01,  1.05000000e+02,\n",
       "        9.90000000e+01,  5.70000000e+01,  2.00000000e+01,  1.48000000e+02,\n",
       "        6.70000000e+01,  6.00000000e+01,  5.50000000e+01,  1.11000000e+02,\n",
       "        5.80000000e+01,  1.08000000e+02,  1.32000000e+02,  7.70000000e+01,\n",
       "        9.70000000e+01,  8.60000000e+01,  8.70000000e+01,  1.09000000e+02,\n",
       "        1.43000000e+02,  1.15000000e+02,  1.31000000e+02,  1.52000000e+02,\n",
       "        1.18000000e+02,  1.34000000e+02,  1.44000000e+02,  2.39000000e+02,\n",
       "        1.75000000e+02,  2.47000000e+02,  2.17000000e+02,  2.41000000e+02,\n",
       "        1.95000000e+02,  2.78000000e+02,  1.68000000e+02,  2.03000000e+02,\n",
       "        1.89000000e+02,  1.57000000e+02,  1.28000000e+02,  2.18000000e+02,\n",
       "        2.08000000e+02,  3.21000000e+02,  2.44000000e+02,  2.60000000e+02,\n",
       "        2.81000000e+02,  2.13000000e+02,  2.64000000e+02,  2.91000000e+02,\n",
       "        2.94000000e+02,  2.51000000e+02,  2.77000000e+02,  1.85000000e+02,\n",
       "        2.50000000e+02,  2.29000000e+02,  2.35000000e+02,  2.63000000e+02,\n",
       "        2.26000000e+02,  2.59000000e+02,  2.69000000e+02,  1.94000000e+02,\n",
       "        1.96000000e+02,  2.23000000e+02,  1.98000000e+02,  1.42000000e+02,\n",
       "        1.77000000e+02,  1.82000000e+02,  1.46000000e+02,  1.53000000e+02,\n",
       "        1.04000000e+02,  1.07000000e+02,  6.40000000e+01,  6.30000000e+01,\n",
       "        5.10000000e+01,  6.20000000e+01,  5.30000000e+01,  4.10000000e+01,\n",
       "        3.40000000e+01,  6.10000000e+01,  2.80000000e+01,  3.10000000e+01,\n",
       "        3.00000000e+01,  5.00000000e+01,  2.90000000e+01,  5.20000000e+01,\n",
       "        4.00000000e+01,  4.60000000e+01,  4.30000000e+01,  7.30000000e+01,\n",
       "        1.14000000e+02,  1.37000000e+02,  2.40000000e+02,  2.25000000e+02,\n",
       "        2.19000000e+02,  2.67000000e+02,  2.49000000e+02,  2.53000000e+02,\n",
       "        2.11000000e+02,  2.54000000e+02,  2.48000000e+02,  1.45000000e+02,\n",
       "        3.50000000e+01,  3.60000000e+01,  3.90000000e+01,  2.60000000e+01,\n",
       "        1.69906314e+16,  1.20000000e+02,  2.27000000e+02,  3.00000000e+00,\n",
       "        2.75000000e+02,  2.95000000e+02,  2.36000000e+02,  3.07000000e+02,\n",
       "        2.97000000e+02,  2.70000000e+02,  2.37000000e+02,  1.23000000e+02,\n",
       "        2.86000000e+02,  3.18000000e+02,  2.80000000e+02,  3.08000000e+02,\n",
       "        2.84000000e+02,  2.57000000e+02,  2.74000000e+02,  2.62000000e+02,\n",
       "        3.37000000e+02,  2.79000000e+02,  3.02000000e+02,  2.83000000e+02,\n",
       "        2.70000000e+01,  2.93000000e+02,  2.98000000e+02,  1.60000000e+01,\n",
       "        3.04000000e+02,  3.76000000e+02,  3.42000000e+02,  3.13000000e+02,\n",
       "        3.36000000e+02,  3.15000000e+02,  3.14000000e+02,  2.89000000e+02,\n",
       "        3.01000000e+02,  3.20000000e+02,  3.26000000e+02,  3.56000000e+02,\n",
       "        3.16000000e+02,  3.12000000e+02,  3.00000000e+02,  3.43000000e+02,\n",
       "        3.11000000e+02,  3.73000000e+02,  2.71000000e+02,  3.44000000e+02,\n",
       "        3.30000000e+02,  3.39000000e+02,  3.29000000e+02,  3.41000000e+02,\n",
       "        2.85000000e+02,  3.57000000e+02,  3.10000000e+02,  3.03000000e+02,\n",
       "        3.23000000e+02,  3.51000000e+02,  3.48000000e+02,  3.40000000e+02,\n",
       "        3.77000000e+02,  3.09000000e+02,  3.22000000e+02,  3.34000000e+02,\n",
       "        3.32000000e+02,  3.27000000e+02,  3.06000000e+02,  3.17000000e+02,\n",
       "        3.52000000e+02,  3.05000000e+02,  3.35000000e+02,  3.68000000e+02,\n",
       "        3.49000000e+02,  3.31000000e+02,  3.63000000e+02,  3.25000000e+02,\n",
       "        3.19000000e+02,  3.28000000e+02,  3.55000000e+02,  3.64000000e+02,\n",
       "        3.75000000e+02,  3.59000000e+02,  8.00000000e+00,  9.00000000e+00,\n",
       "        3.65000000e+02,  3.72000000e+02,  3.33000000e+02,  6.00000000e+00,\n",
       "        1.00000000e+01,  1.70000000e+01,  2.10000000e+01,  1.20000000e+01,\n",
       "        1.80000000e+01,  0.00000000e+00,  1.30000000e+01,  1.50000000e+01,\n",
       "        5.00000000e+00,  4.00000000e+00,  2.00000000e+00,  1.40000000e+01,\n",
       "        1.00000000e+00, -9.00000000e+00,  7.00000000e+00, -7.00000000e+00,\n",
       "       -2.00000000e+00, -3.00000000e+00, -1.10000000e+01,  1.10000000e+01,\n",
       "       -1.00000000e+01, -1.20000000e+01, -1.30000000e+01, -5.00000000e+00,\n",
       "       -6.00000000e+00, -4.00000000e+00, -8.00000000e+00, -3.10000000e+01,\n",
       "       -1.00000000e+00, -1.40000000e+01, -1.70000000e+01, -2.30000000e+01,\n",
       "       -2.80000000e+01, -3.40000000e+01, -5.90000000e+01, -2.50000000e+01,\n",
       "       -4.10000000e+01, -1.60000000e+01, -2.20000000e+01, -2.40000000e+01,\n",
       "       -2.90000000e+01, -2.10000000e+01, -3.20000000e+01, -2.00000000e+01,\n",
       "       -1.80000000e+01, -4.20000000e+01, -3.30000000e+01, -4.30000000e+01,\n",
       "       -3.60000000e+01, -3.70000000e+01, -4.80000000e+01, -5.50000000e+01,\n",
       "       -4.00000000e+01, -1.90000000e+01, -2.70000000e+01, -4.90000000e+01,\n",
       "       -5.20000000e+01, -5.30000000e+01, -1.50000000e+01, -3.90000000e+01,\n",
       "       -3.00000000e+01, -3.80000000e+01, -4.40000000e+01, -2.60000000e+01,\n",
       "       -6.20000000e+01, -3.50000000e+01, -4.50000000e+01, -5.60000000e+01,\n",
       "       -7.00000000e+01, -7.20000000e+01,  3.60000000e+02,  3.54000000e+02,\n",
       "        3.46000000e+02,  3.38000000e+02,  3.69000000e+02,  3.53000000e+02,\n",
       "        3.61000000e+02,  3.83000000e+02,  3.74000000e+02,  3.47000000e+02,\n",
       "        3.86000000e+02,  3.58000000e+02,  3.79000000e+02,  3.50000000e+02,\n",
       "        4.02000000e+02,  3.70000000e+02,  3.94000000e+02,  3.90000000e+02,\n",
       "        3.82000000e+02,  3.62000000e+02,  3.89000000e+02,  3.66000000e+02,\n",
       "        3.91000000e+02,  3.80000000e+02])"
      ]
     },
     "execution_count": 8,
     "metadata": {},
     "output_type": "execute_result"
    }
   ],
   "source": [
    "data[\"Temp9am\"].unique()"
   ]
  },
  {
   "cell_type": "markdown",
   "id": "c94089e5-c423-4149-b236-0d4dad1839a4",
   "metadata": {},
   "source": [
    "### 2.3 Разбиение датафрейма на обучающую и тестовую выборки."
   ]
  },
  {
   "cell_type": "code",
   "execution_count": 9,
   "id": "646ea0b7-ebc5-45e0-b9cb-2029f89e3ad1",
   "metadata": {},
   "outputs": [
    {
     "name": "stdout",
     "output_type": "stream",
     "text": [
      "<class 'pandas.core.frame.DataFrame'>\n",
      "RangeIndex: 145460 entries, 0 to 145459\n",
      "Data columns (total 23 columns):\n",
      " #   Column         Non-Null Count   Dtype  \n",
      "---  ------         --------------   -----  \n",
      " 0   Date           145460 non-null  object \n",
      " 1   Location       145460 non-null  object \n",
      " 2   MinTemp        145460 non-null  float64\n",
      " 3   MaxTemp        145460 non-null  float64\n",
      " 4   Rainfall       145460 non-null  float64\n",
      " 5   Evaporation    145460 non-null  float64\n",
      " 6   Sunshine       145460 non-null  float64\n",
      " 7   WindGustDir    145460 non-null  object \n",
      " 8   WindGustSpeed  145460 non-null  float64\n",
      " 9   WindDir9am     145460 non-null  object \n",
      " 10  WindDir3pm     145460 non-null  object \n",
      " 11  WindSpeed9am   145460 non-null  float64\n",
      " 12  WindSpeed3pm   145460 non-null  float64\n",
      " 13  Humidity9am    145460 non-null  float64\n",
      " 14  Humidity3pm    145460 non-null  float64\n",
      " 15  Pressure9am    145460 non-null  float64\n",
      " 16  Pressure3pm    145460 non-null  float64\n",
      " 17  Cloud9am       145460 non-null  float64\n",
      " 18  Cloud3pm       145460 non-null  float64\n",
      " 19  Temp9am        145460 non-null  float64\n",
      " 20  Temp3pm        145460 non-null  float64\n",
      " 21  RainToday      145460 non-null  object \n",
      " 22  RainTomorrow   145460 non-null  object \n",
      "dtypes: float64(16), object(7)\n",
      "memory usage: 25.5+ MB\n"
     ]
    }
   ],
   "source": [
    "data.info()"
   ]
  },
  {
   "cell_type": "code",
   "execution_count": 10,
   "id": "159ec99c-8a65-4338-a502-6937f9d763e0",
   "metadata": {},
   "outputs": [],
   "source": [
    "from sklearn.preprocessing import StandardScaler\n",
    "from sklearn import preprocessing"
   ]
  },
  {
   "cell_type": "code",
   "execution_count": 11,
   "id": "f0f06297-a2cd-4ef3-8368-92db369a3353",
   "metadata": {},
   "outputs": [
    {
     "data": {
      "text/plain": [
       "array(['W', 'WNW', 'WSW', 'NE', 'NNW', 'N', 'NNE', 'SW', 'ENE', 'SSE',\n",
       "       'S', 'NW', 'SE', 'ESE', 'E', 'SSW'], dtype=object)"
      ]
     },
     "execution_count": 11,
     "metadata": {},
     "output_type": "execute_result"
    }
   ],
   "source": [
    "data['WindGustDir'].unique()"
   ]
  },
  {
   "cell_type": "code",
   "execution_count": 12,
   "id": "05999d6f-32e0-461c-be7e-dae70ab7fa41",
   "metadata": {},
   "outputs": [
    {
     "data": {
      "text/plain": [
       "array(['No', 'Yes'], dtype=object)"
      ]
     },
     "execution_count": 12,
     "metadata": {},
     "output_type": "execute_result"
    }
   ],
   "source": [
    "data['RainToday'].unique()"
   ]
  },
  {
   "cell_type": "code",
   "execution_count": 13,
   "id": "d6856737-7448-4320-bda7-b0c2f6057e88",
   "metadata": {},
   "outputs": [],
   "source": [
    "data['Location'] = pd.Categorical(data['Location']).codes\n",
    "data['WindGustDir'] = pd.Categorical(data['WindGustDir']).codes\n",
    "data['WindDir9am'] = pd.Categorical(data['WindDir9am']).codes\n",
    "data['WindDir3pm'] = pd.Categorical(data['WindDir3pm']).codes\n",
    "data['RainToday'] = pd.Categorical(data['RainToday']).codes\n",
    "data['RainTomorrow'] = pd.Categorical(data['RainTomorrow']).codes"
   ]
  },
  {
   "cell_type": "code",
   "execution_count": 14,
   "id": "056d4d6e-481d-4fc0-bbe0-b7161af2443c",
   "metadata": {},
   "outputs": [
    {
     "name": "stdout",
     "output_type": "stream",
     "text": [
      "<class 'pandas.core.frame.DataFrame'>\n",
      "RangeIndex: 145460 entries, 0 to 145459\n",
      "Data columns (total 23 columns):\n",
      " #   Column         Non-Null Count   Dtype  \n",
      "---  ------         --------------   -----  \n",
      " 0   Date           145460 non-null  object \n",
      " 1   Location       145460 non-null  int8   \n",
      " 2   MinTemp        145460 non-null  float64\n",
      " 3   MaxTemp        145460 non-null  float64\n",
      " 4   Rainfall       145460 non-null  float64\n",
      " 5   Evaporation    145460 non-null  float64\n",
      " 6   Sunshine       145460 non-null  float64\n",
      " 7   WindGustDir    145460 non-null  int8   \n",
      " 8   WindGustSpeed  145460 non-null  float64\n",
      " 9   WindDir9am     145460 non-null  int8   \n",
      " 10  WindDir3pm     145460 non-null  int8   \n",
      " 11  WindSpeed9am   145460 non-null  float64\n",
      " 12  WindSpeed3pm   145460 non-null  float64\n",
      " 13  Humidity9am    145460 non-null  float64\n",
      " 14  Humidity3pm    145460 non-null  float64\n",
      " 15  Pressure9am    145460 non-null  float64\n",
      " 16  Pressure3pm    145460 non-null  float64\n",
      " 17  Cloud9am       145460 non-null  float64\n",
      " 18  Cloud3pm       145460 non-null  float64\n",
      " 19  Temp9am        145460 non-null  float64\n",
      " 20  Temp3pm        145460 non-null  float64\n",
      " 21  RainToday      145460 non-null  int8   \n",
      " 22  RainTomorrow   145460 non-null  int8   \n",
      "dtypes: float64(16), int8(6), object(1)\n",
      "memory usage: 19.7+ MB\n"
     ]
    }
   ],
   "source": [
    "data.info()"
   ]
  },
  {
   "cell_type": "code",
   "execution_count": null,
   "id": "327be481-3f65-4aa1-b322-c069af8ed0bc",
   "metadata": {},
   "outputs": [],
   "source": []
  },
  {
   "cell_type": "code",
   "execution_count": 15,
   "id": "7a537975-07ad-4aaa-8d0a-4637e93daa70",
   "metadata": {},
   "outputs": [
    {
     "data": {
      "text/plain": [
       "Date             0\n",
       "Location         0\n",
       "MinTemp          0\n",
       "MaxTemp          0\n",
       "Rainfall         0\n",
       "Evaporation      0\n",
       "Sunshine         0\n",
       "WindGustDir      0\n",
       "WindGustSpeed    0\n",
       "WindDir9am       0\n",
       "WindDir3pm       0\n",
       "WindSpeed9am     0\n",
       "WindSpeed3pm     0\n",
       "Humidity9am      0\n",
       "Humidity3pm      0\n",
       "Pressure9am      0\n",
       "Pressure3pm      0\n",
       "Cloud9am         0\n",
       "Cloud3pm         0\n",
       "Temp9am          0\n",
       "Temp3pm          0\n",
       "RainToday        0\n",
       "RainTomorrow     0\n",
       "dtype: int64"
      ]
     },
     "execution_count": 15,
     "metadata": {},
     "output_type": "execute_result"
    }
   ],
   "source": [
    "data.isnull().sum()"
   ]
  },
  {
   "cell_type": "code",
   "execution_count": 16,
   "id": "201db518-8765-4b77-9931-8fd57e7af03c",
   "metadata": {},
   "outputs": [],
   "source": [
    "y = data['RainTomorrow']\n",
    "X = data.drop(['RainTomorrow'],axis = 1)"
   ]
  },
  {
   "cell_type": "code",
   "execution_count": 17,
   "id": "0843bdd2-b014-42e8-aa0c-6d7697f18b82",
   "metadata": {},
   "outputs": [
    {
     "ename": "ValueError",
     "evalue": "could not convert string to float: '2008-12-01'",
     "output_type": "error",
     "traceback": [
      "\u001b[0;31m---------------------------------------------------------------------------\u001b[0m",
      "\u001b[0;31mValueError\u001b[0m                                Traceback (most recent call last)",
      "\u001b[0;32m/var/folders/5m/pqtq1wd11j1d6pfnkny1707h0000gn/T/ipykernel_87341/2310620755.py\u001b[0m in \u001b[0;36m?\u001b[0;34m()\u001b[0m\n\u001b[0;32m----> 2\u001b[0;31m \u001b[0mscaler\u001b[0m \u001b[0;34m=\u001b[0m \u001b[0mStandardScaler\u001b[0m\u001b[0;34m(\u001b[0m\u001b[0;34m)\u001b[0m\u001b[0;34m\u001b[0m\u001b[0;34m\u001b[0m\u001b[0m\n\u001b[0m\u001b[1;32m      3\u001b[0m \u001b[0mX\u001b[0m \u001b[0;34m=\u001b[0m \u001b[0mscaler\u001b[0m\u001b[0;34m.\u001b[0m\u001b[0mfit_transform\u001b[0m\u001b[0;34m(\u001b[0m\u001b[0mX\u001b[0m\u001b[0;34m)\u001b[0m\u001b[0;34m\u001b[0m\u001b[0;34m\u001b[0m\u001b[0m\n",
      "\u001b[0;32m~/Desktop/ml/venv/lib/python3.9/site-packages/sklearn/utils/_set_output.py\u001b[0m in \u001b[0;36m?\u001b[0;34m(self, X, *args, **kwargs)\u001b[0m\n\u001b[1;32m    155\u001b[0m     \u001b[0;34m@\u001b[0m\u001b[0mwraps\u001b[0m\u001b[0;34m(\u001b[0m\u001b[0mf\u001b[0m\u001b[0;34m)\u001b[0m\u001b[0;34m\u001b[0m\u001b[0;34m\u001b[0m\u001b[0m\n\u001b[1;32m    156\u001b[0m     \u001b[0;32mdef\u001b[0m \u001b[0mwrapped\u001b[0m\u001b[0;34m(\u001b[0m\u001b[0mself\u001b[0m\u001b[0;34m,\u001b[0m \u001b[0mX\u001b[0m\u001b[0;34m,\u001b[0m \u001b[0;34m*\u001b[0m\u001b[0margs\u001b[0m\u001b[0;34m,\u001b[0m \u001b[0;34m**\u001b[0m\u001b[0mkwargs\u001b[0m\u001b[0;34m)\u001b[0m\u001b[0;34m:\u001b[0m\u001b[0;34m\u001b[0m\u001b[0;34m\u001b[0m\u001b[0m\n\u001b[0;32m--> 157\u001b[0;31m         \u001b[0mdata_to_wrap\u001b[0m \u001b[0;34m=\u001b[0m \u001b[0mf\u001b[0m\u001b[0;34m(\u001b[0m\u001b[0mself\u001b[0m\u001b[0;34m,\u001b[0m \u001b[0mX\u001b[0m\u001b[0;34m,\u001b[0m \u001b[0;34m*\u001b[0m\u001b[0margs\u001b[0m\u001b[0;34m,\u001b[0m \u001b[0;34m**\u001b[0m\u001b[0mkwargs\u001b[0m\u001b[0;34m)\u001b[0m\u001b[0;34m\u001b[0m\u001b[0;34m\u001b[0m\u001b[0m\n\u001b[0m\u001b[1;32m    158\u001b[0m         \u001b[0;32mif\u001b[0m \u001b[0misinstance\u001b[0m\u001b[0;34m(\u001b[0m\u001b[0mdata_to_wrap\u001b[0m\u001b[0;34m,\u001b[0m \u001b[0mtuple\u001b[0m\u001b[0;34m)\u001b[0m\u001b[0;34m:\u001b[0m\u001b[0;34m\u001b[0m\u001b[0;34m\u001b[0m\u001b[0m\n\u001b[1;32m    159\u001b[0m             \u001b[0;31m# only wrap the first output for cross decomposition\u001b[0m\u001b[0;34m\u001b[0m\u001b[0;34m\u001b[0m\u001b[0;34m\u001b[0m\u001b[0m\n\u001b[1;32m    160\u001b[0m             return_tuple = (\n",
      "\u001b[0;32m~/Desktop/ml/venv/lib/python3.9/site-packages/sklearn/base.py\u001b[0m in \u001b[0;36m?\u001b[0;34m(self, X, y, **fit_params)\u001b[0m\n\u001b[1;32m    912\u001b[0m         \u001b[0;31m# non-optimized default implementation; override when a better\u001b[0m\u001b[0;34m\u001b[0m\u001b[0;34m\u001b[0m\u001b[0;34m\u001b[0m\u001b[0m\n\u001b[1;32m    913\u001b[0m         \u001b[0;31m# method is possible for a given clustering algorithm\u001b[0m\u001b[0;34m\u001b[0m\u001b[0;34m\u001b[0m\u001b[0;34m\u001b[0m\u001b[0m\n\u001b[1;32m    914\u001b[0m         \u001b[0;32mif\u001b[0m \u001b[0my\u001b[0m \u001b[0;32mis\u001b[0m \u001b[0;32mNone\u001b[0m\u001b[0;34m:\u001b[0m\u001b[0;34m\u001b[0m\u001b[0;34m\u001b[0m\u001b[0m\n\u001b[1;32m    915\u001b[0m             \u001b[0;31m# fit method of arity 1 (unsupervised transformation)\u001b[0m\u001b[0;34m\u001b[0m\u001b[0;34m\u001b[0m\u001b[0;34m\u001b[0m\u001b[0m\n\u001b[0;32m--> 916\u001b[0;31m             \u001b[0;32mreturn\u001b[0m \u001b[0mself\u001b[0m\u001b[0;34m.\u001b[0m\u001b[0mfit\u001b[0m\u001b[0;34m(\u001b[0m\u001b[0mX\u001b[0m\u001b[0;34m,\u001b[0m \u001b[0;34m**\u001b[0m\u001b[0mfit_params\u001b[0m\u001b[0;34m)\u001b[0m\u001b[0;34m.\u001b[0m\u001b[0mtransform\u001b[0m\u001b[0;34m(\u001b[0m\u001b[0mX\u001b[0m\u001b[0;34m)\u001b[0m\u001b[0;34m\u001b[0m\u001b[0;34m\u001b[0m\u001b[0m\n\u001b[0m\u001b[1;32m    917\u001b[0m         \u001b[0;32melse\u001b[0m\u001b[0;34m:\u001b[0m\u001b[0;34m\u001b[0m\u001b[0;34m\u001b[0m\u001b[0m\n\u001b[1;32m    918\u001b[0m             \u001b[0;31m# fit method of arity 2 (supervised transformation)\u001b[0m\u001b[0;34m\u001b[0m\u001b[0;34m\u001b[0m\u001b[0;34m\u001b[0m\u001b[0m\n\u001b[1;32m    919\u001b[0m             \u001b[0;32mreturn\u001b[0m \u001b[0mself\u001b[0m\u001b[0;34m.\u001b[0m\u001b[0mfit\u001b[0m\u001b[0;34m(\u001b[0m\u001b[0mX\u001b[0m\u001b[0;34m,\u001b[0m \u001b[0my\u001b[0m\u001b[0;34m,\u001b[0m \u001b[0;34m**\u001b[0m\u001b[0mfit_params\u001b[0m\u001b[0;34m)\u001b[0m\u001b[0;34m.\u001b[0m\u001b[0mtransform\u001b[0m\u001b[0;34m(\u001b[0m\u001b[0mX\u001b[0m\u001b[0;34m)\u001b[0m\u001b[0;34m\u001b[0m\u001b[0;34m\u001b[0m\u001b[0m\n",
      "\u001b[0;32m~/Desktop/ml/venv/lib/python3.9/site-packages/sklearn/preprocessing/_data.py\u001b[0m in \u001b[0;36m?\u001b[0;34m(self, X, y, sample_weight)\u001b[0m\n\u001b[1;32m    835\u001b[0m             \u001b[0mFitted\u001b[0m \u001b[0mscaler\u001b[0m\u001b[0;34m.\u001b[0m\u001b[0;34m\u001b[0m\u001b[0;34m\u001b[0m\u001b[0m\n\u001b[1;32m    836\u001b[0m         \"\"\"\n\u001b[1;32m    837\u001b[0m         \u001b[0;31m# Reset internal state before fitting\u001b[0m\u001b[0;34m\u001b[0m\u001b[0;34m\u001b[0m\u001b[0;34m\u001b[0m\u001b[0m\n\u001b[1;32m    838\u001b[0m         \u001b[0mself\u001b[0m\u001b[0;34m.\u001b[0m\u001b[0m_reset\u001b[0m\u001b[0;34m(\u001b[0m\u001b[0;34m)\u001b[0m\u001b[0;34m\u001b[0m\u001b[0;34m\u001b[0m\u001b[0m\n\u001b[0;32m--> 839\u001b[0;31m         \u001b[0;32mreturn\u001b[0m \u001b[0mself\u001b[0m\u001b[0;34m.\u001b[0m\u001b[0mpartial_fit\u001b[0m\u001b[0;34m(\u001b[0m\u001b[0mX\u001b[0m\u001b[0;34m,\u001b[0m \u001b[0my\u001b[0m\u001b[0;34m,\u001b[0m \u001b[0msample_weight\u001b[0m\u001b[0;34m)\u001b[0m\u001b[0;34m\u001b[0m\u001b[0;34m\u001b[0m\u001b[0m\n\u001b[0m",
      "\u001b[0;32m~/Desktop/ml/venv/lib/python3.9/site-packages/sklearn/base.py\u001b[0m in \u001b[0;36m?\u001b[0;34m(estimator, *args, **kwargs)\u001b[0m\n\u001b[1;32m   1148\u001b[0m                 skip_parameter_validation=(\n\u001b[1;32m   1149\u001b[0m                     \u001b[0mprefer_skip_nested_validation\u001b[0m \u001b[0;32mor\u001b[0m \u001b[0mglobal_skip_validation\u001b[0m\u001b[0;34m\u001b[0m\u001b[0;34m\u001b[0m\u001b[0m\n\u001b[1;32m   1150\u001b[0m                 )\n\u001b[1;32m   1151\u001b[0m             ):\n\u001b[0;32m-> 1152\u001b[0;31m                 \u001b[0;32mreturn\u001b[0m \u001b[0mfit_method\u001b[0m\u001b[0;34m(\u001b[0m\u001b[0mestimator\u001b[0m\u001b[0;34m,\u001b[0m \u001b[0;34m*\u001b[0m\u001b[0margs\u001b[0m\u001b[0;34m,\u001b[0m \u001b[0;34m**\u001b[0m\u001b[0mkwargs\u001b[0m\u001b[0;34m)\u001b[0m\u001b[0;34m\u001b[0m\u001b[0;34m\u001b[0m\u001b[0m\n\u001b[0m",
      "\u001b[0;32m~/Desktop/ml/venv/lib/python3.9/site-packages/sklearn/preprocessing/_data.py\u001b[0m in \u001b[0;36m?\u001b[0;34m(self, X, y, sample_weight)\u001b[0m\n\u001b[1;32m    871\u001b[0m         \u001b[0mself\u001b[0m \u001b[0;34m:\u001b[0m \u001b[0mobject\u001b[0m\u001b[0;34m\u001b[0m\u001b[0;34m\u001b[0m\u001b[0m\n\u001b[1;32m    872\u001b[0m             \u001b[0mFitted\u001b[0m \u001b[0mscaler\u001b[0m\u001b[0;34m.\u001b[0m\u001b[0;34m\u001b[0m\u001b[0;34m\u001b[0m\u001b[0m\n\u001b[1;32m    873\u001b[0m         \"\"\"\n\u001b[1;32m    874\u001b[0m         \u001b[0mfirst_call\u001b[0m \u001b[0;34m=\u001b[0m \u001b[0;32mnot\u001b[0m \u001b[0mhasattr\u001b[0m\u001b[0;34m(\u001b[0m\u001b[0mself\u001b[0m\u001b[0;34m,\u001b[0m \u001b[0;34m\"n_samples_seen_\"\u001b[0m\u001b[0;34m)\u001b[0m\u001b[0;34m\u001b[0m\u001b[0;34m\u001b[0m\u001b[0m\n\u001b[0;32m--> 875\u001b[0;31m         X = self._validate_data(\n\u001b[0m\u001b[1;32m    876\u001b[0m             \u001b[0mX\u001b[0m\u001b[0;34m,\u001b[0m\u001b[0;34m\u001b[0m\u001b[0;34m\u001b[0m\u001b[0m\n\u001b[1;32m    877\u001b[0m             \u001b[0maccept_sparse\u001b[0m\u001b[0;34m=\u001b[0m\u001b[0;34m(\u001b[0m\u001b[0;34m\"csr\"\u001b[0m\u001b[0;34m,\u001b[0m \u001b[0;34m\"csc\"\u001b[0m\u001b[0;34m)\u001b[0m\u001b[0;34m,\u001b[0m\u001b[0;34m\u001b[0m\u001b[0;34m\u001b[0m\u001b[0m\n\u001b[1;32m    878\u001b[0m             \u001b[0mdtype\u001b[0m\u001b[0;34m=\u001b[0m\u001b[0mFLOAT_DTYPES\u001b[0m\u001b[0;34m,\u001b[0m\u001b[0;34m\u001b[0m\u001b[0;34m\u001b[0m\u001b[0m\n",
      "\u001b[0;32m~/Desktop/ml/venv/lib/python3.9/site-packages/sklearn/base.py\u001b[0m in \u001b[0;36m?\u001b[0;34m(self, X, y, reset, validate_separately, cast_to_ndarray, **check_params)\u001b[0m\n\u001b[1;32m    601\u001b[0m                 \u001b[0mout\u001b[0m \u001b[0;34m=\u001b[0m \u001b[0my\u001b[0m\u001b[0;34m\u001b[0m\u001b[0;34m\u001b[0m\u001b[0m\n\u001b[1;32m    602\u001b[0m             \u001b[0;32melse\u001b[0m\u001b[0;34m:\u001b[0m\u001b[0;34m\u001b[0m\u001b[0;34m\u001b[0m\u001b[0m\n\u001b[1;32m    603\u001b[0m                 \u001b[0mout\u001b[0m \u001b[0;34m=\u001b[0m \u001b[0mX\u001b[0m\u001b[0;34m,\u001b[0m \u001b[0my\u001b[0m\u001b[0;34m\u001b[0m\u001b[0;34m\u001b[0m\u001b[0m\n\u001b[1;32m    604\u001b[0m         \u001b[0;32melif\u001b[0m \u001b[0;32mnot\u001b[0m \u001b[0mno_val_X\u001b[0m \u001b[0;32mand\u001b[0m \u001b[0mno_val_y\u001b[0m\u001b[0;34m:\u001b[0m\u001b[0;34m\u001b[0m\u001b[0;34m\u001b[0m\u001b[0m\n\u001b[0;32m--> 605\u001b[0;31m             \u001b[0mout\u001b[0m \u001b[0;34m=\u001b[0m \u001b[0mcheck_array\u001b[0m\u001b[0;34m(\u001b[0m\u001b[0mX\u001b[0m\u001b[0;34m,\u001b[0m \u001b[0minput_name\u001b[0m\u001b[0;34m=\u001b[0m\u001b[0;34m\"X\"\u001b[0m\u001b[0;34m,\u001b[0m \u001b[0;34m**\u001b[0m\u001b[0mcheck_params\u001b[0m\u001b[0;34m)\u001b[0m\u001b[0;34m\u001b[0m\u001b[0;34m\u001b[0m\u001b[0m\n\u001b[0m\u001b[1;32m    606\u001b[0m         \u001b[0;32melif\u001b[0m \u001b[0mno_val_X\u001b[0m \u001b[0;32mand\u001b[0m \u001b[0;32mnot\u001b[0m \u001b[0mno_val_y\u001b[0m\u001b[0;34m:\u001b[0m\u001b[0;34m\u001b[0m\u001b[0;34m\u001b[0m\u001b[0m\n\u001b[1;32m    607\u001b[0m             \u001b[0mout\u001b[0m \u001b[0;34m=\u001b[0m \u001b[0m_check_y\u001b[0m\u001b[0;34m(\u001b[0m\u001b[0my\u001b[0m\u001b[0;34m,\u001b[0m \u001b[0;34m**\u001b[0m\u001b[0mcheck_params\u001b[0m\u001b[0;34m)\u001b[0m\u001b[0;34m\u001b[0m\u001b[0;34m\u001b[0m\u001b[0m\n\u001b[1;32m    608\u001b[0m         \u001b[0;32melse\u001b[0m\u001b[0;34m:\u001b[0m\u001b[0;34m\u001b[0m\u001b[0;34m\u001b[0m\u001b[0m\n",
      "\u001b[0;32m~/Desktop/ml/venv/lib/python3.9/site-packages/sklearn/utils/validation.py\u001b[0m in \u001b[0;36m?\u001b[0;34m(array, accept_sparse, accept_large_sparse, dtype, order, copy, force_all_finite, ensure_2d, allow_nd, ensure_min_samples, ensure_min_features, estimator, input_name)\u001b[0m\n\u001b[1;32m    913\u001b[0m                     \u001b[0marray\u001b[0m \u001b[0;34m=\u001b[0m \u001b[0mxp\u001b[0m\u001b[0;34m.\u001b[0m\u001b[0mastype\u001b[0m\u001b[0;34m(\u001b[0m\u001b[0marray\u001b[0m\u001b[0;34m,\u001b[0m \u001b[0mdtype\u001b[0m\u001b[0;34m,\u001b[0m \u001b[0mcopy\u001b[0m\u001b[0;34m=\u001b[0m\u001b[0;32mFalse\u001b[0m\u001b[0;34m)\u001b[0m\u001b[0;34m\u001b[0m\u001b[0;34m\u001b[0m\u001b[0m\n\u001b[1;32m    914\u001b[0m                 \u001b[0;32melse\u001b[0m\u001b[0;34m:\u001b[0m\u001b[0;34m\u001b[0m\u001b[0;34m\u001b[0m\u001b[0m\n\u001b[1;32m    915\u001b[0m                     \u001b[0marray\u001b[0m \u001b[0;34m=\u001b[0m \u001b[0m_asarray_with_order\u001b[0m\u001b[0;34m(\u001b[0m\u001b[0marray\u001b[0m\u001b[0;34m,\u001b[0m \u001b[0morder\u001b[0m\u001b[0;34m=\u001b[0m\u001b[0morder\u001b[0m\u001b[0;34m,\u001b[0m \u001b[0mdtype\u001b[0m\u001b[0;34m=\u001b[0m\u001b[0mdtype\u001b[0m\u001b[0;34m,\u001b[0m \u001b[0mxp\u001b[0m\u001b[0;34m=\u001b[0m\u001b[0mxp\u001b[0m\u001b[0;34m)\u001b[0m\u001b[0;34m\u001b[0m\u001b[0;34m\u001b[0m\u001b[0m\n\u001b[1;32m    916\u001b[0m             \u001b[0;32mexcept\u001b[0m \u001b[0mComplexWarning\u001b[0m \u001b[0;32mas\u001b[0m \u001b[0mcomplex_warning\u001b[0m\u001b[0;34m:\u001b[0m\u001b[0;34m\u001b[0m\u001b[0;34m\u001b[0m\u001b[0m\n\u001b[0;32m--> 917\u001b[0;31m                 raise ValueError(\n\u001b[0m\u001b[1;32m    918\u001b[0m                     \u001b[0;34m\"Complex data not supported\\n{}\\n\"\u001b[0m\u001b[0;34m.\u001b[0m\u001b[0mformat\u001b[0m\u001b[0;34m(\u001b[0m\u001b[0marray\u001b[0m\u001b[0;34m)\u001b[0m\u001b[0;34m\u001b[0m\u001b[0;34m\u001b[0m\u001b[0m\n\u001b[1;32m    919\u001b[0m                 ) from complex_warning\n\u001b[1;32m    920\u001b[0m \u001b[0;34m\u001b[0m\u001b[0m\n",
      "\u001b[0;32m~/Desktop/ml/venv/lib/python3.9/site-packages/sklearn/utils/_array_api.py\u001b[0m in \u001b[0;36m?\u001b[0;34m(array, dtype, order, copy, xp)\u001b[0m\n\u001b[1;32m    376\u001b[0m         \u001b[0;31m# Use NumPy API to support order\u001b[0m\u001b[0;34m\u001b[0m\u001b[0;34m\u001b[0m\u001b[0;34m\u001b[0m\u001b[0m\n\u001b[1;32m    377\u001b[0m         \u001b[0;32mif\u001b[0m \u001b[0mcopy\u001b[0m \u001b[0;32mis\u001b[0m \u001b[0;32mTrue\u001b[0m\u001b[0;34m:\u001b[0m\u001b[0;34m\u001b[0m\u001b[0;34m\u001b[0m\u001b[0m\n\u001b[1;32m    378\u001b[0m             \u001b[0marray\u001b[0m \u001b[0;34m=\u001b[0m \u001b[0mnumpy\u001b[0m\u001b[0;34m.\u001b[0m\u001b[0marray\u001b[0m\u001b[0;34m(\u001b[0m\u001b[0marray\u001b[0m\u001b[0;34m,\u001b[0m \u001b[0morder\u001b[0m\u001b[0;34m=\u001b[0m\u001b[0morder\u001b[0m\u001b[0;34m,\u001b[0m \u001b[0mdtype\u001b[0m\u001b[0;34m=\u001b[0m\u001b[0mdtype\u001b[0m\u001b[0;34m)\u001b[0m\u001b[0;34m\u001b[0m\u001b[0;34m\u001b[0m\u001b[0m\n\u001b[1;32m    379\u001b[0m         \u001b[0;32melse\u001b[0m\u001b[0;34m:\u001b[0m\u001b[0;34m\u001b[0m\u001b[0;34m\u001b[0m\u001b[0m\n\u001b[0;32m--> 380\u001b[0;31m             \u001b[0marray\u001b[0m \u001b[0;34m=\u001b[0m \u001b[0mnumpy\u001b[0m\u001b[0;34m.\u001b[0m\u001b[0masarray\u001b[0m\u001b[0;34m(\u001b[0m\u001b[0marray\u001b[0m\u001b[0;34m,\u001b[0m \u001b[0morder\u001b[0m\u001b[0;34m=\u001b[0m\u001b[0morder\u001b[0m\u001b[0;34m,\u001b[0m \u001b[0mdtype\u001b[0m\u001b[0;34m=\u001b[0m\u001b[0mdtype\u001b[0m\u001b[0;34m)\u001b[0m\u001b[0;34m\u001b[0m\u001b[0;34m\u001b[0m\u001b[0m\n\u001b[0m\u001b[1;32m    381\u001b[0m \u001b[0;34m\u001b[0m\u001b[0m\n\u001b[1;32m    382\u001b[0m         \u001b[0;31m# At this point array is a NumPy ndarray. We convert it to an array\u001b[0m\u001b[0;34m\u001b[0m\u001b[0;34m\u001b[0m\u001b[0;34m\u001b[0m\u001b[0m\n\u001b[1;32m    383\u001b[0m         \u001b[0;31m# container that is consistent with the input's namespace.\u001b[0m\u001b[0;34m\u001b[0m\u001b[0;34m\u001b[0m\u001b[0;34m\u001b[0m\u001b[0m\n",
      "\u001b[0;32m~/Desktop/ml/venv/lib/python3.9/site-packages/pandas/core/generic.py\u001b[0m in \u001b[0;36m?\u001b[0;34m(self, dtype)\u001b[0m\n\u001b[1;32m   2082\u001b[0m     \u001b[0;32mdef\u001b[0m \u001b[0m__array__\u001b[0m\u001b[0;34m(\u001b[0m\u001b[0mself\u001b[0m\u001b[0;34m,\u001b[0m \u001b[0mdtype\u001b[0m\u001b[0;34m:\u001b[0m \u001b[0mnpt\u001b[0m\u001b[0;34m.\u001b[0m\u001b[0mDTypeLike\u001b[0m \u001b[0;34m|\u001b[0m \u001b[0;32mNone\u001b[0m \u001b[0;34m=\u001b[0m \u001b[0;32mNone\u001b[0m\u001b[0;34m)\u001b[0m \u001b[0;34m->\u001b[0m \u001b[0mnp\u001b[0m\u001b[0;34m.\u001b[0m\u001b[0mndarray\u001b[0m\u001b[0;34m:\u001b[0m\u001b[0;34m\u001b[0m\u001b[0;34m\u001b[0m\u001b[0m\n\u001b[1;32m   2083\u001b[0m         \u001b[0mvalues\u001b[0m \u001b[0;34m=\u001b[0m \u001b[0mself\u001b[0m\u001b[0;34m.\u001b[0m\u001b[0m_values\u001b[0m\u001b[0;34m\u001b[0m\u001b[0;34m\u001b[0m\u001b[0m\n\u001b[0;32m-> 2084\u001b[0;31m         \u001b[0marr\u001b[0m \u001b[0;34m=\u001b[0m \u001b[0mnp\u001b[0m\u001b[0;34m.\u001b[0m\u001b[0masarray\u001b[0m\u001b[0;34m(\u001b[0m\u001b[0mvalues\u001b[0m\u001b[0;34m,\u001b[0m \u001b[0mdtype\u001b[0m\u001b[0;34m=\u001b[0m\u001b[0mdtype\u001b[0m\u001b[0;34m)\u001b[0m\u001b[0;34m\u001b[0m\u001b[0;34m\u001b[0m\u001b[0m\n\u001b[0m\u001b[1;32m   2085\u001b[0m         if (\n\u001b[1;32m   2086\u001b[0m             \u001b[0mastype_is_view\u001b[0m\u001b[0;34m(\u001b[0m\u001b[0mvalues\u001b[0m\u001b[0;34m.\u001b[0m\u001b[0mdtype\u001b[0m\u001b[0;34m,\u001b[0m \u001b[0marr\u001b[0m\u001b[0;34m.\u001b[0m\u001b[0mdtype\u001b[0m\u001b[0;34m)\u001b[0m\u001b[0;34m\u001b[0m\u001b[0;34m\u001b[0m\u001b[0m\n\u001b[1;32m   2087\u001b[0m             \u001b[0;32mand\u001b[0m \u001b[0musing_copy_on_write\u001b[0m\u001b[0;34m(\u001b[0m\u001b[0;34m)\u001b[0m\u001b[0;34m\u001b[0m\u001b[0;34m\u001b[0m\u001b[0m\n",
      "\u001b[0;31mValueError\u001b[0m: could not convert string to float: '2008-12-01'"
     ]
    }
   ],
   "source": [
    "scaler = StandardScaler()\n",
    "X = scaler.fit_transform(X)"
   ]
  },
  {
   "cell_type": "code",
   "execution_count": 18,
   "id": "8c6b5b3d-ccd4-466f-af5b-710383e64ece",
   "metadata": {},
   "outputs": [
    {
     "data": {
      "text/plain": [
       "(113583, 22)"
      ]
     },
     "execution_count": 18,
     "metadata": {},
     "output_type": "execute_result"
    }
   ],
   "source": [
    "X[y==0].shape"
   ]
  },
  {
   "cell_type": "code",
   "execution_count": 19,
   "id": "acc6c6a5-6fd1-47c6-9416-5d4bac6103e7",
   "metadata": {},
   "outputs": [
    {
     "data": {
      "text/plain": [
       "(31877, 22)"
      ]
     },
     "execution_count": 19,
     "metadata": {},
     "output_type": "execute_result"
    }
   ],
   "source": [
    "X[y==1].shape"
   ]
  },
  {
   "cell_type": "code",
   "execution_count": 18,
   "id": "2f9527e5-a225-4ebf-9073-9c1fc5c09588",
   "metadata": {},
   "outputs": [
    {
     "name": "stdout",
     "output_type": "stream",
     "text": [
      "Requirement already satisfied: imblearn in /Users/sergejkotov/Desktop/ml/venv/lib/python3.9/site-packages (0.0)\n",
      "Requirement already satisfied: imbalanced-learn in /Users/sergejkotov/Desktop/ml/venv/lib/python3.9/site-packages (from imblearn) (0.11.0)\n",
      "Requirement already satisfied: numpy>=1.17.3 in /Users/sergejkotov/Desktop/ml/venv/lib/python3.9/site-packages (from imbalanced-learn->imblearn) (1.24.3)\n",
      "Requirement already satisfied: scipy>=1.5.0 in /Users/sergejkotov/Desktop/ml/venv/lib/python3.9/site-packages (from imbalanced-learn->imblearn) (1.11.2)\n",
      "Requirement already satisfied: scikit-learn>=1.0.2 in /Users/sergejkotov/Desktop/ml/venv/lib/python3.9/site-packages (from imbalanced-learn->imblearn) (1.3.1)\n",
      "Requirement already satisfied: joblib>=1.1.1 in /Users/sergejkotov/Desktop/ml/venv/lib/python3.9/site-packages (from imbalanced-learn->imblearn) (1.3.2)\n",
      "Requirement already satisfied: threadpoolctl>=2.0.0 in /Users/sergejkotov/Desktop/ml/venv/lib/python3.9/site-packages (from imbalanced-learn->imblearn) (3.2.0)\n"
     ]
    }
   ],
   "source": [
    "!pip install imblearn"
   ]
  },
  {
   "cell_type": "code",
   "execution_count": 19,
   "id": "b698d5a2-d24f-447a-9ddd-e4fdd13bd3a4",
   "metadata": {},
   "outputs": [],
   "source": [
    "from imblearn.under_sampling import RandomUnderSampler\n",
    "\n",
    "Russia = RandomUnderSampler()\n",
    "X_res, y_res = Russia.fit_resample(X, y)"
   ]
  },
  {
   "cell_type": "code",
   "execution_count": 29,
   "id": "019abe53-7104-46c8-bb14-c462ac719bab",
   "metadata": {},
   "outputs": [
    {
     "ename": "NameError",
     "evalue": "name 'train_test_split' is not defined",
     "output_type": "error",
     "traceback": [
      "\u001b[0;31m---------------------------------------------------------------------------\u001b[0m",
      "\u001b[0;31mNameError\u001b[0m                                 Traceback (most recent call last)",
      "Cell \u001b[0;32mIn[29], line 1\u001b[0m\n\u001b[0;32m----> 1\u001b[0m X_train, X_test, y_train, y_test \u001b[38;5;241m=\u001b[39m \u001b[43mtrain_test_split\u001b[49m(X_res,y_res,test_size\u001b[38;5;241m=\u001b[39m\u001b[38;5;241m0.2\u001b[39m,random_state\u001b[38;5;241m=\u001b[39m\u001b[38;5;241m0\u001b[39m)\n",
      "\u001b[0;31mNameError\u001b[0m: name 'train_test_split' is not defined"
     ]
    }
   ],
   "source": [
    "X_train, X_test, y_train, y_test = train_test_split(X_res,y_res,test_size=0.2,random_state=0)"
   ]
  },
  {
   "cell_type": "markdown",
   "id": "42090bc4-42eb-440b-93a5-7c24a039c7e9",
   "metadata": {},
   "source": [
    "### 2.4 Logistic Regression."
   ]
  },
  {
   "cell_type": "code",
   "execution_count": 21,
   "id": "3cca499a-70c3-4c59-87ac-a6d8c013c85c",
   "metadata": {},
   "outputs": [],
   "source": [
    "from sklearn.metrics import f1_score, classification_report\n",
    "from sklearn.linear_model import LogisticRegression"
   ]
  },
  {
   "cell_type": "code",
   "execution_count": 180,
   "id": "3c3f8421-c08c-4521-9dee-54a909b509ea",
   "metadata": {
    "scrolled": true
   },
   "outputs": [
    {
     "name": "stdout",
     "output_type": "stream",
     "text": [
      "              precision    recall  f1-score   support\n",
      "\n",
      "           0       0.76      0.80      0.78      6241\n",
      "           1       0.80      0.76      0.78      6510\n",
      "\n",
      "    accuracy                           0.78     12751\n",
      "   macro avg       0.78      0.78      0.78     12751\n",
      "weighted avg       0.78      0.78      0.78     12751\n",
      "\n",
      "Predicted labels:  [1 1 0 ... 1 1 1]\n",
      "F1-score:  0.7805684591764427\n"
     ]
    }
   ],
   "source": [
    "model = LogisticRegression()\n",
    "model.fit(X_train, y_train)\n",
    "predictions = model.predict(X_test)\n",
    "\n",
    "print(classification_report(y_test, predictions))\n",
    "print('Predicted labels: ', predictions)\n",
    "print('F1-score: ', f1_score(y_test, predictions))"
   ]
  },
  {
   "cell_type": "code",
   "execution_count": 207,
   "id": "689dc28b-577f-441b-af16-c6ffb9e13f39",
   "metadata": {},
   "outputs": [
    {
     "name": "stdout",
     "output_type": "stream",
     "text": [
      "0.7818596044048437\n"
     ]
    },
    {
     "data": {
      "image/png": "[encoded data removed]",
      "text/plain": [
       "<Figure size 640x480 with 1 Axes>"
      ]
     },
     "metadata": {},
     "output_type": "display_data"
    }
   ],
   "source": [
    "print(roc_auc_score(y_test, predictions))\n",
    "\n",
    "fpr, tpr, plot = roc_curve(y_test, predictions)\n",
    "\n",
    "plt.plot(fpr, tpr)\n",
    "plt.xlabel('Доля ложноположительных результатов')\n",
    "plt.ylabel('Истинно положительный коэффициент')\n",
    "plt.title('Кривая ROC')\n",
    "plt.show()"
   ]
  },
  {
   "cell_type": "markdown",
   "id": "6b47656d-1281-4336-803c-42e1677bf58f",
   "metadata": {},
   "source": [
    "### 2.5 k-NN"
   ]
  },
  {
   "cell_type": "code",
   "execution_count": 23,
   "id": "ab343e58-561d-4c8b-890a-786fac81135f",
   "metadata": {},
   "outputs": [],
   "source": [
    "from sklearn.metrics import f1_score, cohen_kappa_score, confusion_matrix\n",
    "from sklearn.neighbors import KNeighborsClassifier\n",
    "from sklearn.model_selection import GridSearchCV"
   ]
  },
  {
   "cell_type": "code",
   "execution_count": 188,
   "id": "e52fed8a-4c16-4412-b6b7-65a81bed8f2c",
   "metadata": {},
   "outputs": [],
   "source": [
    "knn_params = {'n_neighbors': range(1, 51)}"
   ]
  },
  {
   "cell_type": "code",
   "execution_count": 189,
   "id": "19cdfb5f-c23f-4d2a-95f4-79979cfc92ba",
   "metadata": {},
   "outputs": [],
   "source": [
    "knn = KNeighborsClassifier(n_neighbors=3, metric='minkowski', p=2)"
   ]
  },
  {
   "cell_type": "code",
   "execution_count": 190,
   "id": "b77c0b20-f8af-4c24-ac84-1057e723215d",
   "metadata": {},
   "outputs": [
    {
     "name": "stdout",
     "output_type": "stream",
     "text": [
      "Fitting 5 folds for each of 50 candidates, totalling 250 fits\n"
     ]
    }
   ],
   "source": [
    "knn_grid = GridSearchCV(knn,\n",
    "                              knn_params,\n",
    "                              cv=5,\n",
    "                              n_jobs=-1,\n",
    "                              verbose=True).fit(X_train, y_train)"
   ]
  },
  {
   "cell_type": "code",
   "execution_count": 192,
   "id": "402e7021-6b56-4ddb-81c5-b82892e564eb",
   "metadata": {},
   "outputs": [
    {
     "data": {
      "text/plain": [
       "{'n_neighbors': 35}"
      ]
     },
     "execution_count": 192,
     "metadata": {},
     "output_type": "execute_result"
    }
   ],
   "source": [
    "knn_grid.best_params_"
   ]
  },
  {
   "cell_type": "code",
   "execution_count": 193,
   "id": "e73fb24b-7a13-445e-9984-14343d40f31e",
   "metadata": {},
   "outputs": [
    {
     "data": {
      "text/plain": [
       "0.7785424381692682"
      ]
     },
     "execution_count": 193,
     "metadata": {},
     "output_type": "execute_result"
    }
   ],
   "source": [
    "knn_grid.best_score_"
   ]
  },
  {
   "cell_type": "code",
   "execution_count": 197,
   "id": "cf4d40c6-420e-475e-8770-1e7fca48e714",
   "metadata": {},
   "outputs": [
    {
     "name": "stdout",
     "output_type": "stream",
     "text": [
      "              precision    recall  f1-score   support\n",
      "\n",
      "           0       0.77      0.80      0.78      6241\n",
      "           1       0.80      0.76      0.78      6510\n",
      "\n",
      "    accuracy                           0.78     12751\n",
      "   macro avg       0.78      0.78      0.78     12751\n",
      "weighted avg       0.78      0.78      0.78     12751\n",
      "\n",
      "Predicted labels:  [1 1 0 ... 1 1 1]\n"
     ]
    }
   ],
   "source": [
    "predictions_knn = knn_grid.predict(X_test)\n",
    "print(classification_report(y_test, predictions_knn))\n",
    "print('Predicted labels: ', predictions_knn)"
   ]
  },
  {
   "cell_type": "code",
   "execution_count": 25,
   "id": "e2bf4aad-df81-4a5c-afcf-ec4092dcc3fd",
   "metadata": {},
   "outputs": [
    {
     "ename": "NameError",
     "evalue": "name 'y_test' is not defined",
     "output_type": "error",
     "traceback": [
      "\u001b[0;31m---------------------------------------------------------------------------\u001b[0m",
      "\u001b[0;31mNameError\u001b[0m                                 Traceback (most recent call last)",
      "Cell \u001b[0;32mIn[25], line 5\u001b[0m\n\u001b[1;32m      2\u001b[0m \u001b[38;5;28;01mfrom\u001b[39;00m \u001b[38;5;21;01msklearn\u001b[39;00m\u001b[38;5;21;01m.\u001b[39;00m\u001b[38;5;21;01mmetrics\u001b[39;00m \u001b[38;5;28;01mimport\u001b[39;00m roc_auc_score\n\u001b[1;32m      3\u001b[0m \u001b[38;5;28;01mfrom\u001b[39;00m \u001b[38;5;21;01msklearn\u001b[39;00m\u001b[38;5;21;01m.\u001b[39;00m\u001b[38;5;21;01mmetrics\u001b[39;00m \u001b[38;5;28;01mimport\u001b[39;00m roc_curve\n\u001b[0;32m----> 5\u001b[0m \u001b[38;5;28mprint\u001b[39m(roc_auc_score(\u001b[43my_test\u001b[49m, predictions_knn))\n\u001b[1;32m      7\u001b[0m fpr, tpr, plot \u001b[38;5;241m=\u001b[39m roc_curve(y_test, predictions_knn)\n\u001b[1;32m      9\u001b[0m plt\u001b[38;5;241m.\u001b[39mplot(fpr, tpr)\n",
      "\u001b[0;31mNameError\u001b[0m: name 'y_test' is not defined"
     ]
    }
   ],
   "source": [
    "import matplotlib.pyplot as plt\n",
    "from sklearn.metrics import roc_auc_score\n",
    "from sklearn.metrics import roc_curve\n",
    "\n",
    "print(roc_auc_score(y_test, predictions_knn))\n",
    "\n",
    "fpr, tpr, plot = roc_curve(y_test, predictions_knn)\n",
    "\n",
    "plt.plot(fpr, tpr)\n",
    "plt.xlabel('Доля ложноположительных результатов')\n",
    "plt.ylabel('Истинно положительный коэффициент')\n",
    "plt.title('Кривая ROC')\n",
    "plt.show()"
   ]
  },
  {
   "cell_type": "markdown",
   "id": "4a88edee-1c24-44f4-b7f9-84434ca590e6",
   "metadata": {},
   "source": [
    "### 2.6 Naive Bayes"
   ]
  },
  {
   "cell_type": "code",
   "execution_count": 30,
   "id": "24a97d3e-8c5f-4e80-9d90-e59b6dcb49f4",
   "metadata": {},
   "outputs": [],
   "source": [
    "from sklearn.naive_bayes import GaussianNB\n",
    "from sklearn.metrics import accuracy_score\n",
    "from sklearn.metrics import f1_score, classification_report"
   ]
  },
  {
   "cell_type": "code",
   "execution_count": 31,
   "id": "d9fa211c-ed97-4941-9d2c-87d5f77be605",
   "metadata": {},
   "outputs": [
    {
     "ename": "NameError",
     "evalue": "name 'X_train' is not defined",
     "output_type": "error",
     "traceback": [
      "\u001b[0;31m---------------------------------------------------------------------------\u001b[0m",
      "\u001b[0;31mNameError\u001b[0m                                 Traceback (most recent call last)",
      "Cell \u001b[0;32mIn[31], line 2\u001b[0m\n\u001b[1;32m      1\u001b[0m gnb \u001b[38;5;241m=\u001b[39m GaussianNB()\n\u001b[0;32m----> 2\u001b[0m gnb\u001b[38;5;241m.\u001b[39mfit(\u001b[43mX_train\u001b[49m, y_train)\n\u001b[1;32m      3\u001b[0m predictions_gnb\u001b[38;5;241m=\u001b[39m gnb\u001b[38;5;241m.\u001b[39mpredict(X_test)\n\u001b[1;32m      4\u001b[0m accuracy_score(y_test, predictions_gnb)\n",
      "\u001b[0;31mNameError\u001b[0m: name 'X_train' is not defined"
     ]
    }
   ],
   "source": [
    "gnb = GaussianNB()\n",
    "gnb.fit(X_train, y_train)\n",
    "predictions_gnb= gnb.predict(X_test)\n",
    "accuracy_score(y_test, predictions_gnb)"
   ]
  },
  {
   "cell_type": "code",
   "execution_count": 32,
   "id": "4a6d517f-e074-4a36-bb80-8928e20c0a35",
   "metadata": {},
   "outputs": [
    {
     "ename": "NameError",
     "evalue": "name 'X_test' is not defined",
     "output_type": "error",
     "traceback": [
      "\u001b[0;31m---------------------------------------------------------------------------\u001b[0m",
      "\u001b[0;31mNameError\u001b[0m                                 Traceback (most recent call last)",
      "Cell \u001b[0;32mIn[32], line 1\u001b[0m\n\u001b[0;32m----> 1\u001b[0m predictions_gnb\u001b[38;5;241m=\u001b[39m gnb\u001b[38;5;241m.\u001b[39mpredict(\u001b[43mX_test\u001b[49m)\n\u001b[1;32m      2\u001b[0m \u001b[38;5;28mprint\u001b[39m(classification_report(y_test, predictions_gnb))\n\u001b[1;32m      3\u001b[0m \u001b[38;5;28mprint\u001b[39m(\u001b[38;5;124m'\u001b[39m\u001b[38;5;124mPredicted labels: \u001b[39m\u001b[38;5;124m'\u001b[39m, predictions_gnb)\n",
      "\u001b[0;31mNameError\u001b[0m: name 'X_test' is not defined"
     ]
    }
   ],
   "source": [
    "predictions_gnb= gnb.predict(X_test)\n",
    "print(classification_report(y_test, predictions_gnb))\n",
    "print('Predicted labels: ', predictions_gnb)"
   ]
  },
  {
   "cell_type": "code",
   "execution_count": 206,
   "id": "f9eb59ce-89cb-4797-a9f8-3fada1cbc0b5",
   "metadata": {},
   "outputs": [
    {
     "name": "stdout",
     "output_type": "stream",
     "text": [
      "0.7520440617284588\n"
     ]
    },
    {
     "data": {
      "image/png": "[encoded data removed]",
      "text/plain": [
       "<Figure size 640x480 with 1 Axes>"
      ]
     },
     "metadata": {},
     "output_type": "display_data"
    }
   ],
   "source": [
    "print(roc_auc_score(y_test, predictions_gnb))\n",
    "\n",
    "fpr, tpr, plot = roc_curve(y_test, predictions_gnb)\n",
    "\n",
    "plt.plot(fpr, tpr)\n",
    "plt.xlabel('Доля ложноположительных результатов')\n",
    "plt.ylabel('Истинно положительный коэффициент')\n",
    "plt.title('Кривая ROC')\n",
    "plt.show()"
   ]
  },
  {
   "cell_type": "markdown",
   "id": "349eda9c-b620-451e-ba21-3a7398ff1d69",
   "metadata": {},
   "source": [
    "### 2.7 SVM"
   ]
  },
  {
   "cell_type": "code",
   "execution_count": 28,
   "id": "c6b0d930-7a8c-4516-b1ea-c51f361bd5ed",
   "metadata": {},
   "outputs": [],
   "source": [
    "from sklearn import svm"
   ]
  },
  {
   "cell_type": "code",
   "execution_count": 213,
   "id": "b1f7edfc-4cbc-4e45-9a7d-9ed9f4816cfd",
   "metadata": {},
   "outputs": [
    {
     "data": {
      "text/plain": [
       "0.8000941102658615"
      ]
     },
     "execution_count": 213,
     "metadata": {},
     "output_type": "execute_result"
    }
   ],
   "source": [
    "SVM = svm.SVC()\n",
    "SVM.fit(X_train, y_train)\n",
    "\n",
    "predictions_svm = SVM.predict(X_test)\n",
    "accuracy_score(y_test, predictions_svm)"
   ]
  },
  {
   "cell_type": "code",
   "execution_count": 212,
   "id": "2782d782-09be-4468-8b52-1bd56c6b25a6",
   "metadata": {},
   "outputs": [
    {
     "name": "stdout",
     "output_type": "stream",
     "text": [
      "              precision    recall  f1-score   support\n",
      "\n",
      "           0       0.78      0.82      0.80      6241\n",
      "           1       0.82      0.79      0.80      6510\n",
      "\n",
      "    accuracy                           0.80     12751\n",
      "   macro avg       0.80      0.80      0.80     12751\n",
      "weighted avg       0.80      0.80      0.80     12751\n",
      "\n"
     ]
    }
   ],
   "source": [
    "print(classification_report(y_test, predictions_svm))"
   ]
  },
  {
   "cell_type": "code",
   "execution_count": 216,
   "id": "0f296f11-1bf6-4301-aa10-b3ab0a80cd40",
   "metadata": {},
   "outputs": [
    {
     "name": "stdout",
     "output_type": "stream",
     "text": [
      "0.8004106312475526\n"
     ]
    },
    {
     "data": {
      "image/png": "[encoded data removed]",
      "text/plain": [
       "<Figure size 640x480 with 1 Axes>"
      ]
     },
     "metadata": {},
     "output_type": "display_data"
    }
   ],
   "source": [
    "print(roc_auc_score(y_test, predictions_svm))\n",
    "\n",
    "fpr, tpr, plot = roc_curve(y_test, predictions_svm)\n",
    "\n",
    "plt.plot(fpr, tpr)\n",
    "plt.xlabel('Доля ложноположительных результатов')\n",
    "plt.ylabel('Истинно положительный коэффициент')\n",
    "plt.title('Кривая ROC')\n",
    "plt.show()"
   ]
  },
  {
   "cell_type": "markdown",
   "id": "80036871-f178-44bf-ab3c-c267796d3e98",
   "metadata": {},
   "source": [
    "### 2.8 Построение итоговой модели классификатора "
   ]
  },
  {
   "cell_type": "code",
   "execution_count": 218,
   "id": "11a5fff3-d6e3-4546-84c6-cd1467290995",
   "metadata": {},
   "outputs": [],
   "source": [
    "classifiers = {\n",
    "    'Logistic Regression': model,\n",
    "    'KNN classifier': knn_grid,\n",
    "    'Naive Bayes' : gnb,\n",
    "    'SVM': SVM\n",
    "}"
   ]
  },
  {
   "cell_type": "code",
   "execution_count": 219,
   "id": "62d14fdc-b748-4ac5-86cf-af406dd8eb57",
   "metadata": {},
   "outputs": [
    {
     "name": "stdout",
     "output_type": "stream",
     "text": [
      "Accuracy (train) for Logistic Regression: 78.1% \n",
      "              precision    recall  f1-score   support\n",
      "\n",
      "           0       0.76      0.80      0.78      6241\n",
      "           1       0.80      0.76      0.78      6510\n",
      "\n",
      "    accuracy                           0.78     12751\n",
      "   macro avg       0.78      0.78      0.78     12751\n",
      "weighted avg       0.78      0.78      0.78     12751\n",
      "\n",
      "Accuracy (train) for KNN classifier: 78.3% \n",
      "              precision    recall  f1-score   support\n",
      "\n",
      "           0       0.77      0.80      0.78      6241\n",
      "           1       0.80      0.76      0.78      6510\n",
      "\n",
      "    accuracy                           0.78     12751\n",
      "   macro avg       0.78      0.78      0.78     12751\n",
      "weighted avg       0.78      0.78      0.78     12751\n",
      "\n",
      "Accuracy (train) for Naive Bayes: 75.1% \n",
      "              precision    recall  f1-score   support\n",
      "\n",
      "           0       0.72      0.81      0.76      6241\n",
      "           1       0.79      0.69      0.74      6510\n",
      "\n",
      "    accuracy                           0.75     12751\n",
      "   macro avg       0.76      0.75      0.75     12751\n",
      "weighted avg       0.76      0.75      0.75     12751\n",
      "\n",
      "Accuracy (train) for SVM: 80.0% \n",
      "              precision    recall  f1-score   support\n",
      "\n",
      "           0       0.78      0.82      0.80      6241\n",
      "           1       0.82      0.79      0.80      6510\n",
      "\n",
      "    accuracy                           0.80     12751\n",
      "   macro avg       0.80      0.80      0.80     12751\n",
      "weighted avg       0.80      0.80      0.80     12751\n",
      "\n"
     ]
    }
   ],
   "source": [
    "n_classifiers = len(classifiers)\n",
    "\n",
    "for index, (name, classifier) in enumerate(classifiers.items()):\n",
    "    y_pred = classifier.predict(X_test)\n",
    "    accuracy = accuracy_score(y_test, y_pred)\n",
    "    print(\"Accuracy (train) for %s: %0.1f%% \" % (name, accuracy * 100))\n",
    "    print(classification_report(y_test,y_pred))"
   ]
  },
  {
   "cell_type": "markdown",
   "id": "83c5210c-ae59-44af-9196-8afe0e650132",
   "metadata": {},
   "source": [
    "## Задание 3. "
   ]
  },
  {
   "cell_type": "code",
   "execution_count": null,
   "id": "396df19c-574e-415a-8020-a867a625a3d4",
   "metadata": {},
   "outputs": [],
   "source": []
  }
 ],
 "metadata": {
  "kernelspec": {
   "display_name": "Python 3 (ipykernel)",
   "language": "python",
   "name": "python3"
  },
  "language_info": {
   "codemirror_mode": {
    "name": "ipython",
    "version": 3
   },
   "file_extension": ".py",
   "mimetype": "text/x-python",
   "name": "python",
   "nbconvert_exporter": "python",
   "pygments_lexer": "ipython3",
   "version": "3.9.6"
  }
 },
 "nbformat": 4,
 "nbformat_minor": 5
}
