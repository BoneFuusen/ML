{
 "cells": [
  {
   "cell_type": "markdown",
   "id": "7502f25b-3eb8-45c9-b6c7-af3e7523b860",
   "metadata": {},
   "source": [
    "## Цель:"
   ]
  },
  {
   "cell_type": "markdown",
   "id": "f0fb85ec-0844-4a04-928e-77080a229cc8",
   "metadata": {},
   "source": [
    "Проверить три гипотезы:\n",
    "\n",
    "1) Cамыми прибыльными фильмами (в среднем) являются фильмы, произведённые в США.\n",
    "2) \"Старые\" фильмы лучше чем \"новые\". (фильмы 20 века имеют больший балл на imdb, чем фильмы 21 века)\n",
    "3) В 2015 году фильмы жанра Sci-Fi собрали в прокате больше, чем фильмы жанра Romance."
   ]
  },
  {
   "cell_type": "markdown",
   "id": "bc3b1992-9dfc-4bb2-af50-7a5e235899ee",
   "metadata": {},
   "source": [
    "# Этап 1. Обзор данных"
   ]
  },
  {
   "cell_type": "code",
   "execution_count": 2,
   "id": "d0b2f11d-a64e-41d3-bb20-67d53ff93e5b",
   "metadata": {},
   "outputs": [],
   "source": [
    "import pandas as pd"
   ]
  },
  {
   "cell_type": "code",
   "execution_count": 3,
   "id": "5896cee1-854c-4c43-b355-15fa51f5784e",
   "metadata": {},
   "outputs": [],
   "source": [
    "df = pd.read_csv('/Users/sergejkotov/Desktop/ml/data/Dataset1.csv')"
   ]
  },
  {
   "cell_type": "markdown",
   "id": "e073b7ef-6ad7-4d12-a675-f29ae19ba4f5",
   "metadata": {},
   "source": [
    "Выведем на экран первые 10 строк датафрейма:"
   ]
  },
  {
   "cell_type": "code",
   "execution_count": 73,
   "id": "41984c20-9305-47b9-8f38-fedcd08d9b1d",
   "metadata": {},
   "outputs": [
    {
     "data": {
      "text/html": [
       "<div>\n",
       "<style scoped>\n",
       "    .dataframe tbody tr th:only-of-type {\n",
       "        vertical-align: middle;\n",
       "    }\n",
       "\n",
       "    .dataframe tbody tr th {\n",
       "        vertical-align: top;\n",
       "    }\n",
       "\n",
       "    .dataframe thead th {\n",
       "        text-align: right;\n",
       "    }\n",
       "</style>\n",
       "<table border=\"1\" class=\"dataframe\">\n",
       "  <thead>\n",
       "    <tr style=\"text-align: right;\">\n",
       "      <th></th>\n",
       "      <th>color</th>\n",
       "      <th>Director_Name</th>\n",
       "      <th>num_Critic_for_reviews</th>\n",
       "      <th>duration</th>\n",
       "      <th>director_Facebook_likes</th>\n",
       "      <th>actor_3_Facebook_likes</th>\n",
       "      <th>actor_2_name</th>\n",
       "      <th>Actor_1_Facebook_likes</th>\n",
       "      <th>gross</th>\n",
       "      <th>genres</th>\n",
       "      <th>...</th>\n",
       "      <th>num_user_for_reviews</th>\n",
       "      <th>language</th>\n",
       "      <th>country</th>\n",
       "      <th>content_rating</th>\n",
       "      <th>budget</th>\n",
       "      <th>title_year</th>\n",
       "      <th>actor_2_facebook_likes</th>\n",
       "      <th>imdb_score</th>\n",
       "      <th>aspect_ratio</th>\n",
       "      <th>movie_facebook_likes;</th>\n",
       "    </tr>\n",
       "  </thead>\n",
       "  <tbody>\n",
       "    <tr>\n",
       "      <th>0</th>\n",
       "      <td>Color</td>\n",
       "      <td>James Cameron</td>\n",
       "      <td>723.0</td>\n",
       "      <td>178.0</td>\n",
       "      <td>0.0</td>\n",
       "      <td>855.0</td>\n",
       "      <td>Joel David Moore</td>\n",
       "      <td>1000.0</td>\n",
       "      <td>760505847.0</td>\n",
       "      <td>Action|Adventure|Fantasy|Sci-Fi</td>\n",
       "      <td>...</td>\n",
       "      <td>3054.0</td>\n",
       "      <td>English</td>\n",
       "      <td>USA</td>\n",
       "      <td>PG-13</td>\n",
       "      <td>237000000.0</td>\n",
       "      <td>2009.0</td>\n",
       "      <td>936.0</td>\n",
       "      <td>7.9</td>\n",
       "      <td>1.78</td>\n",
       "      <td>33000;</td>\n",
       "    </tr>\n",
       "    <tr>\n",
       "      <th>1</th>\n",
       "      <td>Colour</td>\n",
       "      <td>Gore Verbinski</td>\n",
       "      <td>302.0</td>\n",
       "      <td>169.0</td>\n",
       "      <td>563.0</td>\n",
       "      <td>1000.0</td>\n",
       "      <td>Orlando Bloom</td>\n",
       "      <td>40000.0</td>\n",
       "      <td>309404152.0</td>\n",
       "      <td>Action|Adventure|Fantasy</td>\n",
       "      <td>...</td>\n",
       "      <td>1238.0</td>\n",
       "      <td>English</td>\n",
       "      <td>USA</td>\n",
       "      <td>PG-13</td>\n",
       "      <td>300000000.0</td>\n",
       "      <td>2007.0</td>\n",
       "      <td>5000.0</td>\n",
       "      <td>7.1</td>\n",
       "      <td>2.35</td>\n",
       "      <td>0;</td>\n",
       "    </tr>\n",
       "    <tr>\n",
       "      <th>2</th>\n",
       "      <td>Colour</td>\n",
       "      <td>Sam Mendes</td>\n",
       "      <td>602.0</td>\n",
       "      <td>148.0</td>\n",
       "      <td>0.0</td>\n",
       "      <td>161.0</td>\n",
       "      <td>Rory Kinnear</td>\n",
       "      <td>11000.0</td>\n",
       "      <td>200074175.0</td>\n",
       "      <td>Action|Adventure|Thriller</td>\n",
       "      <td>...</td>\n",
       "      <td>994.0</td>\n",
       "      <td>English</td>\n",
       "      <td>UK</td>\n",
       "      <td>PG-13</td>\n",
       "      <td>245000000.0</td>\n",
       "      <td>2015.0</td>\n",
       "      <td>393.0</td>\n",
       "      <td>6.8</td>\n",
       "      <td>2.35</td>\n",
       "      <td>85000;</td>\n",
       "    </tr>\n",
       "    <tr>\n",
       "      <th>3</th>\n",
       "      <td>Color</td>\n",
       "      <td>Christopher Nolan</td>\n",
       "      <td>813.0</td>\n",
       "      <td>164.0</td>\n",
       "      <td>22000.0</td>\n",
       "      <td>23000.0</td>\n",
       "      <td>Christian Bale</td>\n",
       "      <td>27000.0</td>\n",
       "      <td>448130642.0</td>\n",
       "      <td>Action|Thriller</td>\n",
       "      <td>...</td>\n",
       "      <td>2701.0</td>\n",
       "      <td>English</td>\n",
       "      <td>USA</td>\n",
       "      <td>PG-13</td>\n",
       "      <td>250000000.0</td>\n",
       "      <td>2012.0</td>\n",
       "      <td>23000.0</td>\n",
       "      <td>8.5</td>\n",
       "      <td>2.35</td>\n",
       "      <td>164000;</td>\n",
       "    </tr>\n",
       "    <tr>\n",
       "      <th>4</th>\n",
       "      <td>NaN</td>\n",
       "      <td>Doug Walker</td>\n",
       "      <td>NaN</td>\n",
       "      <td>NaN</td>\n",
       "      <td>131.0</td>\n",
       "      <td>NaN</td>\n",
       "      <td>Rob Walker</td>\n",
       "      <td>131.0</td>\n",
       "      <td>NaN</td>\n",
       "      <td>Documentary</td>\n",
       "      <td>...</td>\n",
       "      <td>NaN</td>\n",
       "      <td>NaN</td>\n",
       "      <td>NaN</td>\n",
       "      <td>NaN</td>\n",
       "      <td>NaN</td>\n",
       "      <td>NaN</td>\n",
       "      <td>12.0</td>\n",
       "      <td>7.1</td>\n",
       "      <td>NaN</td>\n",
       "      <td>0;</td>\n",
       "    </tr>\n",
       "    <tr>\n",
       "      <th>5</th>\n",
       "      <td>Colour</td>\n",
       "      <td>Andrew Stanton</td>\n",
       "      <td>462.0</td>\n",
       "      <td>132.0</td>\n",
       "      <td>475.0</td>\n",
       "      <td>530.0</td>\n",
       "      <td>Samantha Morton</td>\n",
       "      <td>640.0</td>\n",
       "      <td>73058679.0</td>\n",
       "      <td>Action|Adventure|Sci-Fi</td>\n",
       "      <td>...</td>\n",
       "      <td>738.0</td>\n",
       "      <td>English</td>\n",
       "      <td>USA</td>\n",
       "      <td>PG-13</td>\n",
       "      <td>263700000.0</td>\n",
       "      <td>2012.0</td>\n",
       "      <td>632.0</td>\n",
       "      <td>6.6</td>\n",
       "      <td>2.35</td>\n",
       "      <td>24000;</td>\n",
       "    </tr>\n",
       "    <tr>\n",
       "      <th>6</th>\n",
       "      <td>Color</td>\n",
       "      <td>Sam Raimi</td>\n",
       "      <td>392.0</td>\n",
       "      <td>156.0</td>\n",
       "      <td>0.0</td>\n",
       "      <td>4000.0</td>\n",
       "      <td>James Franco</td>\n",
       "      <td>24000.0</td>\n",
       "      <td>336530303.0</td>\n",
       "      <td>Action|Adventure|Romance</td>\n",
       "      <td>...</td>\n",
       "      <td>1902.0</td>\n",
       "      <td>English</td>\n",
       "      <td>USA</td>\n",
       "      <td>PG-13</td>\n",
       "      <td>258000000.0</td>\n",
       "      <td>2007.0</td>\n",
       "      <td>11000.0</td>\n",
       "      <td>6.2</td>\n",
       "      <td>2.35</td>\n",
       "      <td>0;</td>\n",
       "    </tr>\n",
       "    <tr>\n",
       "      <th>7</th>\n",
       "      <td>Color</td>\n",
       "      <td>Nathan Greno</td>\n",
       "      <td>324.0</td>\n",
       "      <td>100.0</td>\n",
       "      <td>15.0</td>\n",
       "      <td>284.0</td>\n",
       "      <td>Donna Murphy</td>\n",
       "      <td>799.0</td>\n",
       "      <td>200807262.0</td>\n",
       "      <td>Adventure|Animation|Comedy|Family|Fantasy|Musi...</td>\n",
       "      <td>...</td>\n",
       "      <td>387.0</td>\n",
       "      <td>English</td>\n",
       "      <td>USA</td>\n",
       "      <td>PG</td>\n",
       "      <td>260000000.0</td>\n",
       "      <td>2010.0</td>\n",
       "      <td>553.0</td>\n",
       "      <td>7.8</td>\n",
       "      <td>1.85</td>\n",
       "      <td>29000;</td>\n",
       "    </tr>\n",
       "    <tr>\n",
       "      <th>8</th>\n",
       "      <td>Colour</td>\n",
       "      <td>Joss Whedon</td>\n",
       "      <td>635.0</td>\n",
       "      <td>141.0</td>\n",
       "      <td>0.0</td>\n",
       "      <td>19000.0</td>\n",
       "      <td>Robert Downey Jr.</td>\n",
       "      <td>26000.0</td>\n",
       "      <td>458991599.0</td>\n",
       "      <td>Action|Adventure|Sci-Fi</td>\n",
       "      <td>...</td>\n",
       "      <td>1117.0</td>\n",
       "      <td>English</td>\n",
       "      <td>USA</td>\n",
       "      <td>PG-13</td>\n",
       "      <td>250000000.0</td>\n",
       "      <td>2015.0</td>\n",
       "      <td>21000.0</td>\n",
       "      <td>7.5</td>\n",
       "      <td>2.35</td>\n",
       "      <td>118000;</td>\n",
       "    </tr>\n",
       "    <tr>\n",
       "      <th>9</th>\n",
       "      <td>Colour</td>\n",
       "      <td>David Yates</td>\n",
       "      <td>375.0</td>\n",
       "      <td>153.0</td>\n",
       "      <td>282.0</td>\n",
       "      <td>10000.0</td>\n",
       "      <td>Daniel Radcliffe</td>\n",
       "      <td>25000.0</td>\n",
       "      <td>301956980.0</td>\n",
       "      <td>Adventure|Family|Fantasy|Mystery</td>\n",
       "      <td>...</td>\n",
       "      <td>973.0</td>\n",
       "      <td>English</td>\n",
       "      <td>UK</td>\n",
       "      <td>PG</td>\n",
       "      <td>250000000.0</td>\n",
       "      <td>2009.0</td>\n",
       "      <td>11000.0</td>\n",
       "      <td>7.5</td>\n",
       "      <td>2.35</td>\n",
       "      <td>10000;</td>\n",
       "    </tr>\n",
       "    <tr>\n",
       "      <th>10</th>\n",
       "      <td>Color</td>\n",
       "      <td>Zack Snyder</td>\n",
       "      <td>673.0</td>\n",
       "      <td>183.0</td>\n",
       "      <td>0.0</td>\n",
       "      <td>2000.0</td>\n",
       "      <td>Lauren Cohan</td>\n",
       "      <td>15000.0</td>\n",
       "      <td>330249062.0</td>\n",
       "      <td>Action|Adventure|Sci-Fi</td>\n",
       "      <td>...</td>\n",
       "      <td>3018.0</td>\n",
       "      <td>English</td>\n",
       "      <td>USA</td>\n",
       "      <td>PG-13</td>\n",
       "      <td>250000000.0</td>\n",
       "      <td>2016.0</td>\n",
       "      <td>4000.0</td>\n",
       "      <td>6.9</td>\n",
       "      <td>2.35</td>\n",
       "      <td>197000;</td>\n",
       "    </tr>\n",
       "    <tr>\n",
       "      <th>11</th>\n",
       "      <td>Color</td>\n",
       "      <td>Bryan Singer</td>\n",
       "      <td>434.0</td>\n",
       "      <td>169.0</td>\n",
       "      <td>0.0</td>\n",
       "      <td>903.0</td>\n",
       "      <td>Marlon Brando</td>\n",
       "      <td>18000.0</td>\n",
       "      <td>200069408.0</td>\n",
       "      <td>Action|Adventure|Sci-Fi</td>\n",
       "      <td>...</td>\n",
       "      <td>2367.0</td>\n",
       "      <td>English</td>\n",
       "      <td>USA</td>\n",
       "      <td>PG-13</td>\n",
       "      <td>209000000.0</td>\n",
       "      <td>2006.0</td>\n",
       "      <td>10000.0</td>\n",
       "      <td>6.1</td>\n",
       "      <td>2.35</td>\n",
       "      <td>0;</td>\n",
       "    </tr>\n",
       "    <tr>\n",
       "      <th>12</th>\n",
       "      <td>Color</td>\n",
       "      <td>Marc Forster</td>\n",
       "      <td>403.0</td>\n",
       "      <td>106.0</td>\n",
       "      <td>395.0</td>\n",
       "      <td>393.0</td>\n",
       "      <td>Mathieu Amalric</td>\n",
       "      <td>451.0</td>\n",
       "      <td>168368427.0</td>\n",
       "      <td>Action|Adventure</td>\n",
       "      <td>...</td>\n",
       "      <td>1243.0</td>\n",
       "      <td>English</td>\n",
       "      <td>UK</td>\n",
       "      <td>PG-13</td>\n",
       "      <td>200000000.0</td>\n",
       "      <td>2008.0</td>\n",
       "      <td>412.0</td>\n",
       "      <td>6.7</td>\n",
       "      <td>2.35</td>\n",
       "      <td>0;</td>\n",
       "    </tr>\n",
       "    <tr>\n",
       "      <th>13</th>\n",
       "      <td>Color</td>\n",
       "      <td>Gore Verbinski</td>\n",
       "      <td>313.0</td>\n",
       "      <td>151.0</td>\n",
       "      <td>563.0</td>\n",
       "      <td>1000.0</td>\n",
       "      <td>Orlando Bloom</td>\n",
       "      <td>40000.0</td>\n",
       "      <td>423032628.0</td>\n",
       "      <td>Action|Adventure|Fantasy</td>\n",
       "      <td>...</td>\n",
       "      <td>1832.0</td>\n",
       "      <td>English</td>\n",
       "      <td>USA</td>\n",
       "      <td>PG-13</td>\n",
       "      <td>225000000.0</td>\n",
       "      <td>2006.0</td>\n",
       "      <td>5000.0</td>\n",
       "      <td>7.3</td>\n",
       "      <td>2.35</td>\n",
       "      <td>5000;</td>\n",
       "    </tr>\n",
       "    <tr>\n",
       "      <th>14</th>\n",
       "      <td>Color</td>\n",
       "      <td>Gore Verbinski</td>\n",
       "      <td>450.0</td>\n",
       "      <td>150.0</td>\n",
       "      <td>563.0</td>\n",
       "      <td>1000.0</td>\n",
       "      <td>Ruth Wilson</td>\n",
       "      <td>40000.0</td>\n",
       "      <td>89289910.0</td>\n",
       "      <td>Action|Adventure|Western</td>\n",
       "      <td>...</td>\n",
       "      <td>711.0</td>\n",
       "      <td>English</td>\n",
       "      <td>USA</td>\n",
       "      <td>PG-13</td>\n",
       "      <td>215000000.0</td>\n",
       "      <td>2013.0</td>\n",
       "      <td>2000.0</td>\n",
       "      <td>6.5</td>\n",
       "      <td>2.35</td>\n",
       "      <td>48000;</td>\n",
       "    </tr>\n",
       "    <tr>\n",
       "      <th>15</th>\n",
       "      <td>color</td>\n",
       "      <td>Zack Snyder</td>\n",
       "      <td>733.0</td>\n",
       "      <td>143.0</td>\n",
       "      <td>0.0</td>\n",
       "      <td>748.0</td>\n",
       "      <td>Christopher Meloni</td>\n",
       "      <td>15000.0</td>\n",
       "      <td>291021565.0</td>\n",
       "      <td>Action|Adventure|Fantasy|Sci-Fi</td>\n",
       "      <td>...</td>\n",
       "      <td>2536.0</td>\n",
       "      <td>English</td>\n",
       "      <td>USA</td>\n",
       "      <td>PG-13</td>\n",
       "      <td>225000000.0</td>\n",
       "      <td>2013.0</td>\n",
       "      <td>3000.0</td>\n",
       "      <td>7.2</td>\n",
       "      <td>2.35</td>\n",
       "      <td>118000;</td>\n",
       "    </tr>\n",
       "    <tr>\n",
       "      <th>16</th>\n",
       "      <td>Color</td>\n",
       "      <td>Andrew Adamson</td>\n",
       "      <td>258.0</td>\n",
       "      <td>150.0</td>\n",
       "      <td>80.0</td>\n",
       "      <td>201.0</td>\n",
       "      <td>Pierfrancesco Favino</td>\n",
       "      <td>22000.0</td>\n",
       "      <td>141614023.0</td>\n",
       "      <td>Action|Adventure|Family|Fantasy</td>\n",
       "      <td>...</td>\n",
       "      <td>438.0</td>\n",
       "      <td>English</td>\n",
       "      <td>USA</td>\n",
       "      <td>PG</td>\n",
       "      <td>225000000.0</td>\n",
       "      <td>2008.0</td>\n",
       "      <td>216.0</td>\n",
       "      <td>6.6</td>\n",
       "      <td>2.35</td>\n",
       "      <td>0;</td>\n",
       "    </tr>\n",
       "    <tr>\n",
       "      <th>17</th>\n",
       "      <td>Color</td>\n",
       "      <td>Joss Whedon</td>\n",
       "      <td>703.0</td>\n",
       "      <td>173.0</td>\n",
       "      <td>0.0</td>\n",
       "      <td>19000.0</td>\n",
       "      <td>Robert Downey Jr.</td>\n",
       "      <td>26000.0</td>\n",
       "      <td>623279547.0</td>\n",
       "      <td>Action|Adventure|Sci-Fi</td>\n",
       "      <td>...</td>\n",
       "      <td>1722.0</td>\n",
       "      <td>English</td>\n",
       "      <td>USA</td>\n",
       "      <td>PG-13</td>\n",
       "      <td>220000000.0</td>\n",
       "      <td>2012.0</td>\n",
       "      <td>21000.0</td>\n",
       "      <td>8.1</td>\n",
       "      <td>1.85</td>\n",
       "      <td>123000;</td>\n",
       "    </tr>\n",
       "    <tr>\n",
       "      <th>18</th>\n",
       "      <td>Color</td>\n",
       "      <td>Rob Marshall</td>\n",
       "      <td>448.0</td>\n",
       "      <td>136.0</td>\n",
       "      <td>252.0</td>\n",
       "      <td>1000.0</td>\n",
       "      <td>Sam Claflin</td>\n",
       "      <td>40000.0</td>\n",
       "      <td>241063875.0</td>\n",
       "      <td>Action|Adventure|Fantasy</td>\n",
       "      <td>...</td>\n",
       "      <td>484.0</td>\n",
       "      <td>English</td>\n",
       "      <td>USA</td>\n",
       "      <td>PG-13</td>\n",
       "      <td>250000000.0</td>\n",
       "      <td>2011.0</td>\n",
       "      <td>11000.0</td>\n",
       "      <td>6.7</td>\n",
       "      <td>2.35</td>\n",
       "      <td>58000;</td>\n",
       "    </tr>\n",
       "    <tr>\n",
       "      <th>19</th>\n",
       "      <td>Color</td>\n",
       "      <td>Barry Sonnenfeld</td>\n",
       "      <td>451.0</td>\n",
       "      <td>106.0</td>\n",
       "      <td>188.0</td>\n",
       "      <td>718.0</td>\n",
       "      <td>Michael Stuhlbarg</td>\n",
       "      <td>10000.0</td>\n",
       "      <td>179020854.0</td>\n",
       "      <td>Action|Adventure|Comedy|Family|Fantasy|Sci-Fi</td>\n",
       "      <td>...</td>\n",
       "      <td>341.0</td>\n",
       "      <td>English</td>\n",
       "      <td>USA</td>\n",
       "      <td>PG-13</td>\n",
       "      <td>225000000.0</td>\n",
       "      <td>2012.0</td>\n",
       "      <td>816.0</td>\n",
       "      <td>6.8</td>\n",
       "      <td>1.85</td>\n",
       "      <td>40000;</td>\n",
       "    </tr>\n",
       "  </tbody>\n",
       "</table>\n",
       "<p>20 rows × 28 columns</p>\n",
       "</div>"
      ],
      "text/plain": [
       "     color      Director_Name  num_Critic_for_reviews  duration  \\\n",
       "0    Color      James Cameron                   723.0     178.0   \n",
       "1   Colour     Gore Verbinski                   302.0     169.0   \n",
       "2   Colour         Sam Mendes                   602.0     148.0   \n",
       "3    Color  Christopher Nolan                   813.0     164.0   \n",
       "4      NaN        Doug Walker                     NaN       NaN   \n",
       "5   Colour     Andrew Stanton                   462.0     132.0   \n",
       "6    Color          Sam Raimi                   392.0     156.0   \n",
       "7    Color       Nathan Greno                   324.0     100.0   \n",
       "8   Colour        Joss Whedon                   635.0     141.0   \n",
       "9   Colour        David Yates                   375.0     153.0   \n",
       "10   Color        Zack Snyder                   673.0     183.0   \n",
       "11   Color       Bryan Singer                   434.0     169.0   \n",
       "12   Color       Marc Forster                   403.0     106.0   \n",
       "13   Color     Gore Verbinski                   313.0     151.0   \n",
       "14   Color     Gore Verbinski                   450.0     150.0   \n",
       "15   color        Zack Snyder                   733.0     143.0   \n",
       "16   Color     Andrew Adamson                   258.0     150.0   \n",
       "17   Color        Joss Whedon                   703.0     173.0   \n",
       "18   Color       Rob Marshall                   448.0     136.0   \n",
       "19   Color   Barry Sonnenfeld                   451.0     106.0   \n",
       "\n",
       "    director_Facebook_likes  actor_3_Facebook_likes          actor_2_name  \\\n",
       "0                       0.0                   855.0      Joel David Moore   \n",
       "1                     563.0                  1000.0         Orlando Bloom   \n",
       "2                       0.0                   161.0          Rory Kinnear   \n",
       "3                   22000.0                 23000.0        Christian Bale   \n",
       "4                     131.0                     NaN            Rob Walker   \n",
       "5                     475.0                   530.0       Samantha Morton   \n",
       "6                       0.0                  4000.0          James Franco   \n",
       "7                      15.0                   284.0          Donna Murphy   \n",
       "8                       0.0                 19000.0     Robert Downey Jr.   \n",
       "9                     282.0                 10000.0      Daniel Radcliffe   \n",
       "10                      0.0                  2000.0          Lauren Cohan   \n",
       "11                      0.0                   903.0         Marlon Brando   \n",
       "12                    395.0                   393.0       Mathieu Amalric   \n",
       "13                    563.0                  1000.0         Orlando Bloom   \n",
       "14                    563.0                  1000.0           Ruth Wilson   \n",
       "15                      0.0                   748.0    Christopher Meloni   \n",
       "16                     80.0                   201.0  Pierfrancesco Favino   \n",
       "17                      0.0                 19000.0     Robert Downey Jr.   \n",
       "18                    252.0                  1000.0           Sam Claflin   \n",
       "19                    188.0                   718.0     Michael Stuhlbarg   \n",
       "\n",
       "    Actor_1_Facebook_likes        gross  \\\n",
       "0                   1000.0  760505847.0   \n",
       "1                  40000.0  309404152.0   \n",
       "2                  11000.0  200074175.0   \n",
       "3                  27000.0  448130642.0   \n",
       "4                    131.0          NaN   \n",
       "5                    640.0   73058679.0   \n",
       "6                  24000.0  336530303.0   \n",
       "7                    799.0  200807262.0   \n",
       "8                  26000.0  458991599.0   \n",
       "9                  25000.0  301956980.0   \n",
       "10                 15000.0  330249062.0   \n",
       "11                 18000.0  200069408.0   \n",
       "12                   451.0  168368427.0   \n",
       "13                 40000.0  423032628.0   \n",
       "14                 40000.0   89289910.0   \n",
       "15                 15000.0  291021565.0   \n",
       "16                 22000.0  141614023.0   \n",
       "17                 26000.0  623279547.0   \n",
       "18                 40000.0  241063875.0   \n",
       "19                 10000.0  179020854.0   \n",
       "\n",
       "                                               genres  ...  \\\n",
       "0                     Action|Adventure|Fantasy|Sci-Fi  ...   \n",
       "1                            Action|Adventure|Fantasy  ...   \n",
       "2                           Action|Adventure|Thriller  ...   \n",
       "3                                     Action|Thriller  ...   \n",
       "4                                         Documentary  ...   \n",
       "5                             Action|Adventure|Sci-Fi  ...   \n",
       "6                            Action|Adventure|Romance  ...   \n",
       "7   Adventure|Animation|Comedy|Family|Fantasy|Musi...  ...   \n",
       "8                             Action|Adventure|Sci-Fi  ...   \n",
       "9                    Adventure|Family|Fantasy|Mystery  ...   \n",
       "10                            Action|Adventure|Sci-Fi  ...   \n",
       "11                            Action|Adventure|Sci-Fi  ...   \n",
       "12                                   Action|Adventure  ...   \n",
       "13                           Action|Adventure|Fantasy  ...   \n",
       "14                           Action|Adventure|Western  ...   \n",
       "15                    Action|Adventure|Fantasy|Sci-Fi  ...   \n",
       "16                    Action|Adventure|Family|Fantasy  ...   \n",
       "17                            Action|Adventure|Sci-Fi  ...   \n",
       "18                           Action|Adventure|Fantasy  ...   \n",
       "19      Action|Adventure|Comedy|Family|Fantasy|Sci-Fi  ...   \n",
       "\n",
       "   num_user_for_reviews language  country  content_rating       budget  \\\n",
       "0                3054.0  English      USA           PG-13  237000000.0   \n",
       "1                1238.0  English      USA           PG-13  300000000.0   \n",
       "2                 994.0  English       UK           PG-13  245000000.0   \n",
       "3                2701.0  English      USA           PG-13  250000000.0   \n",
       "4                   NaN      NaN      NaN             NaN          NaN   \n",
       "5                 738.0  English      USA           PG-13  263700000.0   \n",
       "6                1902.0  English      USA           PG-13  258000000.0   \n",
       "7                 387.0  English      USA              PG  260000000.0   \n",
       "8                1117.0  English      USA           PG-13  250000000.0   \n",
       "9                 973.0  English       UK              PG  250000000.0   \n",
       "10               3018.0  English      USA           PG-13  250000000.0   \n",
       "11               2367.0  English      USA           PG-13  209000000.0   \n",
       "12               1243.0  English       UK           PG-13  200000000.0   \n",
       "13               1832.0  English      USA           PG-13  225000000.0   \n",
       "14                711.0  English      USA           PG-13  215000000.0   \n",
       "15               2536.0  English      USA           PG-13  225000000.0   \n",
       "16                438.0  English      USA              PG  225000000.0   \n",
       "17               1722.0  English      USA           PG-13  220000000.0   \n",
       "18                484.0  English      USA           PG-13  250000000.0   \n",
       "19                341.0  English      USA           PG-13  225000000.0   \n",
       "\n",
       "    title_year actor_2_facebook_likes imdb_score  aspect_ratio  \\\n",
       "0       2009.0                  936.0        7.9          1.78   \n",
       "1       2007.0                 5000.0        7.1          2.35   \n",
       "2       2015.0                  393.0        6.8          2.35   \n",
       "3       2012.0                23000.0        8.5          2.35   \n",
       "4          NaN                   12.0        7.1           NaN   \n",
       "5       2012.0                  632.0        6.6          2.35   \n",
       "6       2007.0                11000.0        6.2          2.35   \n",
       "7       2010.0                  553.0        7.8          1.85   \n",
       "8       2015.0                21000.0        7.5          2.35   \n",
       "9       2009.0                11000.0        7.5          2.35   \n",
       "10      2016.0                 4000.0        6.9          2.35   \n",
       "11      2006.0                10000.0        6.1          2.35   \n",
       "12      2008.0                  412.0        6.7          2.35   \n",
       "13      2006.0                 5000.0        7.3          2.35   \n",
       "14      2013.0                 2000.0        6.5          2.35   \n",
       "15      2013.0                 3000.0        7.2          2.35   \n",
       "16      2008.0                  216.0        6.6          2.35   \n",
       "17      2012.0                21000.0        8.1          1.85   \n",
       "18      2011.0                11000.0        6.7          2.35   \n",
       "19      2012.0                  816.0        6.8          1.85   \n",
       "\n",
       "   movie_facebook_likes;  \n",
       "0                 33000;  \n",
       "1                     0;  \n",
       "2                 85000;  \n",
       "3                164000;  \n",
       "4                     0;  \n",
       "5                 24000;  \n",
       "6                     0;  \n",
       "7                 29000;  \n",
       "8                118000;  \n",
       "9                 10000;  \n",
       "10               197000;  \n",
       "11                    0;  \n",
       "12                    0;  \n",
       "13                 5000;  \n",
       "14                48000;  \n",
       "15               118000;  \n",
       "16                    0;  \n",
       "17               123000;  \n",
       "18                58000;  \n",
       "19                40000;  \n",
       "\n",
       "[20 rows x 28 columns]"
      ]
     },
     "execution_count": 73,
     "metadata": {},
     "output_type": "execute_result"
    }
   ],
   "source": [
    "df.head(20)"
   ]
  },
  {
   "cell_type": "code",
   "execution_count": 74,
   "id": "2791e574-b8ee-4c2a-8b98-9b163fd0fae8",
   "metadata": {},
   "outputs": [
    {
     "name": "stdout",
     "output_type": "stream",
     "text": [
      "<class 'pandas.core.frame.DataFrame'>\n",
      "RangeIndex: 5043 entries, 0 to 5042\n",
      "Data columns (total 28 columns):\n",
      " #   Column                      Non-Null Count  Dtype  \n",
      "---  ------                      --------------  -----  \n",
      " 0   color                       5025 non-null   object \n",
      " 1   Director_Name               4872 non-null   object \n",
      " 2   num_Critic_for_reviews      4927 non-null   float64\n",
      " 3   duration                    4959 non-null   float64\n",
      " 4   director_Facebook_likes     4872 non-null   float64\n",
      " 5   actor_3_Facebook_likes      4953 non-null   float64\n",
      " 6   actor_2_name                4963 non-null   object \n",
      " 7   Actor_1_Facebook_likes      4968 non-null   float64\n",
      " 8   gross                       4104 non-null   float64\n",
      " 9   genres                      4974 non-null   object \n",
      " 10  actor_1_name                4968 non-null   object \n",
      " 11  movie_Title                 4974 non-null   object \n",
      " 12  num_voted_users             4974 non-null   float64\n",
      " 13   cast_total_facebook_likes  4974 non-null   float64\n",
      " 14  actor_3_name                4953 non-null   object \n",
      " 15  facenumber_in_poster        4961 non-null   float64\n",
      " 16  plot_keywords               4827 non-null   object \n",
      " 17  movie_imdb_link             4974 non-null   object \n",
      " 18  num_user_for_reviews        4956 non-null   float64\n",
      " 19  language                    4961 non-null   object \n",
      " 20  country                     4971 non-null   object \n",
      " 21  content_rating              4677 non-null   object \n",
      " 22  budget                      4494 non-null   float64\n",
      " 23  title_year                  4869 non-null   float64\n",
      " 24  actor_2_facebook_likes      4963 non-null   float64\n",
      " 25  imdb_score                  4974 non-null   float64\n",
      " 26  aspect_ratio                4654 non-null   float64\n",
      " 27  movie_facebook_likes;       4974 non-null   object \n",
      "dtypes: float64(15), object(13)\n",
      "memory usage: 1.1+ MB\n"
     ]
    }
   ],
   "source": [
    "df.info()"
   ]
  },
  {
   "cell_type": "markdown",
   "id": "0a866aa6-592e-4acb-b6ac-ad0271b267ea",
   "metadata": {},
   "source": [
    "Мы видим три проблемы со стилем в именах столбцов:\n",
    "\n",
    "1) Некоторые имена написаны прописными буквами, некоторые строчными.\n",
    "\n",
    "2) В некоторых именах есть пробелы.\n",
    "\n",
    "3) Количество значений столбцов разное. Это означает, что данные содержат пропущенные значения."
   ]
  },
  {
   "cell_type": "markdown",
   "id": "564bb8a2-0de9-4699-a36b-617a5729f005",
   "metadata": {},
   "source": [
    "# Этап 2. Предварительная обработка данных."
   ]
  },
  {
   "cell_type": "markdown",
   "id": "aba85115-70c6-444f-bd0e-c23598ed50da",
   "metadata": {},
   "source": [
    "## 2.1 Стили заголовков."
   ]
  },
  {
   "cell_type": "code",
   "execution_count": 75,
   "id": "fcc77007-aa27-4fda-a9d9-bab57f3a19a6",
   "metadata": {},
   "outputs": [
    {
     "data": {
      "text/plain": [
       "Index(['color', 'Director_Name', 'num_Critic_for_reviews', 'duration',\n",
       "       'director_Facebook_likes', 'actor_3_Facebook_likes', 'actor_2_name',\n",
       "       'Actor_1_Facebook_likes', 'gross', 'genres', 'actor_1_name',\n",
       "       'movie_Title', 'num_voted_users', ' cast_total_facebook_likes',\n",
       "       'actor_3_name', 'facenumber_in_poster', 'plot_keywords',\n",
       "       'movie_imdb_link', 'num_user_for_reviews', 'language', 'country',\n",
       "       'content_rating', 'budget', 'title_year', 'actor_2_facebook_likes',\n",
       "       'imdb_score', 'aspect_ratio', 'movie_facebook_likes;'],\n",
       "      dtype='object')"
      ]
     },
     "execution_count": 75,
     "metadata": {},
     "output_type": "execute_result"
    }
   ],
   "source": [
    "df.columns"
   ]
  },
  {
   "cell_type": "code",
   "execution_count": 4,
   "id": "52531578-da47-4d48-95ae-8ea04491209b",
   "metadata": {},
   "outputs": [],
   "source": [
    "df = df.rename(\n",
    "    columns = {\n",
    "        'Director_Name' : 'director_name',\n",
    "        'num_Critic_for_reviews' : 'num_critic_for_reviews',\n",
    "        'director_Facebook_likes' : 'director_facebook_likes',\n",
    "        'movie_Title' : 'movie_title',\n",
    "        ' cast_total_facebook_likes' : 'cast_total_facebook_likes',\n",
    "        'movie_facebook_likes;' : 'movie_facebook_likes',\n",
    "        'Actor_1_Facebook_likes' : 'actor_1_facebook_likes',\n",
    "        'actor_3_Facebook_likes' : 'actor_3_facebook_likes'\n",
    "    }\n",
    ")"
   ]
  },
  {
   "cell_type": "code",
   "execution_count": 77,
   "id": "edb141a6-389f-4d9b-a425-146121515f1c",
   "metadata": {},
   "outputs": [
    {
     "data": {
      "text/plain": [
       "Index(['color', 'director_name', 'num_critic_for_reviews', 'duration',\n",
       "       'director_facebook_likes', 'actor_3_facebook_likes', 'actor_2_name',\n",
       "       'actor_1_facebook_likes', 'gross', 'genres', 'actor_1_name',\n",
       "       'movie_title', 'num_voted_users', 'cast_total_facebook_likes',\n",
       "       'actor_3_name', 'facenumber_in_poster', 'plot_keywords',\n",
       "       'movie_imdb_link', 'num_user_for_reviews', 'language', 'country',\n",
       "       'content_rating', 'budget', 'title_year', 'actor_2_facebook_likes',\n",
       "       'imdb_score', 'aspect_ratio', 'movie_facebook_likes'],\n",
       "      dtype='object')"
      ]
     },
     "execution_count": 77,
     "metadata": {},
     "output_type": "execute_result"
    }
   ],
   "source": [
    "df.columns"
   ]
  },
  {
   "cell_type": "markdown",
   "id": "562d7fe3-6bd5-4eab-b299-bf7aeaf0175b",
   "metadata": {},
   "source": [
    "## 2.2 Пропущенные значения"
   ]
  },
  {
   "cell_type": "code",
   "execution_count": 91,
   "id": "d094a4d8-26d9-446f-8744-d226ae5edbaf",
   "metadata": {},
   "outputs": [
    {
     "data": {
      "text/plain": [
       "color                         18\n",
       "director_name                102\n",
       "num_critic_for_reviews        47\n",
       "duration                      15\n",
       "director_facebook_likes      102\n",
       "actor_3_facebook_likes        21\n",
       "actor_2_name                  11\n",
       "actor_1_facebook_likes         6\n",
       "gross                        870\n",
       "genres                         0\n",
       "actor_1_name                   6\n",
       "movie_title                    0\n",
       "num_voted_users                0\n",
       "cast_total_facebook_likes      0\n",
       "actor_3_name                  21\n",
       "facenumber_in_poster          13\n",
       "plot_keywords                147\n",
       "movie_imdb_link                0\n",
       "num_user_for_reviews          18\n",
       "language                      13\n",
       "country                        3\n",
       "content_rating               297\n",
       "budget                       480\n",
       "title_year                   105\n",
       "actor_2_facebook_likes        11\n",
       "imdb_score                     0\n",
       "aspect_ratio                 320\n",
       "movie_facebook_likes           0\n",
       "dtype: int64"
      ]
     },
     "execution_count": 91,
     "metadata": {},
     "output_type": "execute_result"
    }
   ],
   "source": [
    "df.isna().sum()"
   ]
  },
  {
   "cell_type": "code",
   "execution_count": 79,
   "id": "bfacae51-8f33-49da-bc9d-795c84c14a46",
   "metadata": {},
   "outputs": [
    {
     "data": {
      "text/plain": [
       "array(['Color', 'Colour', nan, 'color',\n",
       "       'Color,Andrew Adamson,284,150,80,82,Kiran Shah,1000,291709845,Adventure|Family|Fantasy,Jim Broadbent,\"The Chronicles of Narnia: The Lion, the Witch and the Wardrobe\\xa0\",286506,1317,Shane Rangi,5,hide and seek|lion|magic|professor|snow,http://www.imdb.com/title/tt0363771/?ref_=fn_tt_tt_1,1463,English,USA,PG,180000000,2005,190,6.9,2.35,0;',\n",
       "       ' Black and White',\n",
       "       'Color,Pete Docter,250,92,0,773,John Ratzenberger,12000,289907418,Adventure|Animation|Comedy|Family|Fantasy,Steve Buscemi,\"Monsters, Inc.\\xa0\",585659,15013,James Coburn,0,friend|little girl|monster|rival|scream,http://www.imdb.com/title/tt0198781/?ref_=fn_tt_tt_1,593,English,USA,G,115000000,2001,1000,8.1,1.85,0;',\n",
       "       'Color,Alex Proyas,225,115,295,466,Bruce Greenwood,10000,144795350,Action|Mystery|Sci-Fi|Thriller,Will Smith,\"I, Robot\\xa0\",387632,12068,Chi McBride,1,humanoid robot|man versus machine|prosthetic limb|robot as pathos|robot vs. robot,http://www.imdb.com/title/tt0343818/?ref_=fn_tt_tt_1,789,English,USA,PG-13,120000000,2004,981,7.1,2.35,0;',\n",
       "       ',Christopher Barnard,,22,0,,,5,,Comedy,Mathew Buck,\"10,000 B.C.\\xa0            \",6,5,,0,,http://www.imdb.com/title/tt1869849/?ref_=fn_tt_tt_1,,,,,,,,7.2,,0;',\n",
       "       'Color,Stuart Beattie,308,92,72,568,Kevin Grevioux,623,19059018,Action|Fantasy|Sci-Fi|Thriller,Caitlin Stasey,\"I, Frankenstein\\xa0\",65709,3165,Miranda Otto,0,army|creature|demon|frankenstein|gargoyle,http://www.imdb.com/title/tt1418377/?ref_=fn_tt_tt_1,194,English,Australia,PG-13,65000000,2014,593,5.1,2.35,15000;',\n",
       "       'Color,,20,22,,271,Soleil Moon Frye,870,,Comedy|Family|Fantasy,Nate Richert,\"Sabrina, the Teenage Witch\\xa0            \",24420,2433,Caroline Rhea,1,female protagonist|hereditary gift of witchcraft|magic|supernatural|witch,http://www.imdb.com/title/tt0115341/?ref_=fn_tt_tt_1,94,English,USA,TV-G,3000000,,558,6.6,1.33,990;',\n",
       "       'Color,Anthony Russo,136,110,94,240,Billy Gardell,277,75604320,Comedy|Romance,Todd Stashwick,\"You, Me and Dupree\\xa0\",68417,847,Amanda Detmer,1,best friend|foot fetish|houseguest|newlywed|wedding,http://www.imdb.com/title/tt0463034/?ref_=fn_tt_tt_1,195,English,USA,PG-13,54000000,2006,245,5.6,1.85,0;',\n",
       "       'Color,Bobby Farrelly,155,116,101,79,Tony Cox,889,90567722,Comedy,Robert Forster,\"Me, Myself & Irene\\xa0\",185878,1711,Rob Moran,1,dissociative identity disorder|limousine|multiple personality|police|rhode island,http://www.imdb.com/title/tt0183505/?ref_=fn_tt_tt_1,481,English,USA,R,51000000,2000,624,6.5,1.85,0;',\n",
       "       'Color,Glenn Ficarra,310,118,43,7000,Emma Stone,33000,84244877,Comedy|Drama|Romance,Ryan Gosling,\"Crazy, Stupid, Love.\\xa0\",375456,57426,Steve Carell,7,bar|divorce|friend|girl|male objectification,http://www.imdb.com/title/tt1570728/?ref_=fn_tt_tt_1,292,English,USA,PG-13,50000000,2011,15000,7.4,2.39,44000;',\n",
       "       'Color,Melville Shavelson,8,111,5,559,Tom Bosley,6000,,Comedy|Family,Lucille Ball,\"Yours, Mine and Ours\\xa0\",5888,7493,Tim Matheson,0,nurse|parent|sibling|widow|widower,http://www.imdb.com/title/tt0063829/?ref_=fn_tt_tt_1,61,English,USA,Unrated,2500000,1968,584,7.2,1.85,0;',\n",
       "       'Color,John Hamburg,215,105,29,257,Jon Favreau,24000,71347010,Comedy|Romance,J.K. Simmons,\"I Love You, Man\\xa0\",166194,28928,Jane Curtin,2,bromance|friend|gay brother|homosexual subtext|wedding,http://www.imdb.com/title/tt1155056/?ref_=fn_tt_tt_1,215,English,USA,R,40000000,2009,4000,7.1,1.85,0;',\n",
       "       'Color,Taylor Hackford,12,330,138,672,Jesse Borrego,848,4496583,Crime|Drama,Delroy Lindo,\"Blood In, Blood Out\\xa0\",23181,3227,Raymond Cruz,2,1970s|1980s|barrio|gang war|mexican,http://www.imdb.com/title/tt0106469/?ref_=fn_tt_tt_1,129,English,USA,R,35000000,1993,674,8.0,1.66,6000;',\n",
       "       'Color,John Whitesell,88,113,14,534,Tony Curran,918,37911876,Action|Comedy|Crime,Brandon T. Jackson,\"Big Mommas: Like Father, Like Son\\xa0\",19671,3500,Portia Doubleday,2,fbi agent|murder|performing arts school|scene during end credits|undercover,http://www.imdb.com/title/tt1464174/?ref_=fn_tt_tt_1,47,English,USA,PG-13,32000000,2011,845,4.4,2.35,0;',\n",
       "       'Color,Miguel Arteta,119,81,44,3000,Steve Carell,35000,66950483,Comedy|Family,Bella Thorne,\"Alexander and the Terrible, Horrible, No Good, Very Bad Day\\xa0\",29738,47677,Jennifer Garner,6,bad day|based on book|birthday|job interview|long title,http://www.imdb.com/title/tt1698641/?ref_=fn_tt_tt_1,85,English,USA,PG,28000000,2014,7000,6.2,2.39,12000;',\n",
       "       'Color,Jay Roach,74,119,116,385,Mary McCormack,738,8888143,Comedy|Drama|Sport,Scott Grimes,\"Mystery, Alaska\\xa0\",22250,2171,Ron Eldard,0,alaska|male nudity|nudity|sex|small town,http://www.imdb.com/title/tt0134618/?ref_=fn_tt_tt_1,123,English,Canada,R,28000000,1999,428,6.7,2.35,913;',\n",
       "       'Color,Malcolm D. Lee,76,114,92,436,Mike Epps,940,42168445,Comedy|Drama|Romance,Mo\\'Nique,\"Welcome Home, Roscoe Jenkins\\xa0\",10791,3565,Cedric the Entertainer,3,african american protagonist|comma in title|four word title|name in title|talk show host,http://www.imdb.com/title/tt0494652/?ref_=fn_tt_tt_1,39,English,USA,PG-13,35000000,2008,706,5.3,1.85,464;',\n",
       "       'Color,Joel Coen,197,107,0,577,Tim Blake Nelson,1000,45506619,Adventure|Comedy|Crime|Music,Holly Hunter,\"O Brother, Where Art Thou?\\xa0\",225102,3066,Daniel von Bargen,3,baby|bank|blind prophet|convict|sirens,http://www.imdb.com/title/tt0190590/?ref_=fn_tt_tt_1,862,English,UK,PG-13,26000000,2000,596,7.8,2.35,16000;',\n",
       "       'Color,Charles Herman-Wurmfeld,133,95,0,643,Bruce McGill,934,89808372,Comedy,Mary Lynn Rajskub,\"Legally Blonde 2: Red, White & Blonde\\xa0\",46417,3500,Bob Newhart,2,animal rights|congresswoman|doorman|transvestism|washington d.c.,http://www.imdb.com/title/tt0333780/?ref_=fn_tt_tt_1,297,English,USA,PG-13,45000000,2003,655,4.6,1.85,660;',\n",
       "       'Color,James Bridges,28,107,21,418,Phoebe Cates,967,16118077,Drama,Dianne Wiest,\"Bright Lights, Big City\\xa0\",5817,3067,Swoosie Kurtz,0,estranged wife|fashion show|magazine|new york city|writer,http://www.imdb.com/title/tt0094799/?ref_=fn_tt_tt_1,37,English,USA,R,25000000,1988,767,5.6,1.85,377;',\n",
       "       'Color,James Mangold,133,127,446,898,Clea DuVall,11000,28871190,Biography|Drama,Angelina Jolie Pitt,\"Girl, Interrupted\\xa0\",125421,13433,Vanessa Redgrave,0,1960s|father daughter incest|mental hospital|suicide|suicide attempt,http://www.imdb.com/title/tt0172493/?ref_=fn_tt_tt_1,385,English,USA,R,24000000,1999,1000,7.3,1.85,0;',\n",
       "       'Color,Ethan Coen,423,106,1000,1000,Channing Tatum,19000,29997095,Comedy|Mystery,Scarlett Johansson,\"Hail, Caesar!\\xa0\",60926,38494,Alden Ehrenreich,5,50s|film within a film|hollywood|illegitimate pregnancy|twins,http://www.imdb.com/title/tt0475290/?ref_=fn_tt_tt_1,302,English,UK,PG-13,22000000,2016,17000,6.4,1.85,23000;',\n",
       "       'Color,Charlie Kaufman,245,124,0,631,Jennifer Jason Leigh,22000,3081925,Comedy|Drama|Romance,Philip Seymour Hoffman,\"Synecdoche, New York\\xa0\",55842,24732,Samantha Morton,0,actress|director|play|theatre director|warehouse,http://www.imdb.com/title/tt0383028/?ref_=fn_tt_tt_1,274,English,USA,R,21000000,2008,1000,7.5,2.35,13000;',\n",
       "       'Color,,,43,,211,Jenni \\'Jwoww\\' Farley,341,,Comedy|Drama|Reality-TV|Romance,Nicole \\'Snooki\\' Polizzi,\"Gone, Baby, Gone\\xa0            \",29,1462,Paul \\'Pauly D\\' DelVecchio,1,lifestyle,http://www.imdb.com/title/tt1697237/?ref_=fn_tt_tt_1,,English,,TV-14,,,230,6.6,1.33,0;',\n",
       "       'Color,Chris Columbus,107,102,0,529,Marie Avgeropoulos,946,14793904,Comedy|Romance,Alan Ruck,\"I Love You, Beth Cooper\\xa0\",28209,4072,Shawn Roberts,1,cheerleader|party|popular girl|speech|valedictorian,http://www.imdb.com/title/tt1032815/?ref_=fn_tt_tt_1,80,English,Canada,PG-13,18000000,2009,800,5.3,1.85,0;',\n",
       "       'Color,Niki Caro,113,129,51,89,Valente Rodriguez,427,44469602,Biography|Drama|Sport,Morgan Saylor,\"McFarland, USA\\xa0\",23480,952,Diana Maria Riva,0,coach|high school|place name in title|school|student,http://www.imdb.com/title/tt2097298/?ref_=fn_tt_tt_1,83,English,USA,PG,17000000,2015,234,7.4,2.35,21000;',\n",
       "       'Color,Ang Lee,287,120,0,5,Pei-Pei Cheng,103,128067808,Action|Drama|Romance,Chen Chang,\"Crouching Tiger, Hidden Dragon\\xa0\",217740,129,Sihung Lung,3,bare midriff|china|magical realism|martial arts|sword,http://www.imdb.com/title/tt0190332/?ref_=fn_tt_tt_1,1641,Mandarin,Taiwan,PG-13,15000000,2000,21,7.9,2.35,0;',\n",
       "       'Color,Martin Scorsese,59,136,17000,213,Liza Minnelli,22000,,Drama|Music|Musical|Romance,Robert De Niro,\"New York, New York\\xa0\",13548,23378,Mary Kay Place,0,love|musician|saxophonist|singer|songwriter,http://www.imdb.com/title/tt0076451/?ref_=fn_tt_tt_1,75,English,USA,PG,14000000,1977,740,6.7,1.66,932;',\n",
       "       'Color,Barry Levinson,62,121,272,227,J.T. Walsh,49000,123922370,Biography|Comedy|Drama|War,Robin Williams,\"Good Morning, Vietnam\\xa0\",98348,50141,Bruno Kirby,1,disc jockey|friendship|radio|vietnam|vietnamese,http://www.imdb.com/title/tt0093105/?ref_=fn_tt_tt_1,131,English,USA,R,13000000,1987,263,7.3,1.85,0;',\n",
       "       'Color,Danny Leiner,106,83,8,612,Mary Lynn Rajskub,3000,46729374,Comedy|Mystery,Jennifer Garner,\"Dude, Where\\'s My Car?\\xa0\",116625,6454,Marla Sokoloff,2,bare chested male|gay kiss|homoeroticism|lesbian kiss|transsexual,http://www.imdb.com/title/tt0242423/?ref_=fn_tt_tt_1,469,English,USA,PG-13,13000000,2000,934,5.5,1.37,0;',\n",
       "       'Color,Olivier Assayas,165,120,107,280,Miranda Richardson,12000,4857376,Comedy|Drama|Romance,Steve Buscemi,\"Paris, je t\\'aime\\xa0\",63084,13208,Catalina Sandino Moreno,0,baby|divorce|oscar wilde|pigalle|tourist,http://www.imdb.com/title/tt0401711/?ref_=fn_tt_tt_1,123,French,France,R,13000000,2006,530,7.3,1.85,0;',\n",
       "       'Color,Yimou Zhang,101,95,611,3,Ni Yan,9,190666,Comedy|Drama,Honglei Sun,\"A Woman, a Gun and a Noodle Shop\\xa0\",2410,18,Dahong Ni,1,betrayal|husband wife relationship|murder|noodles|salary,http://www.imdb.com/title/tt1428556/?ref_=fn_tt_tt_1,20,Mandarin,China,R,,2009,4,5.7,2.35,784;',\n",
       "       'Color,Neal Brennan,83,89,23,503,Noureen DeWulf,839,15102127,Comedy,Rob Riggle,\"The Goods: Live Hard, Sell Hard\\xa0\",17790,3973,Charles Napier,5,fourth of july|looking at one\\'s self in a mirror|mirror|sex toy|young version of character,http://www.imdb.com/title/tt1092633/?ref_=fn_tt_tt_1,59,English,USA,R,,2009,700,5.8,1.85,0;',\n",
       "       'Color,David Schwimmer,168,100,0,231,Iddo Goldberg,427,5998971,Comedy|Romance|Sport,Dylan Moran,\"Run, Fatboy, Run\\xa0\",58509,1022,India de Beaufort,0,blister|gym|marathon|training|wedding,http://www.imdb.com/title/tt0425413/?ref_=fn_tt_tt_1,143,English,UK,PG-13,,2007,269,6.6,2.35,0;',\n",
       "       'Color,Jay Duplass,182,83,157,581,Evan Ross,2000,4244155,Comedy|Drama,Judy Greer,\"Jeff, Who Lives at Home\\xa0\",56005,3374,Rae Dawn Chong,5,basement|errand|secret admirer|slacker|wrong number,http://www.imdb.com/title/tt1588334/?ref_=fn_tt_tt_1,112,English,USA,R,10000000,2011,616,6.5,1.85,0;',\n",
       "       'Color,Joshua Seftel,79,107,0,91,Sergej Trifunovic,603,578527,Action|Comedy|Thriller,Bashar Rahal,\"War, Inc.\\xa0\",20008,988,Ned Bellamy,3,assassin|corporation|pop star|reporter|satire,http://www.imdb.com/title/tt0884224/?ref_=fn_tt_tt_1,112,English,USA,R,10000000,2008,175,5.7,1.78,883;',\n",
       "       'Color,Rafa Lara,12,125,21,36,Andrés Montiel,78,169379,Drama|History|War,Jorge Luis Moreno,\"Cinco de Mayo, La Batalla\\xa0\",683,221,William Miller,1,,http://www.imdb.com/title/tt2553908/?ref_=fn_tt_tt_1,3,Spanish,Mexico,R,10000000,2013,61,6.2,,874;',\n",
       "       'Color,Jee-woon Kim,152,135,419,7,Woo-sung Jung,398,128486,Action|Adventure|Comedy|Western,Kang-ho Song,\"The Good, the Bad, the Weird\\xa0\",26156,569,Dal-su Oh,0,bounty hunter|manchuria|map|train|treasure,http://www.imdb.com/title/tt0901487/?ref_=fn_tt_tt_1,74,Korean,South Korea,R,10000000,2008,149,7.3,2.35,0;',\n",
       "       'Color,Stanley Kramer,61,197,176,760,Sid Caesar,924,46300000,Action|Adventure|Comedy|Crime,Jonathan Winters,\"It\\'s a Mad, Mad, Mad, Mad World\\xa0\",29323,4109,Spencer Tracy,0,california|desert|dying words|money|race,http://www.imdb.com/title/tt0057193/?ref_=fn_tt_tt_1,344,English,USA,Approved,9400000,1963,898,7.6,2.76,0;',\n",
       "       'Color,Martyn Pick,19,76,4,151,Steven Waddington,722,,Action|Animation|Fantasy|Horror|Mystery|Sci-Fi|Thriller,Sean Pertwee,\"Ultramarines: A Warhammer 40,000 Movie\\xa0\",4990,1254,Donald Sumpter,0,grimdark|mutilated corpse|space marine|ultramarines|warhammer 40k,http://www.imdb.com/title/tt1679332/?ref_=fn_tt_tt_1,64,English,UK,R,,2010,212,5.7,1.85,0;',\n",
       "       'Color,Adam Brooks,160,112,20,61,Sakina Jaffrey,16000,31973840,Comedy|Drama|Romance,Ryan Reynolds,\"Definitely, Maybe\\xa0\",127760,16289,Paulina Gerzon,5,college|daughter|girl|sex|wisconsin,http://www.imdb.com/title/tt0832266/?ref_=fn_tt_tt_1,168,English,Germany,PG-13,,2008,109,7.2,2.35,0;',\n",
       "       ' Black and White,George Clooney,351,93,0,566,Tate Donovan,21000,31501218,Biography|Drama|History,Robert Downey Jr.,\"Good Night, and Good Luck.\\xa0\",84070,22745,Alex Borstein,0,cbs|expose|fear|paranoia|reporter,http://www.imdb.com/title/tt0433383/?ref_=fn_tt_tt_1,526,English,USA,PG,7500000,2005,650,7.5,1.85,0;',\n",
       "       'Color,Gabriele Muccino,36,125,125,11,Silvio Muccino,60,223878,Comedy|Drama|Romance,Laura Morante,\"Remember Me, My Love\\xa0\",3548,132,Giulia Michelini,1,box office hit|dancer|sex scene|television|underage sex,http://www.imdb.com/title/tt0323807/?ref_=fn_tt_tt_1,21,Italian,Italy,R,5000000,2003,29,6.5,2.35,282;',\n",
       "       'Color,S.R. Bindler,26,85,0,499,Scott Glenn,11000,36497,Comedy,Matthew McConaughey,\"Surfer, Dude\\xa0\",7367,14599,Sarah Wright,0,barefoot|endorsement|surfboard|virtual reality|waves,http://www.imdb.com/title/tt0976247/?ref_=fn_tt_tt_1,37,English,USA,R,6000000,2008,826,4.7,1.85,850;',\n",
       "       'Color,Richard Fleischer,69,127,130,51,Robert J. Wilke,617,,Adventure|Drama|Family|Fantasy|Sci-Fi,James Mason,\"20,000 Leagues Under the Sea\\xa0\",22123,799,Paul Lukas,0,captain|expedition|sea|submarine|whale,http://www.imdb.com/title/tt0046672/?ref_=fn_tt_tt_1,108,English,USA,Approved,5000000,1954,53,7.2,1.37,0;',\n",
       "       'Color,John Erick Dowdle,196,93,66,161,Edwin Hodge,1000,21197315,Horror|Mystery|Thriller,Ben Feldman,\"As Above, So Below\\xa0\",49948,1410,Perdita Weeks,0,archeologist|catacomb|found footage|paris france|philosopher\\'s stone,http://www.imdb.com/title/tt2870612/?ref_=fn_tt_tt_1,211,English,USA,R,5000000,2014,200,6.1,1.85,14000;',\n",
       "       'Color,Feroz Abbas Khan,16,136,0,14,Bhoomika Chawla,75,240425,Biography|Drama|History,Akshaye Khanna,\"Gandhi, My Father\\xa0\",1311,172,Darshan Jariwala,0,africa|hindu|india|muslim|south africa,http://www.imdb.com/title/tt0459293/?ref_=fn_tt_tt_1,25,Hindi,India,,,2007,45,7.4,2.35,133;',\n",
       "       'Color,Nicholas Fackler,27,90,6,940,Ellen Burstyn,3000,124720,Drama|Romance,Adam Scott,\"Lovely, Still\\xa0\",1560,4987,Martin Landau,0,christmas|fable|old man,http://www.imdb.com/title/tt1150947/?ref_=fn_tt_tt_1,15,English,USA,PG,5000000,2008,1000,7.3,1.85,777;',\n",
       "       'Color,Jorge Ramírez Suárez,26,120,45,69,Adriana Barraza,623,100412,Drama,Hector Kotsifakis,\"Buen Día, Ramón\\xa0\",2112,824,Arcelia Ramírez,0,,http://www.imdb.com/title/tt2876428/?ref_=fn_tt_tt_1,7,German,Mexico,PG-13,4000000,2013,85,7.7,2.35,0;',\n",
       "       'Color,Jay Oliva,44,148,41,739,Mark Valley,2000,,Action|Animation|Crime|Sci-Fi|Thriller,Michael Emerson,\"Batman: The Dark Knight Returns, Part 2\\xa0\",30434,5526,Grey Griffin,0,batman|joker|mutant|tattoo on breast|the joker,http://www.imdb.com/title/tt2166834/?ref_=fn_tt_tt_1,55,English,USA,PG-13,3500000,2013,774,8.4,,5000;',\n",
       "       'Color,Joe Cross,13,97,65,0,Joel Fuhrman,65,,Documentary,Joe Cross,\"Fat, Sick & Nearly Dead\\xa0\",6429,67,Amy Badberg,2,fat|food|health|juice|obese,http://www.imdb.com/title/tt1227378/?ref_=fn_tt_tt_1,25,English,Australia,,2500000,2010,2,7.6,,10000;',\n",
       "       'Color,Tim McCanlies,15,97,23,326,Michael O\\'Neill,982,565592,Comedy|Drama|Family,Ethan Embry,\"Dancer, Texas Pop. 81\\xa0\",2189,2580,Alexandra Holden,0,best friend|friendship|population|state in title|texas,http://www.imdb.com/title/tt0118925/?ref_=fn_tt_tt_1,63,English,USA,PG,,1998,599,6.8,1.85,500;',\n",
       "       'Color,Gary Rogers,7,120,0,40,Kirby Heyborne,178,1098224,Adventure,Noah Danby,\"The Book of Mormon Movie, Volume 1: The Journey\\xa0\",397,359,Bruce Newbold,1,jerusalem|journey|promised land|ship|wilderness,http://www.imdb.com/title/tt0349159/?ref_=fn_tt_tt_1,30,English,USA,PG-13,2000000,2003,69,3.3,1.85,32;',\n",
       "       'Color,Simon Napier-Bell,,81,0,8,Tim Rice,674,,Documentary,Alice Cooper,\"To Be Frank, Sinatra at 100\\xa0\",7,712,Louis Walsh,0,,http://www.imdb.com/title/tt4704314/?ref_=fn_tt_tt_1,,English,UK,,2000000,2015,27,7.4,,0;',\n",
       "       'Color,Mark Illsley,77,98,3,327,Illeana Douglas,349,1943649,Comedy|Crime|Romance,Ally Walker,\"Happy, Texas\\xa0\",8697,2095,Jeremy Northam,3,banker|beauty pageant|escaped convict|gay|pageant,http://www.imdb.com/title/tt0162360/?ref_=fn_tt_tt_1,122,English,USA,PG-13,1700000,1999,347,6.3,1.85,374;',\n",
       "       'Color,Guy Ritchie,116,120,0,452,Jason Flemyng,26000,3650677,Comedy|Crime,Jason Statham,\"Lock, Stock and Two Smoking Barrels\\xa0\",414976,28294,Dexter Fletcher,1,antique|cockney accent|hatchet|money|shotgun,http://www.imdb.com/title/tt0120735/?ref_=fn_tt_tt_1,523,English,UK,R,960000,1998,1000,8.2,1.85,21000;',\n",
       "       'Color,Steven Soderbergh,58,100,0,65,Laura San Giacomo,828,24741700,Drama,Peter Gallagher,\"Sex, Lies, and Videotape\\xa0\",37785,1431,Steven Brill,2,affair|interview|marriage|sex|videotape,http://www.imdb.com/title/tt0098724/?ref_=fn_tt_tt_1,95,English,USA,R,1200000,1989,531,7.2,1.85,2000;',\n",
       "       'Color,Sergio Leone,181,142,0,24,Luigi Pistilli,16000,6100000,Western,Clint Eastwood,\"The Good, the Bad and the Ugly\\xa0\",503509,16089,Enzo Petito,3,civil war|hitman|outlaw|shootout|spaghetti western,http://www.imdb.com/title/tt0060196/?ref_=fn_tt_tt_1,780,Italian,Italy,Approved,1200000,1966,34,8.9,2.35,20000;',\n",
       "       'Color,Léa Pool,23,97,4,,,,24784,Documentary,,\"Pink Ribbons, Inc.\\xa0\",591,0,,0,breast cancer|comma in title|period in title|punctuation in title|three word title,http://www.imdb.com/title/tt2035599/?ref_=fn_tt_tt_1,10,English,Canada,Not Rated,1200000,2011,,7.4,,5000;',\n",
       "       'Color,Robert Kenner,120,94,11,2,Eric Schlosser,37,4417124,Documentary,Michael Pollan,\"Food, Inc.\\xa0\",42389,42,Barbara Kowalcyk,0,farming|flesh eating|food|food industry|gluttony,http://www.imdb.com/title/tt1286537/?ref_=fn_tt_tt_1,183,English,USA,PG,,2008,3,7.9,1.78,37000;',\n",
       "       'Color,Cristian Mungiu,233,113,163,27,Vlad Ivanov,131,1185783,Drama,Anamaria Marinca,\"4 Months, 3 Weeks and 2 Days\\xa0\",44763,264,Alexandru Potocean,0,female rear nudity|friend|hotel|rainy night|towel,http://www.imdb.com/title/tt1032846/?ref_=fn_tt_tt_1,172,Romanian,Romania,Not Rated,590000,2007,60,7.9,1.85,14000;',\n",
       "       'Color,Jamie Travis,115,88,15,567,Ari Graynor,938,1243961,Comedy,James Wolk,\"For a Good Time, Call...\\xa0\",13421,3770,Nia Vardalos,0,friend|friendship|gay|phone sex|sex,http://www.imdb.com/title/tt1996264/?ref_=fn_tt_tt_1,34,English,USA,R,850000,2012,904,6.0,2.35,0;',\n",
       "       'Color,Jesse Peretz,16,94,37,104,Eli Marienthal,318,40542,Drama|Romance,Robert John Burke,\"First Love, Last Rites\\xa0\",294,751,Natasha Gregson Wagner,0,listening to music|misfit|panties|red panties|sex,http://www.imdb.com/title/tt0128214/?ref_=fn_tt_tt_1,16,English,USA,R,300000,1997,157,5.5,,26;',\n",
       "       ' Black and White,Eugène Lourié,67,80,7,21,Cecil Kellaway,57,5000000,Adventure|Horror|Sci-Fi,Kenneth Tobey,\"The Beast from 20,000 Fathoms\\xa0\",4812,205,Ross Elliott,0,arctic|beast|dinosaur|monster|rhedosaurus,http://www.imdb.com/title/tt0045546/?ref_=fn_tt_tt_1,88,English,USA,Approved,210000,1953,40,6.7,1.37,465;',\n",
       "       'Color,Richard Fleischer,69,127,130,51,Robert J. Wilke,618,,Adventure|Drama|Family|Fantasy|Sci-Fi,James Mason,\"20,000 Leagues Under the Sea\\xa0\",22124,800,Paul Lukas,0,captain|expedition|sea|submarine|whale,http://www.imdb.com/title/tt0046672/?ref_=fn_tt_tt_1,108,English,USA,Approved,5000000,1954,53,7.2,1.37,0;',\n",
       "       'Color,Stephen Langford,2,82,7,50,Gabriela Castillo,143,,Family,Kevin P. Farley,\"Dude, Where\\'s My Dog?!\\xa0\",73,417,Brandon Middleton,0,,http://www.imdb.com/title/tt3109200/?ref_=fn_tt_tt_1,4,English,USA,PG,20000,2014,134,3.2,1.85,178;',\n",
       "       'Color,Sut Jhally,16,80,3,0,Seth Ackerman,103,,Documentary,Noam Chomsky,\"Peace, Propaganda & the Promised Land\\xa0\",496,103,Arik Ascherman,3,arab israeli conflict|israel|media|middle east|palestine,http://www.imdb.com/title/tt0428959/?ref_=fn_tt_tt_1,13,English,USA,,70000,2004,0,8.3,,110;',\n",
       "       'Color,Julie Davis,5,86,12,117,Meredith Scott Lynn,238,33598,Comedy|Romance,Jack McGee,\"I Love You, Don\\'t Touch Me!\\xa0\",405,623,Tim DeZarn,1,female frontal nudity|female rear nudity|title directed by female|virgin|written and directed by cast member,http://www.imdb.com/title/tt0130019/?ref_=fn_tt_tt_1,15,English,USA,R,,1997,166,5.4,,97;',\n",
       "       'Color,Collin Joseph Neal,7,75,14,130,Thomas Brophy,252,,Horror|Thriller,Julianne Gabert,\"Run, Hide, Die\\xa0\",106,638,Ronee Collins,0,,http://www.imdb.com/title/tt2442662/?ref_=fn_tt_tt_1,5,English,USA,,50000,2012,132,3.7,2.35,225;'],\n",
       "      dtype=object)"
      ]
     },
     "execution_count": 79,
     "metadata": {},
     "output_type": "execute_result"
    }
   ],
   "source": [
    "df['color'].unique()"
   ]
  },
  {
   "cell_type": "code",
   "execution_count": 5,
   "id": "ed57a995-876f-470e-a19d-7bed705c2629",
   "metadata": {},
   "outputs": [],
   "source": [
    "im_duplicates = ['color', 'Color', 'Colour']"
   ]
  },
  {
   "cell_type": "code",
   "execution_count": 6,
   "id": "46795ee2-e484-4a0e-8c92-1070ec76afc9",
   "metadata": {},
   "outputs": [],
   "source": [
    "for dup in im_duplicates:\n",
    "    df['color'] = df['color'].replace(dup, 'color')"
   ]
  },
  {
   "cell_type": "code",
   "execution_count": 84,
   "id": "e810d646-fce5-4a37-bf51-d267fe35689e",
   "metadata": {},
   "outputs": [
    {
     "data": {
      "text/plain": [
       "array(['color', nan,\n",
       "       'Color,Andrew Adamson,284,150,80,82,Kiran Shah,1000,291709845,Adventure|Family|Fantasy,Jim Broadbent,\"The Chronicles of Narnia: The Lion, the Witch and the Wardrobe\\xa0\",286506,1317,Shane Rangi,5,hide and seek|lion|magic|professor|snow,http://www.imdb.com/title/tt0363771/?ref_=fn_tt_tt_1,1463,English,USA,PG,180000000,2005,190,6.9,2.35,0;',\n",
       "       ' Black and White',\n",
       "       'Color,Pete Docter,250,92,0,773,John Ratzenberger,12000,289907418,Adventure|Animation|Comedy|Family|Fantasy,Steve Buscemi,\"Monsters, Inc.\\xa0\",585659,15013,James Coburn,0,friend|little girl|monster|rival|scream,http://www.imdb.com/title/tt0198781/?ref_=fn_tt_tt_1,593,English,USA,G,115000000,2001,1000,8.1,1.85,0;',\n",
       "       'Color,Alex Proyas,225,115,295,466,Bruce Greenwood,10000,144795350,Action|Mystery|Sci-Fi|Thriller,Will Smith,\"I, Robot\\xa0\",387632,12068,Chi McBride,1,humanoid robot|man versus machine|prosthetic limb|robot as pathos|robot vs. robot,http://www.imdb.com/title/tt0343818/?ref_=fn_tt_tt_1,789,English,USA,PG-13,120000000,2004,981,7.1,2.35,0;',\n",
       "       ',Christopher Barnard,,22,0,,,5,,Comedy,Mathew Buck,\"10,000 B.C.\\xa0            \",6,5,,0,,http://www.imdb.com/title/tt1869849/?ref_=fn_tt_tt_1,,,,,,,,7.2,,0;',\n",
       "       'Color,Stuart Beattie,308,92,72,568,Kevin Grevioux,623,19059018,Action|Fantasy|Sci-Fi|Thriller,Caitlin Stasey,\"I, Frankenstein\\xa0\",65709,3165,Miranda Otto,0,army|creature|demon|frankenstein|gargoyle,http://www.imdb.com/title/tt1418377/?ref_=fn_tt_tt_1,194,English,Australia,PG-13,65000000,2014,593,5.1,2.35,15000;',\n",
       "       'Color,,20,22,,271,Soleil Moon Frye,870,,Comedy|Family|Fantasy,Nate Richert,\"Sabrina, the Teenage Witch\\xa0            \",24420,2433,Caroline Rhea,1,female protagonist|hereditary gift of witchcraft|magic|supernatural|witch,http://www.imdb.com/title/tt0115341/?ref_=fn_tt_tt_1,94,English,USA,TV-G,3000000,,558,6.6,1.33,990;',\n",
       "       'Color,Anthony Russo,136,110,94,240,Billy Gardell,277,75604320,Comedy|Romance,Todd Stashwick,\"You, Me and Dupree\\xa0\",68417,847,Amanda Detmer,1,best friend|foot fetish|houseguest|newlywed|wedding,http://www.imdb.com/title/tt0463034/?ref_=fn_tt_tt_1,195,English,USA,PG-13,54000000,2006,245,5.6,1.85,0;',\n",
       "       'Color,Bobby Farrelly,155,116,101,79,Tony Cox,889,90567722,Comedy,Robert Forster,\"Me, Myself & Irene\\xa0\",185878,1711,Rob Moran,1,dissociative identity disorder|limousine|multiple personality|police|rhode island,http://www.imdb.com/title/tt0183505/?ref_=fn_tt_tt_1,481,English,USA,R,51000000,2000,624,6.5,1.85,0;',\n",
       "       'Color,Glenn Ficarra,310,118,43,7000,Emma Stone,33000,84244877,Comedy|Drama|Romance,Ryan Gosling,\"Crazy, Stupid, Love.\\xa0\",375456,57426,Steve Carell,7,bar|divorce|friend|girl|male objectification,http://www.imdb.com/title/tt1570728/?ref_=fn_tt_tt_1,292,English,USA,PG-13,50000000,2011,15000,7.4,2.39,44000;',\n",
       "       'Color,Melville Shavelson,8,111,5,559,Tom Bosley,6000,,Comedy|Family,Lucille Ball,\"Yours, Mine and Ours\\xa0\",5888,7493,Tim Matheson,0,nurse|parent|sibling|widow|widower,http://www.imdb.com/title/tt0063829/?ref_=fn_tt_tt_1,61,English,USA,Unrated,2500000,1968,584,7.2,1.85,0;',\n",
       "       'Color,John Hamburg,215,105,29,257,Jon Favreau,24000,71347010,Comedy|Romance,J.K. Simmons,\"I Love You, Man\\xa0\",166194,28928,Jane Curtin,2,bromance|friend|gay brother|homosexual subtext|wedding,http://www.imdb.com/title/tt1155056/?ref_=fn_tt_tt_1,215,English,USA,R,40000000,2009,4000,7.1,1.85,0;',\n",
       "       'Color,Taylor Hackford,12,330,138,672,Jesse Borrego,848,4496583,Crime|Drama,Delroy Lindo,\"Blood In, Blood Out\\xa0\",23181,3227,Raymond Cruz,2,1970s|1980s|barrio|gang war|mexican,http://www.imdb.com/title/tt0106469/?ref_=fn_tt_tt_1,129,English,USA,R,35000000,1993,674,8.0,1.66,6000;',\n",
       "       'Color,John Whitesell,88,113,14,534,Tony Curran,918,37911876,Action|Comedy|Crime,Brandon T. Jackson,\"Big Mommas: Like Father, Like Son\\xa0\",19671,3500,Portia Doubleday,2,fbi agent|murder|performing arts school|scene during end credits|undercover,http://www.imdb.com/title/tt1464174/?ref_=fn_tt_tt_1,47,English,USA,PG-13,32000000,2011,845,4.4,2.35,0;',\n",
       "       'Color,Miguel Arteta,119,81,44,3000,Steve Carell,35000,66950483,Comedy|Family,Bella Thorne,\"Alexander and the Terrible, Horrible, No Good, Very Bad Day\\xa0\",29738,47677,Jennifer Garner,6,bad day|based on book|birthday|job interview|long title,http://www.imdb.com/title/tt1698641/?ref_=fn_tt_tt_1,85,English,USA,PG,28000000,2014,7000,6.2,2.39,12000;',\n",
       "       'Color,Jay Roach,74,119,116,385,Mary McCormack,738,8888143,Comedy|Drama|Sport,Scott Grimes,\"Mystery, Alaska\\xa0\",22250,2171,Ron Eldard,0,alaska|male nudity|nudity|sex|small town,http://www.imdb.com/title/tt0134618/?ref_=fn_tt_tt_1,123,English,Canada,R,28000000,1999,428,6.7,2.35,913;',\n",
       "       'Color,Malcolm D. Lee,76,114,92,436,Mike Epps,940,42168445,Comedy|Drama|Romance,Mo\\'Nique,\"Welcome Home, Roscoe Jenkins\\xa0\",10791,3565,Cedric the Entertainer,3,african american protagonist|comma in title|four word title|name in title|talk show host,http://www.imdb.com/title/tt0494652/?ref_=fn_tt_tt_1,39,English,USA,PG-13,35000000,2008,706,5.3,1.85,464;',\n",
       "       'Color,Joel Coen,197,107,0,577,Tim Blake Nelson,1000,45506619,Adventure|Comedy|Crime|Music,Holly Hunter,\"O Brother, Where Art Thou?\\xa0\",225102,3066,Daniel von Bargen,3,baby|bank|blind prophet|convict|sirens,http://www.imdb.com/title/tt0190590/?ref_=fn_tt_tt_1,862,English,UK,PG-13,26000000,2000,596,7.8,2.35,16000;',\n",
       "       'Color,Charles Herman-Wurmfeld,133,95,0,643,Bruce McGill,934,89808372,Comedy,Mary Lynn Rajskub,\"Legally Blonde 2: Red, White & Blonde\\xa0\",46417,3500,Bob Newhart,2,animal rights|congresswoman|doorman|transvestism|washington d.c.,http://www.imdb.com/title/tt0333780/?ref_=fn_tt_tt_1,297,English,USA,PG-13,45000000,2003,655,4.6,1.85,660;',\n",
       "       'Color,James Bridges,28,107,21,418,Phoebe Cates,967,16118077,Drama,Dianne Wiest,\"Bright Lights, Big City\\xa0\",5817,3067,Swoosie Kurtz,0,estranged wife|fashion show|magazine|new york city|writer,http://www.imdb.com/title/tt0094799/?ref_=fn_tt_tt_1,37,English,USA,R,25000000,1988,767,5.6,1.85,377;',\n",
       "       'Color,James Mangold,133,127,446,898,Clea DuVall,11000,28871190,Biography|Drama,Angelina Jolie Pitt,\"Girl, Interrupted\\xa0\",125421,13433,Vanessa Redgrave,0,1960s|father daughter incest|mental hospital|suicide|suicide attempt,http://www.imdb.com/title/tt0172493/?ref_=fn_tt_tt_1,385,English,USA,R,24000000,1999,1000,7.3,1.85,0;',\n",
       "       'Color,Ethan Coen,423,106,1000,1000,Channing Tatum,19000,29997095,Comedy|Mystery,Scarlett Johansson,\"Hail, Caesar!\\xa0\",60926,38494,Alden Ehrenreich,5,50s|film within a film|hollywood|illegitimate pregnancy|twins,http://www.imdb.com/title/tt0475290/?ref_=fn_tt_tt_1,302,English,UK,PG-13,22000000,2016,17000,6.4,1.85,23000;',\n",
       "       'Color,Charlie Kaufman,245,124,0,631,Jennifer Jason Leigh,22000,3081925,Comedy|Drama|Romance,Philip Seymour Hoffman,\"Synecdoche, New York\\xa0\",55842,24732,Samantha Morton,0,actress|director|play|theatre director|warehouse,http://www.imdb.com/title/tt0383028/?ref_=fn_tt_tt_1,274,English,USA,R,21000000,2008,1000,7.5,2.35,13000;',\n",
       "       'Color,,,43,,211,Jenni \\'Jwoww\\' Farley,341,,Comedy|Drama|Reality-TV|Romance,Nicole \\'Snooki\\' Polizzi,\"Gone, Baby, Gone\\xa0            \",29,1462,Paul \\'Pauly D\\' DelVecchio,1,lifestyle,http://www.imdb.com/title/tt1697237/?ref_=fn_tt_tt_1,,English,,TV-14,,,230,6.6,1.33,0;',\n",
       "       'Color,Chris Columbus,107,102,0,529,Marie Avgeropoulos,946,14793904,Comedy|Romance,Alan Ruck,\"I Love You, Beth Cooper\\xa0\",28209,4072,Shawn Roberts,1,cheerleader|party|popular girl|speech|valedictorian,http://www.imdb.com/title/tt1032815/?ref_=fn_tt_tt_1,80,English,Canada,PG-13,18000000,2009,800,5.3,1.85,0;',\n",
       "       'Color,Niki Caro,113,129,51,89,Valente Rodriguez,427,44469602,Biography|Drama|Sport,Morgan Saylor,\"McFarland, USA\\xa0\",23480,952,Diana Maria Riva,0,coach|high school|place name in title|school|student,http://www.imdb.com/title/tt2097298/?ref_=fn_tt_tt_1,83,English,USA,PG,17000000,2015,234,7.4,2.35,21000;',\n",
       "       'Color,Ang Lee,287,120,0,5,Pei-Pei Cheng,103,128067808,Action|Drama|Romance,Chen Chang,\"Crouching Tiger, Hidden Dragon\\xa0\",217740,129,Sihung Lung,3,bare midriff|china|magical realism|martial arts|sword,http://www.imdb.com/title/tt0190332/?ref_=fn_tt_tt_1,1641,Mandarin,Taiwan,PG-13,15000000,2000,21,7.9,2.35,0;',\n",
       "       'Color,Martin Scorsese,59,136,17000,213,Liza Minnelli,22000,,Drama|Music|Musical|Romance,Robert De Niro,\"New York, New York\\xa0\",13548,23378,Mary Kay Place,0,love|musician|saxophonist|singer|songwriter,http://www.imdb.com/title/tt0076451/?ref_=fn_tt_tt_1,75,English,USA,PG,14000000,1977,740,6.7,1.66,932;',\n",
       "       'Color,Barry Levinson,62,121,272,227,J.T. Walsh,49000,123922370,Biography|Comedy|Drama|War,Robin Williams,\"Good Morning, Vietnam\\xa0\",98348,50141,Bruno Kirby,1,disc jockey|friendship|radio|vietnam|vietnamese,http://www.imdb.com/title/tt0093105/?ref_=fn_tt_tt_1,131,English,USA,R,13000000,1987,263,7.3,1.85,0;',\n",
       "       'Color,Danny Leiner,106,83,8,612,Mary Lynn Rajskub,3000,46729374,Comedy|Mystery,Jennifer Garner,\"Dude, Where\\'s My Car?\\xa0\",116625,6454,Marla Sokoloff,2,bare chested male|gay kiss|homoeroticism|lesbian kiss|transsexual,http://www.imdb.com/title/tt0242423/?ref_=fn_tt_tt_1,469,English,USA,PG-13,13000000,2000,934,5.5,1.37,0;',\n",
       "       'Color,Olivier Assayas,165,120,107,280,Miranda Richardson,12000,4857376,Comedy|Drama|Romance,Steve Buscemi,\"Paris, je t\\'aime\\xa0\",63084,13208,Catalina Sandino Moreno,0,baby|divorce|oscar wilde|pigalle|tourist,http://www.imdb.com/title/tt0401711/?ref_=fn_tt_tt_1,123,French,France,R,13000000,2006,530,7.3,1.85,0;',\n",
       "       'Color,Yimou Zhang,101,95,611,3,Ni Yan,9,190666,Comedy|Drama,Honglei Sun,\"A Woman, a Gun and a Noodle Shop\\xa0\",2410,18,Dahong Ni,1,betrayal|husband wife relationship|murder|noodles|salary,http://www.imdb.com/title/tt1428556/?ref_=fn_tt_tt_1,20,Mandarin,China,R,,2009,4,5.7,2.35,784;',\n",
       "       'Color,Neal Brennan,83,89,23,503,Noureen DeWulf,839,15102127,Comedy,Rob Riggle,\"The Goods: Live Hard, Sell Hard\\xa0\",17790,3973,Charles Napier,5,fourth of july|looking at one\\'s self in a mirror|mirror|sex toy|young version of character,http://www.imdb.com/title/tt1092633/?ref_=fn_tt_tt_1,59,English,USA,R,,2009,700,5.8,1.85,0;',\n",
       "       'Color,David Schwimmer,168,100,0,231,Iddo Goldberg,427,5998971,Comedy|Romance|Sport,Dylan Moran,\"Run, Fatboy, Run\\xa0\",58509,1022,India de Beaufort,0,blister|gym|marathon|training|wedding,http://www.imdb.com/title/tt0425413/?ref_=fn_tt_tt_1,143,English,UK,PG-13,,2007,269,6.6,2.35,0;',\n",
       "       'Color,Jay Duplass,182,83,157,581,Evan Ross,2000,4244155,Comedy|Drama,Judy Greer,\"Jeff, Who Lives at Home\\xa0\",56005,3374,Rae Dawn Chong,5,basement|errand|secret admirer|slacker|wrong number,http://www.imdb.com/title/tt1588334/?ref_=fn_tt_tt_1,112,English,USA,R,10000000,2011,616,6.5,1.85,0;',\n",
       "       'Color,Joshua Seftel,79,107,0,91,Sergej Trifunovic,603,578527,Action|Comedy|Thriller,Bashar Rahal,\"War, Inc.\\xa0\",20008,988,Ned Bellamy,3,assassin|corporation|pop star|reporter|satire,http://www.imdb.com/title/tt0884224/?ref_=fn_tt_tt_1,112,English,USA,R,10000000,2008,175,5.7,1.78,883;',\n",
       "       'Color,Rafa Lara,12,125,21,36,Andrés Montiel,78,169379,Drama|History|War,Jorge Luis Moreno,\"Cinco de Mayo, La Batalla\\xa0\",683,221,William Miller,1,,http://www.imdb.com/title/tt2553908/?ref_=fn_tt_tt_1,3,Spanish,Mexico,R,10000000,2013,61,6.2,,874;',\n",
       "       'Color,Jee-woon Kim,152,135,419,7,Woo-sung Jung,398,128486,Action|Adventure|Comedy|Western,Kang-ho Song,\"The Good, the Bad, the Weird\\xa0\",26156,569,Dal-su Oh,0,bounty hunter|manchuria|map|train|treasure,http://www.imdb.com/title/tt0901487/?ref_=fn_tt_tt_1,74,Korean,South Korea,R,10000000,2008,149,7.3,2.35,0;',\n",
       "       'Color,Stanley Kramer,61,197,176,760,Sid Caesar,924,46300000,Action|Adventure|Comedy|Crime,Jonathan Winters,\"It\\'s a Mad, Mad, Mad, Mad World\\xa0\",29323,4109,Spencer Tracy,0,california|desert|dying words|money|race,http://www.imdb.com/title/tt0057193/?ref_=fn_tt_tt_1,344,English,USA,Approved,9400000,1963,898,7.6,2.76,0;',\n",
       "       'Color,Martyn Pick,19,76,4,151,Steven Waddington,722,,Action|Animation|Fantasy|Horror|Mystery|Sci-Fi|Thriller,Sean Pertwee,\"Ultramarines: A Warhammer 40,000 Movie\\xa0\",4990,1254,Donald Sumpter,0,grimdark|mutilated corpse|space marine|ultramarines|warhammer 40k,http://www.imdb.com/title/tt1679332/?ref_=fn_tt_tt_1,64,English,UK,R,,2010,212,5.7,1.85,0;',\n",
       "       'Color,Adam Brooks,160,112,20,61,Sakina Jaffrey,16000,31973840,Comedy|Drama|Romance,Ryan Reynolds,\"Definitely, Maybe\\xa0\",127760,16289,Paulina Gerzon,5,college|daughter|girl|sex|wisconsin,http://www.imdb.com/title/tt0832266/?ref_=fn_tt_tt_1,168,English,Germany,PG-13,,2008,109,7.2,2.35,0;',\n",
       "       ' Black and White,George Clooney,351,93,0,566,Tate Donovan,21000,31501218,Biography|Drama|History,Robert Downey Jr.,\"Good Night, and Good Luck.\\xa0\",84070,22745,Alex Borstein,0,cbs|expose|fear|paranoia|reporter,http://www.imdb.com/title/tt0433383/?ref_=fn_tt_tt_1,526,English,USA,PG,7500000,2005,650,7.5,1.85,0;',\n",
       "       'Color,Gabriele Muccino,36,125,125,11,Silvio Muccino,60,223878,Comedy|Drama|Romance,Laura Morante,\"Remember Me, My Love\\xa0\",3548,132,Giulia Michelini,1,box office hit|dancer|sex scene|television|underage sex,http://www.imdb.com/title/tt0323807/?ref_=fn_tt_tt_1,21,Italian,Italy,R,5000000,2003,29,6.5,2.35,282;',\n",
       "       'Color,S.R. Bindler,26,85,0,499,Scott Glenn,11000,36497,Comedy,Matthew McConaughey,\"Surfer, Dude\\xa0\",7367,14599,Sarah Wright,0,barefoot|endorsement|surfboard|virtual reality|waves,http://www.imdb.com/title/tt0976247/?ref_=fn_tt_tt_1,37,English,USA,R,6000000,2008,826,4.7,1.85,850;',\n",
       "       'Color,Richard Fleischer,69,127,130,51,Robert J. Wilke,617,,Adventure|Drama|Family|Fantasy|Sci-Fi,James Mason,\"20,000 Leagues Under the Sea\\xa0\",22123,799,Paul Lukas,0,captain|expedition|sea|submarine|whale,http://www.imdb.com/title/tt0046672/?ref_=fn_tt_tt_1,108,English,USA,Approved,5000000,1954,53,7.2,1.37,0;',\n",
       "       'Color,John Erick Dowdle,196,93,66,161,Edwin Hodge,1000,21197315,Horror|Mystery|Thriller,Ben Feldman,\"As Above, So Below\\xa0\",49948,1410,Perdita Weeks,0,archeologist|catacomb|found footage|paris france|philosopher\\'s stone,http://www.imdb.com/title/tt2870612/?ref_=fn_tt_tt_1,211,English,USA,R,5000000,2014,200,6.1,1.85,14000;',\n",
       "       'Color,Feroz Abbas Khan,16,136,0,14,Bhoomika Chawla,75,240425,Biography|Drama|History,Akshaye Khanna,\"Gandhi, My Father\\xa0\",1311,172,Darshan Jariwala,0,africa|hindu|india|muslim|south africa,http://www.imdb.com/title/tt0459293/?ref_=fn_tt_tt_1,25,Hindi,India,,,2007,45,7.4,2.35,133;',\n",
       "       'Color,Nicholas Fackler,27,90,6,940,Ellen Burstyn,3000,124720,Drama|Romance,Adam Scott,\"Lovely, Still\\xa0\",1560,4987,Martin Landau,0,christmas|fable|old man,http://www.imdb.com/title/tt1150947/?ref_=fn_tt_tt_1,15,English,USA,PG,5000000,2008,1000,7.3,1.85,777;',\n",
       "       'Color,Jorge Ramírez Suárez,26,120,45,69,Adriana Barraza,623,100412,Drama,Hector Kotsifakis,\"Buen Día, Ramón\\xa0\",2112,824,Arcelia Ramírez,0,,http://www.imdb.com/title/tt2876428/?ref_=fn_tt_tt_1,7,German,Mexico,PG-13,4000000,2013,85,7.7,2.35,0;',\n",
       "       'Color,Jay Oliva,44,148,41,739,Mark Valley,2000,,Action|Animation|Crime|Sci-Fi|Thriller,Michael Emerson,\"Batman: The Dark Knight Returns, Part 2\\xa0\",30434,5526,Grey Griffin,0,batman|joker|mutant|tattoo on breast|the joker,http://www.imdb.com/title/tt2166834/?ref_=fn_tt_tt_1,55,English,USA,PG-13,3500000,2013,774,8.4,,5000;',\n",
       "       'Color,Joe Cross,13,97,65,0,Joel Fuhrman,65,,Documentary,Joe Cross,\"Fat, Sick & Nearly Dead\\xa0\",6429,67,Amy Badberg,2,fat|food|health|juice|obese,http://www.imdb.com/title/tt1227378/?ref_=fn_tt_tt_1,25,English,Australia,,2500000,2010,2,7.6,,10000;',\n",
       "       'Color,Tim McCanlies,15,97,23,326,Michael O\\'Neill,982,565592,Comedy|Drama|Family,Ethan Embry,\"Dancer, Texas Pop. 81\\xa0\",2189,2580,Alexandra Holden,0,best friend|friendship|population|state in title|texas,http://www.imdb.com/title/tt0118925/?ref_=fn_tt_tt_1,63,English,USA,PG,,1998,599,6.8,1.85,500;',\n",
       "       'Color,Gary Rogers,7,120,0,40,Kirby Heyborne,178,1098224,Adventure,Noah Danby,\"The Book of Mormon Movie, Volume 1: The Journey\\xa0\",397,359,Bruce Newbold,1,jerusalem|journey|promised land|ship|wilderness,http://www.imdb.com/title/tt0349159/?ref_=fn_tt_tt_1,30,English,USA,PG-13,2000000,2003,69,3.3,1.85,32;',\n",
       "       'Color,Simon Napier-Bell,,81,0,8,Tim Rice,674,,Documentary,Alice Cooper,\"To Be Frank, Sinatra at 100\\xa0\",7,712,Louis Walsh,0,,http://www.imdb.com/title/tt4704314/?ref_=fn_tt_tt_1,,English,UK,,2000000,2015,27,7.4,,0;',\n",
       "       'Color,Mark Illsley,77,98,3,327,Illeana Douglas,349,1943649,Comedy|Crime|Romance,Ally Walker,\"Happy, Texas\\xa0\",8697,2095,Jeremy Northam,3,banker|beauty pageant|escaped convict|gay|pageant,http://www.imdb.com/title/tt0162360/?ref_=fn_tt_tt_1,122,English,USA,PG-13,1700000,1999,347,6.3,1.85,374;',\n",
       "       'Color,Guy Ritchie,116,120,0,452,Jason Flemyng,26000,3650677,Comedy|Crime,Jason Statham,\"Lock, Stock and Two Smoking Barrels\\xa0\",414976,28294,Dexter Fletcher,1,antique|cockney accent|hatchet|money|shotgun,http://www.imdb.com/title/tt0120735/?ref_=fn_tt_tt_1,523,English,UK,R,960000,1998,1000,8.2,1.85,21000;',\n",
       "       'Color,Steven Soderbergh,58,100,0,65,Laura San Giacomo,828,24741700,Drama,Peter Gallagher,\"Sex, Lies, and Videotape\\xa0\",37785,1431,Steven Brill,2,affair|interview|marriage|sex|videotape,http://www.imdb.com/title/tt0098724/?ref_=fn_tt_tt_1,95,English,USA,R,1200000,1989,531,7.2,1.85,2000;',\n",
       "       'Color,Sergio Leone,181,142,0,24,Luigi Pistilli,16000,6100000,Western,Clint Eastwood,\"The Good, the Bad and the Ugly\\xa0\",503509,16089,Enzo Petito,3,civil war|hitman|outlaw|shootout|spaghetti western,http://www.imdb.com/title/tt0060196/?ref_=fn_tt_tt_1,780,Italian,Italy,Approved,1200000,1966,34,8.9,2.35,20000;',\n",
       "       'Color,Léa Pool,23,97,4,,,,24784,Documentary,,\"Pink Ribbons, Inc.\\xa0\",591,0,,0,breast cancer|comma in title|period in title|punctuation in title|three word title,http://www.imdb.com/title/tt2035599/?ref_=fn_tt_tt_1,10,English,Canada,Not Rated,1200000,2011,,7.4,,5000;',\n",
       "       'Color,Robert Kenner,120,94,11,2,Eric Schlosser,37,4417124,Documentary,Michael Pollan,\"Food, Inc.\\xa0\",42389,42,Barbara Kowalcyk,0,farming|flesh eating|food|food industry|gluttony,http://www.imdb.com/title/tt1286537/?ref_=fn_tt_tt_1,183,English,USA,PG,,2008,3,7.9,1.78,37000;',\n",
       "       'Color,Cristian Mungiu,233,113,163,27,Vlad Ivanov,131,1185783,Drama,Anamaria Marinca,\"4 Months, 3 Weeks and 2 Days\\xa0\",44763,264,Alexandru Potocean,0,female rear nudity|friend|hotel|rainy night|towel,http://www.imdb.com/title/tt1032846/?ref_=fn_tt_tt_1,172,Romanian,Romania,Not Rated,590000,2007,60,7.9,1.85,14000;',\n",
       "       'Color,Jamie Travis,115,88,15,567,Ari Graynor,938,1243961,Comedy,James Wolk,\"For a Good Time, Call...\\xa0\",13421,3770,Nia Vardalos,0,friend|friendship|gay|phone sex|sex,http://www.imdb.com/title/tt1996264/?ref_=fn_tt_tt_1,34,English,USA,R,850000,2012,904,6.0,2.35,0;',\n",
       "       'Color,Jesse Peretz,16,94,37,104,Eli Marienthal,318,40542,Drama|Romance,Robert John Burke,\"First Love, Last Rites\\xa0\",294,751,Natasha Gregson Wagner,0,listening to music|misfit|panties|red panties|sex,http://www.imdb.com/title/tt0128214/?ref_=fn_tt_tt_1,16,English,USA,R,300000,1997,157,5.5,,26;',\n",
       "       ' Black and White,Eugène Lourié,67,80,7,21,Cecil Kellaway,57,5000000,Adventure|Horror|Sci-Fi,Kenneth Tobey,\"The Beast from 20,000 Fathoms\\xa0\",4812,205,Ross Elliott,0,arctic|beast|dinosaur|monster|rhedosaurus,http://www.imdb.com/title/tt0045546/?ref_=fn_tt_tt_1,88,English,USA,Approved,210000,1953,40,6.7,1.37,465;',\n",
       "       'Color,Richard Fleischer,69,127,130,51,Robert J. Wilke,618,,Adventure|Drama|Family|Fantasy|Sci-Fi,James Mason,\"20,000 Leagues Under the Sea\\xa0\",22124,800,Paul Lukas,0,captain|expedition|sea|submarine|whale,http://www.imdb.com/title/tt0046672/?ref_=fn_tt_tt_1,108,English,USA,Approved,5000000,1954,53,7.2,1.37,0;',\n",
       "       'Color,Stephen Langford,2,82,7,50,Gabriela Castillo,143,,Family,Kevin P. Farley,\"Dude, Where\\'s My Dog?!\\xa0\",73,417,Brandon Middleton,0,,http://www.imdb.com/title/tt3109200/?ref_=fn_tt_tt_1,4,English,USA,PG,20000,2014,134,3.2,1.85,178;',\n",
       "       'Color,Sut Jhally,16,80,3,0,Seth Ackerman,103,,Documentary,Noam Chomsky,\"Peace, Propaganda & the Promised Land\\xa0\",496,103,Arik Ascherman,3,arab israeli conflict|israel|media|middle east|palestine,http://www.imdb.com/title/tt0428959/?ref_=fn_tt_tt_1,13,English,USA,,70000,2004,0,8.3,,110;',\n",
       "       'Color,Julie Davis,5,86,12,117,Meredith Scott Lynn,238,33598,Comedy|Romance,Jack McGee,\"I Love You, Don\\'t Touch Me!\\xa0\",405,623,Tim DeZarn,1,female frontal nudity|female rear nudity|title directed by female|virgin|written and directed by cast member,http://www.imdb.com/title/tt0130019/?ref_=fn_tt_tt_1,15,English,USA,R,,1997,166,5.4,,97;',\n",
       "       'Color,Collin Joseph Neal,7,75,14,130,Thomas Brophy,252,,Horror|Thriller,Julianne Gabert,\"Run, Hide, Die\\xa0\",106,638,Ronee Collins,0,,http://www.imdb.com/title/tt2442662/?ref_=fn_tt_tt_1,5,English,USA,,50000,2012,132,3.7,2.35,225;'],\n",
       "      dtype=object)"
      ]
     },
     "execution_count": 84,
     "metadata": {},
     "output_type": "execute_result"
    }
   ],
   "source": [
    "df['color'].unique()"
   ]
  },
  {
   "cell_type": "markdown",
   "id": "d11aa726-791c-4e4b-be45-256e4fcf055e",
   "metadata": {},
   "source": [
    "Теперь удалим ячейки датафрейма с дефектом.(вся инфа о фильме находится в колонке 'color')"
   ]
  },
  {
   "cell_type": "code",
   "execution_count": 7,
   "id": "a9210f9b-6e7c-48bc-9b9c-3bc50a321fb6",
   "metadata": {},
   "outputs": [],
   "source": [
    "things_not_to_delete = ['color', ' Black and White']"
   ]
  },
  {
   "cell_type": "code",
   "execution_count": 8,
   "id": "c6b40dcb-2394-4236-8a9b-e66bba7dbeb7",
   "metadata": {},
   "outputs": [],
   "source": [
    "for value in df.color:\n",
    "    if value not in things_not_to_delete:\n",
    "        ind = df[df['color'] == value].index\n",
    "        df = df.drop(ind)"
   ]
  },
  {
   "cell_type": "markdown",
   "id": "0c3bc6cd-2691-4a01-974b-d45d791dee3a",
   "metadata": {},
   "source": [
    "Проверим что вышло:"
   ]
  },
  {
   "cell_type": "code",
   "execution_count": 90,
   "id": "2b60d3be-5835-4d93-b536-7a216d5a813e",
   "metadata": {},
   "outputs": [
    {
     "data": {
      "text/plain": [
       "array(['color', nan, ' Black and White'], dtype=object)"
      ]
     },
     "execution_count": 90,
     "metadata": {},
     "output_type": "execute_result"
    }
   ],
   "source": [
    "df['color'].unique()"
   ]
  },
  {
   "cell_type": "code",
   "execution_count": 9,
   "id": "967c4f5c-ffc6-4a50-b4e9-26592dcf66c2",
   "metadata": {},
   "outputs": [],
   "source": [
    "df = df.fillna({'color' : 'unknown'})"
   ]
  },
  {
   "cell_type": "code",
   "execution_count": 99,
   "id": "ed634e2d-451b-4ccc-a559-c1222f9cfda5",
   "metadata": {
    "scrolled": true
   },
   "outputs": [
    {
     "data": {
      "text/plain": [
       "color                          0\n",
       "director_name                102\n",
       "num_critic_for_reviews        47\n",
       "duration                      15\n",
       "director_facebook_likes      102\n",
       "actor_3_facebook_likes        21\n",
       "actor_2_name                  11\n",
       "actor_1_facebook_likes         6\n",
       "gross                        870\n",
       "genres                         0\n",
       "actor_1_name                   6\n",
       "movie_title                    0\n",
       "num_voted_users                0\n",
       "cast_total_facebook_likes      0\n",
       "actor_3_name                  21\n",
       "facenumber_in_poster          13\n",
       "plot_keywords                147\n",
       "movie_imdb_link                0\n",
       "num_user_for_reviews          18\n",
       "language                      13\n",
       "country                        3\n",
       "content_rating               297\n",
       "budget                       480\n",
       "title_year                   105\n",
       "actor_2_facebook_likes        11\n",
       "imdb_score                     0\n",
       "aspect_ratio                 320\n",
       "movie_facebook_likes           0\n",
       "dtype: int64"
      ]
     },
     "execution_count": 99,
     "metadata": {},
     "output_type": "execute_result"
    }
   ],
   "source": [
    "df.isna().sum()"
   ]
  },
  {
   "cell_type": "markdown",
   "id": "a80b41b9-dbaf-435d-aeaf-b4a3b194540f",
   "metadata": {},
   "source": [
    "Обработаем годы выпуска фильмов."
   ]
  },
  {
   "cell_type": "code",
   "execution_count": 100,
   "id": "f5fdd503-6d3d-4264-81d5-448fce9e59e5",
   "metadata": {},
   "outputs": [
    {
     "data": {
      "text/plain": [
       "array([2009., 2007., 2015., 2012.,   nan, 2010., 2016., 2006., 2008.,\n",
       "       2013., 2011., 2014., 2005., 1997., 2004., 1999., 1995., 2003.,\n",
       "       2001., 2002., 1998., 2000., 1990., 1991., 1994., 1996., 1982.,\n",
       "       1993., 1979., 1992., 1989., 1984., 1988., 1978., 1962., 1980.,\n",
       "       1972., 1981., 1985., 1940., 1963., 1987., 1986., 1973., 1983.,\n",
       "       1976., 1977., 1970., 1971., 1969., 1960., 1965., 1964., 1927.,\n",
       "       1974., 1937., 1975., 1968., 1967., 1951., 1961., 1946., 1953.,\n",
       "       1954., 1959., 1932., 1947., 1956., 1945., 1952., 1930., 1966.,\n",
       "       1939., 1950., 1948., 1958., 1957., 1943., 1944., 1938., 1949.,\n",
       "       1936., 1941., 1955., 1942., 1929., 1935., 1933., 1916., 1934.,\n",
       "       1925., 1920.])"
      ]
     },
     "execution_count": 100,
     "metadata": {},
     "output_type": "execute_result"
    }
   ],
   "source": [
    "df['title_year'].unique()"
   ]
  },
  {
   "cell_type": "markdown",
   "id": "fefe7332-f02c-45a1-9d90-26d9a0e90944",
   "metadata": {},
   "source": [
    "Удалим из датафрейма фильмы, дата выхода которых неизвестна, т.к. сравнение сборов фильмов 1920 и, например, 2015 года будет крайне некорректным, ввиду отсутствия поправки на инфляцию доллара США."
   ]
  },
  {
   "cell_type": "code",
   "execution_count": 10,
   "id": "2ff33d21-6480-4493-8179-50af94cda7f4",
   "metadata": {},
   "outputs": [],
   "source": [
    "df = df[df['title_year'].notna()]"
   ]
  },
  {
   "cell_type": "code",
   "execution_count": 103,
   "id": "b1312885-8dc1-4c86-9fdb-0d97cfeeccf6",
   "metadata": {},
   "outputs": [
    {
     "data": {
      "text/plain": [
       "color                          0\n",
       "director_name                  0\n",
       "num_critic_for_reviews        40\n",
       "duration                      12\n",
       "director_facebook_likes        0\n",
       "actor_3_facebook_likes        17\n",
       "actor_2_name                   9\n",
       "actor_1_facebook_likes         6\n",
       "gross                        768\n",
       "genres                         0\n",
       "actor_1_name                   6\n",
       "movie_title                    0\n",
       "num_voted_users                0\n",
       "cast_total_facebook_likes      0\n",
       "actor_3_name                  17\n",
       "facenumber_in_poster          13\n",
       "plot_keywords                135\n",
       "movie_imdb_link                0\n",
       "num_user_for_reviews          14\n",
       "language                      11\n",
       "country                        1\n",
       "content_rating               256\n",
       "budget                       382\n",
       "title_year                     0\n",
       "actor_2_facebook_likes         9\n",
       "imdb_score                     0\n",
       "aspect_ratio                 299\n",
       "movie_facebook_likes           0\n",
       "dtype: int64"
      ]
     },
     "execution_count": 103,
     "metadata": {},
     "output_type": "execute_result"
    }
   ],
   "source": [
    "df.isna().sum()"
   ]
  },
  {
   "cell_type": "markdown",
   "id": "fce84ad7-7a65-4606-a03b-b4e3789d0e1f",
   "metadata": {},
   "source": [
    "Удалим фильм, страну производства которого мы не знаем."
   ]
  },
  {
   "cell_type": "code",
   "execution_count": 11,
   "id": "85011982-71f5-4ba1-95d0-1f39745b6627",
   "metadata": {},
   "outputs": [],
   "source": [
    "df = df[df['country'].notna()]"
   ]
  },
  {
   "cell_type": "code",
   "execution_count": 107,
   "id": "28dc68e1-921c-498f-9618-b331f0144b8a",
   "metadata": {},
   "outputs": [
    {
     "data": {
      "text/plain": [
       "array(['USA', 'UK', 'New Zealand', 'Canada', 'Australia', 'Belgium',\n",
       "       'Japan', 'Germany', 'China', 'France', 'New Line', 'Mexico',\n",
       "       'Spain', 'Hong Kong', 'Czech Republic', 'India', 'Soviet Union',\n",
       "       'South Korea', 'Peru', 'Italy', 'Russia', 'Aruba', 'Denmark',\n",
       "       'Libya', 'Ireland', 'South Africa', 'Switzerland', 'Romania',\n",
       "       'West Germany', 'Chile', 'Netherlands', 'Hungary', 'Panama',\n",
       "       'Greece', 'Sweden', 'Official site', 'Cambodia', 'Taiwan',\n",
       "       'Thailand', 'Slovakia', 'Bulgaria', 'Iran', 'Georgia', 'Iceland',\n",
       "       'Norway', 'Turkey', 'Nigeria', 'Brazil', 'Finland', 'Bahamas',\n",
       "       'Argentina', 'Colombia', 'Poland', 'Israel', 'Egypt', 'Kyrgyzstan',\n",
       "       'Indonesia', 'Pakistan', 'Slovenia', 'Afghanistan',\n",
       "       'Dominican Republic', 'Cameroon', 'United Arab Emirates', 'Kenya',\n",
       "       'Philippines'], dtype=object)"
      ]
     },
     "execution_count": 107,
     "metadata": {},
     "output_type": "execute_result"
    }
   ],
   "source": [
    "df['country'].unique()"
   ]
  },
  {
   "cell_type": "markdown",
   "id": "285f64d9-aa95-4026-a47e-eeae5b83678a",
   "metadata": {},
   "source": [
    "Избавимся от NaN значений там, где это ни на что не повлияет:"
   ]
  },
  {
   "cell_type": "code",
   "execution_count": 13,
   "id": "5f03f2b1-3728-4a34-a82f-3a795af475d4",
   "metadata": {},
   "outputs": [],
   "source": [
    "df = df.fillna({\n",
    "    'aspect_ratio' : df['aspect_ratio'].median(),\n",
    "    'content_rating' : 'unknown',\n",
    "    'language' : 'unknown',\n",
    "    'num_critic_for_reviews' : df['num_critic_for_reviews'].mean(),\n",
    "    'num_user_for_reviews' : df['num_user_for_reviews'].mean(),\n",
    "    'plot_keywords' : 'unknown',\n",
    "    'facenumber_in_poster' : df['facenumber_in_poster'].median(),\n",
    "    'actor_3_name' : 'unknown',\n",
    "    'actor_1_facebook_likes' : df['actor_1_facebook_likes'].mean(),\n",
    "    'actor_2_name' : 'unknown',\n",
    "    'actor_1_name' : 'unknown',\n",
    "    'actor_2_facebook_likes' : df['actor_2_facebook_likes'].mean(),\n",
    "    'actor_3_facebook_likes' : df['actor_3_facebook_likes'].mean(),\n",
    "    'duration' : df['duration'].mean()\n",
    "})"
   ]
  },
  {
   "cell_type": "code",
   "execution_count": 116,
   "id": "3bee2845-e895-4fb6-939e-076af90ab227",
   "metadata": {},
   "outputs": [
    {
     "data": {
      "text/plain": [
       "color                          0\n",
       "director_name                  0\n",
       "num_critic_for_reviews         0\n",
       "duration                       0\n",
       "director_facebook_likes        0\n",
       "actor_3_facebook_likes         0\n",
       "actor_2_name                   0\n",
       "actor_1_facebook_likes         0\n",
       "gross                        767\n",
       "genres                         0\n",
       "actor_1_name                   0\n",
       "movie_title                    0\n",
       "num_voted_users                0\n",
       "cast_total_facebook_likes      0\n",
       "actor_3_name                   0\n",
       "facenumber_in_poster           0\n",
       "plot_keywords                  0\n",
       "movie_imdb_link                0\n",
       "num_user_for_reviews           0\n",
       "language                       0\n",
       "country                        0\n",
       "content_rating                 0\n",
       "budget                       382\n",
       "title_year                     0\n",
       "actor_2_facebook_likes         0\n",
       "imdb_score                     0\n",
       "aspect_ratio                   0\n",
       "movie_facebook_likes           0\n",
       "dtype: int64"
      ]
     },
     "execution_count": 116,
     "metadata": {},
     "output_type": "execute_result"
    }
   ],
   "source": [
    "df.isna().sum()"
   ]
  },
  {
   "cell_type": "markdown",
   "id": "5a7497b8-c130-411e-9ec3-16dd9ef4e44f",
   "metadata": {},
   "source": [
    "Теперь избавимся от пропусков в столбцах gross & budget."
   ]
  },
  {
   "cell_type": "code",
   "execution_count": 14,
   "id": "727fc896-f5db-4453-88ea-a48043b7531d",
   "metadata": {},
   "outputs": [],
   "source": [
    "from bs4 import BeautifulSoup"
   ]
  },
  {
   "cell_type": "code",
   "execution_count": 15,
   "id": "d3f8ec04-9fa5-4f0a-a45f-02c82efe642f",
   "metadata": {},
   "outputs": [],
   "source": [
    "import requests"
   ]
  },
  {
   "cell_type": "code",
   "execution_count": 16,
   "id": "532773fc-13ca-450c-b9b9-27f8d26ad211",
   "metadata": {},
   "outputs": [
    {
     "data": {
      "text/html": [
       "<div>\n",
       "<style scoped>\n",
       "    .dataframe tbody tr th:only-of-type {\n",
       "        vertical-align: middle;\n",
       "    }\n",
       "\n",
       "    .dataframe tbody tr th {\n",
       "        vertical-align: top;\n",
       "    }\n",
       "\n",
       "    .dataframe thead th {\n",
       "        text-align: right;\n",
       "    }\n",
       "</style>\n",
       "<table border=\"1\" class=\"dataframe\">\n",
       "  <thead>\n",
       "    <tr style=\"text-align: right;\">\n",
       "      <th></th>\n",
       "      <th>year</th>\n",
       "      <th>avg_annual_cpi</th>\n",
       "    </tr>\n",
       "  </thead>\n",
       "  <tbody>\n",
       "    <tr>\n",
       "      <th>0</th>\n",
       "      <td>1913.0</td>\n",
       "      <td>9.9</td>\n",
       "    </tr>\n",
       "    <tr>\n",
       "      <th>1</th>\n",
       "      <td>1914.0</td>\n",
       "      <td>10.0</td>\n",
       "    </tr>\n",
       "    <tr>\n",
       "      <th>2</th>\n",
       "      <td>1915.0</td>\n",
       "      <td>10.1</td>\n",
       "    </tr>\n",
       "    <tr>\n",
       "      <th>3</th>\n",
       "      <td>1916.0</td>\n",
       "      <td>10.9</td>\n",
       "    </tr>\n",
       "    <tr>\n",
       "      <th>4</th>\n",
       "      <td>1917.0</td>\n",
       "      <td>12.8</td>\n",
       "    </tr>\n",
       "    <tr>\n",
       "      <th>5</th>\n",
       "      <td>1918.0</td>\n",
       "      <td>15.1</td>\n",
       "    </tr>\n",
       "    <tr>\n",
       "      <th>6</th>\n",
       "      <td>1919.0</td>\n",
       "      <td>17.3</td>\n",
       "    </tr>\n",
       "    <tr>\n",
       "      <th>7</th>\n",
       "      <td>1920.0</td>\n",
       "      <td>20.0</td>\n",
       "    </tr>\n",
       "    <tr>\n",
       "      <th>8</th>\n",
       "      <td>1921.0</td>\n",
       "      <td>17.9</td>\n",
       "    </tr>\n",
       "    <tr>\n",
       "      <th>9</th>\n",
       "      <td>1922.0</td>\n",
       "      <td>16.8</td>\n",
       "    </tr>\n",
       "  </tbody>\n",
       "</table>\n",
       "</div>"
      ],
      "text/plain": [
       "     year  avg_annual_cpi\n",
       "0  1913.0             9.9\n",
       "1  1914.0            10.0\n",
       "2  1915.0            10.1\n",
       "3  1916.0            10.9\n",
       "4  1917.0            12.8\n",
       "5  1918.0            15.1\n",
       "6  1919.0            17.3\n",
       "7  1920.0            20.0\n",
       "8  1921.0            17.9\n",
       "9  1922.0            16.8"
      ]
     },
     "execution_count": 16,
     "metadata": {},
     "output_type": "execute_result"
    }
   ],
   "source": [
    "url = \"https://www.usinflationcalculator.com/inflation/consumer-price-index-and-annual-percent-changes-from-1913-to-2008/\"\n",
    "\n",
    "r = requests.get(url)\n",
    "data = r.text\n",
    "soup = BeautifulSoup(data, \"html.parser\")\n",
    "\n",
    "table = soup.find(\"table\")\n",
    "rows = table.tbody.findAll('tr');\n",
    "\n",
    "years = []\n",
    "cpis = []\n",
    "\n",
    "for row in rows:\n",
    "    year = row.findAll('td')[0].get_text()\n",
    "    if year.isdigit() and float(year) < 2017.0:\n",
    "        years.append(float(year))\n",
    "        cpis.append(float(row.findAll('td')[13].get_text()))\n",
    "\n",
    "cpi_table = pd.DataFrame({\n",
    "    \"year\" : years,\n",
    "    \"avg_annual_cpi\" : cpis\n",
    "})\n",
    "\n",
    "cpi_table.head(10)"
   ]
  },
  {
   "cell_type": "code",
   "execution_count": 17,
   "id": "6cf5d6cb-1e8b-438c-b332-f4f21f519686",
   "metadata": {},
   "outputs": [
    {
     "name": "stderr",
     "output_type": "stream",
     "text": [
      "/var/folders/5m/pqtq1wd11j1d6pfnkny1707h0000gn/T/ipykernel_2107/218494731.py:10: FutureWarning: Calling float on a single element Series is deprecated and will raise a TypeError in the future. Use float(ser.iloc[0]) instead\n",
      "  CPI_2016 = float(cpi_table[cpi_table['year'] == 2016]['avg_annual_cpi'])\n"
     ]
    }
   ],
   "source": [
    "import math\n",
    "\n",
    "def get_real_value(nominal_amt, old_cpi, new_cpi):\n",
    "    if math.isnan(nominal_amt):\n",
    "        return nominal_amt\n",
    "    else:\n",
    "        real_value = (nominal_amt * new_cpi) / old_cpi\n",
    "        return real_value\n",
    "\n",
    "CPI_2016 = float(cpi_table[cpi_table['year'] == 2016]['avg_annual_cpi'])"
   ]
  },
  {
   "cell_type": "markdown",
   "id": "61c44e9d-7d15-4748-91fb-ca81f995da00",
   "metadata": {},
   "source": [
    "Преобразуем все доллары из датафрейма в доллары 2016 года."
   ]
  },
  {
   "cell_type": "code",
   "execution_count": 135,
   "id": "2857e2ed-23b6-464d-bd7c-b1477cac0706",
   "metadata": {},
   "outputs": [
    {
     "name": "stderr",
     "output_type": "stream",
     "text": [
      "/var/folders/5m/pqtq1wd11j1d6pfnkny1707h0000gn/T/ipykernel_2107/3306134542.py:8: FutureWarning: Calling float on a single element Series is deprecated and will raise a TypeError in the future. Use float(ser.iloc[0]) instead\n",
      "  cpi = float(cpi_table[cpi_table['year'] == float(year)]['avg_annual_cpi'])\n"
     ]
    }
   ],
   "source": [
    "real_gross = []\n",
    "real_budget = []\n",
    "\n",
    "for index, row in df.iterrows():\n",
    "    gross = row['gross']\n",
    "    budget = row['budget']\n",
    "    year = row['title_year']\n",
    "    cpi = float(cpi_table[cpi_table['year'] == float(year)]['avg_annual_cpi'])\n",
    "\n",
    "    new_gross = get_real_value(gross, cpi, CPI_2016)\n",
    "    new_budget = get_real_value(budget, cpi, CPI_2016)\n",
    "    real_gross.append(new_gross)\n",
    "    real_budget.append(new_budget)\n",
    "\n",
    "df[\"real_gross\"] = real_gross\n",
    "df[\"real_budget\"] = real_budget"
   ]
  },
  {
   "cell_type": "markdown",
   "id": "5c03059c-c583-40fe-a635-289139a49b45",
   "metadata": {},
   "source": [
    "Наконец-то дозаполним последние пропуски."
   ]
  },
  {
   "cell_type": "code",
   "execution_count": 29,
   "id": "ddc40240-d5f5-491e-bce6-2d7a15543699",
   "metadata": {},
   "outputs": [],
   "source": [
    "df = df.fillna({\n",
    "    'gross' : df['gross'].mean(),\n",
    "    'budget' : df['budget'].mean(),\n",
    "    'real_gross' : df['real_gross'].median(),\n",
    "    'real_budget' : df['real_budget'].median()\n",
    "})"
   ]
  },
  {
   "cell_type": "code",
   "execution_count": 20,
   "id": "3ec88245-b99e-46fe-9385-939ed1f3e59b",
   "metadata": {},
   "outputs": [
    {
     "data": {
      "text/plain": [
       "color                        0\n",
       "director_name                0\n",
       "num_critic_for_reviews       0\n",
       "duration                     0\n",
       "director_facebook_likes      0\n",
       "actor_3_facebook_likes       0\n",
       "actor_2_name                 0\n",
       "actor_1_facebook_likes       0\n",
       "gross                        0\n",
       "genres                       0\n",
       "actor_1_name                 0\n",
       "movie_title                  0\n",
       "num_voted_users              0\n",
       "cast_total_facebook_likes    0\n",
       "actor_3_name                 0\n",
       "facenumber_in_poster         0\n",
       "plot_keywords                0\n",
       "movie_imdb_link              0\n",
       "num_user_for_reviews         0\n",
       "language                     0\n",
       "country                      0\n",
       "content_rating               0\n",
       "budget                       0\n",
       "title_year                   0\n",
       "actor_2_facebook_likes       0\n",
       "imdb_score                   0\n",
       "aspect_ratio                 0\n",
       "movie_facebook_likes         0\n",
       "real_gross                   0\n",
       "real_budget                  0\n",
       "dtype: int64"
      ]
     },
     "execution_count": 20,
     "metadata": {},
     "output_type": "execute_result"
    }
   ],
   "source": [
    "df.isna().sum()"
   ]
  },
  {
   "cell_type": "markdown",
   "id": "82b82317-2c62-485a-8cd5-63c8365e5a5f",
   "metadata": {},
   "source": [
    "На этом предобработка датафрейма закончена, пора переходить к рассмотрению гипотез."
   ]
  },
  {
   "cell_type": "markdown",
   "id": "725a1941-bd34-41ce-b22f-47f11b1f7cc1",
   "metadata": {},
   "source": [
    "# Этап 3. Проверка гипотез."
   ]
  },
  {
   "cell_type": "markdown",
   "id": "211ae452-38d2-49f9-990b-ac00209c20c8",
   "metadata": {},
   "source": [
    "## Гипотеза 1: Cамыми прибыльными фильмами (в среднем) являются фильмы, произведённые в США."
   ]
  },
  {
   "cell_type": "markdown",
   "id": "401fbe34-c8c1-4239-8543-ee079395fd29",
   "metadata": {},
   "source": [
    "Оценим сборы фильмов из каждой страны:"
   ]
  },
  {
   "cell_type": "code",
   "execution_count": 26,
   "id": "fac044eb-a616-47d1-949e-26928fb35e04",
   "metadata": {},
   "outputs": [],
   "source": [
    "df_count = df.groupby('country') ['real_gross'].count()"
   ]
  },
  {
   "cell_type": "code",
   "execution_count": 27,
   "id": "480b4188-d7bc-413b-a643-28f04aa0f611",
   "metadata": {},
   "outputs": [
    {
     "name": "stdout",
     "output_type": "stream",
     "text": [
      "country\n",
      "Afghanistan                1\n",
      "Argentina                  4\n",
      "Aruba                      1\n",
      "Australia                 51\n",
      "Bahamas                    1\n",
      "                        ... \n",
      "Turkey                     1\n",
      "UK                       428\n",
      "USA                     3690\n",
      "United Arab Emirates       1\n",
      "West Germany               3\n",
      "Name: real_gross, Length: 65, dtype: int64\n"
     ]
    }
   ],
   "source": [
    "print(df_count)"
   ]
  },
  {
   "cell_type": "code",
   "execution_count": 39,
   "id": "2d0b7071-9449-456a-92a3-a4d1f34b7c2d",
   "metadata": {},
   "outputs": [],
   "source": [
    "df_grosssum = df.groupby('country')['real_gross'].sum()"
   ]
  },
  {
   "cell_type": "code",
   "execution_count": 31,
   "id": "407993ed-a478-49d3-b2a1-adf7b0c1e6d8",
   "metadata": {},
   "outputs": [
    {
     "name": "stdout",
     "output_type": "stream",
     "text": [
      "country\n",
      "Afghanistan             1.470475e+06\n",
      "Argentina               5.801399e+07\n",
      "Aruba                   1.483646e+07\n",
      "Australia               2.609812e+09\n",
      "Bahamas                 3.336372e+07\n",
      "                            ...     \n",
      "Turkey                  3.336372e+07\n",
      "UK                      2.077225e+10\n",
      "USA                     2.706451e+11\n",
      "United Arab Emirates    3.336372e+07\n",
      "West Germany            9.691481e+07\n",
      "Name: real_gross, Length: 65, dtype: float64\n"
     ]
    }
   ],
   "source": [
    "print(df_grosssum)"
   ]
  },
  {
   "cell_type": "code",
   "execution_count": 136,
   "id": "2af7ab69-3499-4409-8ed5-274a2e58c5a0",
   "metadata": {},
   "outputs": [],
   "source": [
    "countries = df['country'].unique()"
   ]
  },
  {
   "cell_type": "code",
   "execution_count": 56,
   "id": "5cd0701d-9b36-47f7-82dc-9900f622ad70",
   "metadata": {},
   "outputs": [
    {
     "name": "stderr",
     "output_type": "stream",
     "text": [
      "/var/folders/5m/pqtq1wd11j1d6pfnkny1707h0000gn/T/ipykernel_2107/882353652.py:6: FutureWarning: Series.__getitem__ treating keys as positions is deprecated. In a future version, integer keys will always be treated as labels (consistent with DataFrame behavior). To access a value by position, use `ser.iloc[pos]`\n",
      "  mean = ind_gross.values[0] / ind_count_gross[0]\n"
     ]
    }
   ],
   "source": [
    "max = 0.0\n",
    "name = ''\n",
    "for country in countries:\n",
    "    ind_gross = df_grosssum[df_grosssum.index == country]\n",
    "    ind_count_gross = df_count[df_count.index == country]\n",
    "    mean = ind_gross.values[0] / ind_count_gross[0]\n",
    "    if mean > max:\n",
    "        max = mean\n",
    "        name = country"
   ]
  },
  {
   "cell_type": "code",
   "execution_count": 57,
   "id": "f6205486-84d0-4fd6-9bd6-78f424e1c9c2",
   "metadata": {},
   "outputs": [
    {
     "name": "stdout",
     "output_type": "stream",
     "text": [
      "New Zealand 113341565.38815744\n"
     ]
    }
   ],
   "source": [
    "print(name, max)"
   ]
  },
  {
   "cell_type": "markdown",
   "id": "a6a30e52-dc6f-401a-88e7-6d2112260f5e",
   "metadata": {},
   "source": [
    "Неожиданно, страной, производящей самые прибыльные (в среднем) фильмы, оказалась Новая Зеландия."
   ]
  },
  {
   "cell_type": "markdown",
   "id": "c8126bbf-fd22-4c7f-9f35-7506d0ce6356",
   "metadata": {},
   "source": [
    "## Гипотеза 2: \"Старые\" фильмы лучше чем \"новые\". (фильмы 20 века имеют больший балл на imdb, чем фильмы 21 века)"
   ]
  },
  {
   "cell_type": "markdown",
   "id": "be586850-a01d-4331-b8a7-ced2c2671fdc",
   "metadata": {},
   "source": [
    "Для начала сформируем два списка: годы 20 века и годы 21 века."
   ]
  },
  {
   "cell_type": "markdown",
   "id": "6a1ecce3-2e4e-4abb-910f-dade213335b4",
   "metadata": {},
   "source": [
    "Найдём среднюю оценку фильмов 20 века."
   ]
  },
  {
   "cell_type": "code",
   "execution_count": 77,
   "id": "e8e5630b-42b8-4cb2-9d29-6cf0727ee4b0",
   "metadata": {},
   "outputs": [],
   "source": [
    "xx_ind = df[df['title_year'] > 2000.0].index\n",
    "df_xx = df.drop(xx_ind)\n",
    "\n",
    "xxi_ind = df[df['title_year'] <= 2000.0].index\n",
    "df_xxi = df.drop(xxi_ind)"
   ]
  },
  {
   "cell_type": "code",
   "execution_count": 81,
   "id": "b6b5a499-ce1b-45de-9fbc-2f98a445c335",
   "metadata": {},
   "outputs": [
    {
     "name": "stdout",
     "output_type": "stream",
     "text": [
      "Средняя оценка фильмов 20 века: 6.645393409549428\n",
      "Средняя оценка фильмов 21 века: 6.314226560189294\n"
     ]
    }
   ],
   "source": [
    "print('Средняя оценка фильмов 20 века:', df_xx['imdb_score'].mean())\n",
    "print('Средняя оценка фильмов 21 века:', df_xxi['imdb_score'].mean())"
   ]
  },
  {
   "cell_type": "markdown",
   "id": "7adf17ba-080a-405b-bd06-1f6180ab6ee4",
   "metadata": {},
   "source": [
    "И правда - хоть и не намного, но средняя оценка фильмов 20 века выше чем средняя оценка фильмов 21 века."
   ]
  },
  {
   "cell_type": "markdown",
   "id": "d34db5cb-b9ed-4632-95c3-d556b0c63a62",
   "metadata": {},
   "source": [
    "## Гипотеза 3: В 2015 году фильмы жанра Sci-Fi собрали в прокате больше, чем фильмы жанра Documentary."
   ]
  },
  {
   "cell_type": "markdown",
   "id": "fb3bd1d7-ebe1-439f-965d-dc58fd2b5c0a",
   "metadata": {},
   "source": [
    "Сформируем 2 субдатафрема путём исключения всех ненужных строк."
   ]
  },
  {
   "cell_type": "code",
   "execution_count": 121,
   "id": "4f6c3afc-06bd-4ba1-ab92-946e2f58029d",
   "metadata": {},
   "outputs": [],
   "source": [
    "df_scifi = df.loc[~(('Sci-Fi' not in df['genres'].values) & (df['title_year'] != 2015))]\n",
    "\n",
    "df_doc = df.loc[~(('Documantary' not in df['genres'].values) & (df['title_year'] != 2015))]"
   ]
  },
  {
   "cell_type": "code",
   "execution_count": 127,
   "id": "5e71870a-d58f-4cc2-8382-fe4c30c134e7",
   "metadata": {},
   "outputs": [
    {
     "name": "stdout",
     "output_type": "stream",
     "text": [
      "Фильмы жанра Sci-Fi в 2015 году собрали в прокате 312237951196.0469 долларов\n",
      "Фильмы жанра Documentary в 2015 году собрали в прокате 12324741869.619741 долларов\n"
     ]
    }
   ],
   "source": [
    "print(\"Фильмы жанра Sci-Fi в 2015 году собрали в прокате\", df_scifi['real_gross'].sum(), 'долларов')\n",
    "print(\"Фильмы жанра Documentary в 2015 году собрали в прокате\", df_doc['real_gross'].sum(), 'долларов')"
   ]
  },
  {
   "cell_type": "markdown",
   "id": "c299f850-7733-491e-b1d5-50bd66982f75",
   "metadata": {},
   "source": [
    "И правда, Sci-Fi фильмы собрали больше денег в прокате в 2015 году."
   ]
  },
  {
   "cell_type": "markdown",
   "id": "069c6bb8-3df4-46db-8995-146e87291afa",
   "metadata": {},
   "source": [
    "# Заключение."
   ]
  },
  {
   "cell_type": "markdown",
   "id": "6cf4040f-c43b-4144-9205-3da60f4814f0",
   "metadata": {},
   "source": [
    "Были проверены следующие три гипотезы:\n",
    "\n",
    "1) Cамыми прибыльными фильмами (в среднем) являются фильмы, произведённые в США.\n",
    "2) \"Старые\" фильмы лучше чем \"новые\". (фильмы 20 века имеют больший балл на imdb, чем фильмы 21 века)\n",
    "3) В 2015 году фильмы жанра Sci-Fi собрали в прокате больше, чем фильмы жанра Romance."
   ]
  },
  {
   "cell_type": "markdown",
   "id": "90a8e268-aa18-4cb1-9b4c-ac13fcfe6231",
   "metadata": {},
   "source": [
    "После проверки выяснилось:\n",
    "\n",
    "1) Неожиданно, страной, производящей самые прибыльные (в среднем) фильмы, оказалась Новая Зеландия.\n",
    "\n",
    "Первая гипотеза была опровергнута.\n",
    "\n",
    "2) И правда - хоть и не намного, но средняя оценка фильмов 20 века выше чем средняя оценка фильмов 21 века.\n",
    "\n",
    "Вторая гипотеза полностью подтвердилась.\n",
    "\n",
    "3) И правда, Sci-Fi фильмы собрали больше денег в прокате в 2015 году.\n",
    "\n",
    "Третья гипотеза полностью подтвердилась."
   ]
  },
  {
   "cell_type": "code",
   "execution_count": 132,
   "id": "2641cb18-d13f-4cc1-b3a5-a8b34ee27ce1",
   "metadata": {},
   "outputs": [],
   "source": [
    "df.to_csv('/Users/sergejkotov/Desktop/ml/data/Lab1_Kotov_FIT-222.csv', index = False)"
   ]
  },
  {
   "cell_type": "code",
   "execution_count": 133,
   "id": "66f1282d-eb53-404a-8a9b-4f320dd0e990",
   "metadata": {},
   "outputs": [],
   "source": [
    "cpi_table.to_csv('/Users/sergejkotov/Desktop/ml/data/Lab1_Kotov_CPI.csv', index = False)"
   ]
  }
 ],
 "metadata": {
  "kernelspec": {
   "display_name": "Python 3 (ipykernel)",
   "language": "python",
   "name": "python3"
  },
  "language_info": {
   "codemirror_mode": {
    "name": "ipython",
    "version": 3
   },
   "file_extension": ".py",
   "mimetype": "text/x-python",
   "name": "python",
   "nbconvert_exporter": "python",
   "pygments_lexer": "ipython3",
   "version": "3.9.6"
  }
 },
 "nbformat": 4,
 "nbformat_minor": 5
}
