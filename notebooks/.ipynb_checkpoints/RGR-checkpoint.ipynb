{
 "cells": [
  {
   "cell_type": "code",
   "execution_count": 16,
   "id": "801d211a-331c-4476-bb9e-a37708704e94",
   "metadata": {},
   "outputs": [],
   "source": [
    "import pandas as pd\n",
    "import matplotlib.pyplot as plt\n",
    "import numpy as np\n",
    "import seaborn as sns\n",
    "import warnings"
   ]
  },
  {
   "cell_type": "code",
   "execution_count": 2,
   "id": "b7be2e4b-0ff1-464f-8af5-d6fe09cc2594",
   "metadata": {},
   "outputs": [],
   "source": [
    "data = pd.read_csv('../data/diabetes_012_health_indicators_BRFSS2015.csv')"
   ]
  },
  {
   "cell_type": "markdown",
   "id": "e26209d6-6382-43c6-926e-b89afd76646a",
   "metadata": {},
   "source": [
    "## 1. Предобработка данных."
   ]
  },
  {
   "cell_type": "code",
   "execution_count": 3,
   "id": "5d26a608-eba0-4e6b-9aa0-92908aff84bc",
   "metadata": {},
   "outputs": [],
   "source": [
    "data[\"Diabetes_012\"] = data[\"Diabetes_012\"].astype(int)\n",
    "data[\"HighBP\"] = data[\"HighBP\"].astype(int)\n",
    "data[\"HighChol\"] = data[\"HighChol\"].astype(int)\n",
    "data[\"CholCheck\"] = data[\"CholCheck\"].astype(int)\n",
    "data[\"BMI\"] = data[\"BMI\"].astype(int)\n",
    "data[\"Smoker\"] = data[\"Smoker\"].astype(int)\n",
    "data[\"Stroke\"] = data[\"Stroke\"].astype(int)\n",
    "data[\"HeartDiseaseorAttack\"] = data[\"HeartDiseaseorAttack\"].astype(int)\n",
    "data[\"PhysActivity\"] = data[\"PhysActivity\"].astype(int)\n",
    "data[\"Fruits\"] = data[\"Fruits\"].astype(int) \n",
    "data[\"Veggies\"] = data[\"Veggies\"].astype(int)\n",
    "data[\"HvyAlcoholConsump\"] = data[\"HvyAlcoholConsump\"].astype(int)\n",
    "data[\"AnyHealthcare\"] = data[\"AnyHealthcare\"].astype(int)\n",
    "data[\"NoDocbcCost\"] = data[\"NoDocbcCost\"].astype(int)\n",
    "data[\"GenHlth\"] = data[\"GenHlth\"].astype(int)\n",
    "data[\"PhysHlth\"] = data[\"PhysHlth\"].astype(int)\n",
    "data[\"DiffWalk\"] = data[\"DiffWalk\"].astype(int)\n",
    "data[\"Sex\"] = data[\"Sex\"].astype(int)\n",
    "data[\"Age\"] = data[\"Age\"].astype(int)\n",
    "data[\"Education\"] = data[\"Education\"].astype(int)\n",
    "data[\"Income\"] =data[\"Income\"].astype(int)"
   ]
  },
  {
   "cell_type": "code",
   "execution_count": 4,
   "id": "6002f598-96e8-43b5-9ce7-415d85033823",
   "metadata": {},
   "outputs": [
    {
     "data": {
      "text/plain": [
       "Diabetes_012            0\n",
       "HighBP                  0\n",
       "HighChol                0\n",
       "CholCheck               0\n",
       "BMI                     0\n",
       "Smoker                  0\n",
       "Stroke                  0\n",
       "HeartDiseaseorAttack    0\n",
       "PhysActivity            0\n",
       "Fruits                  0\n",
       "Veggies                 0\n",
       "HvyAlcoholConsump       0\n",
       "AnyHealthcare           0\n",
       "NoDocbcCost             0\n",
       "GenHlth                 0\n",
       "MentHlth                0\n",
       "PhysHlth                0\n",
       "DiffWalk                0\n",
       "Sex                     0\n",
       "Age                     0\n",
       "Education               0\n",
       "Income                  0\n",
       "dtype: int64"
      ]
     },
     "execution_count": 4,
     "metadata": {},
     "output_type": "execute_result"
    }
   ],
   "source": [
    "data.isna().sum()"
   ]
  },
  {
   "cell_type": "code",
   "execution_count": 5,
   "id": "9e56ad0d-ba44-4af7-a674-5d6a80ee0234",
   "metadata": {},
   "outputs": [
    {
     "name": "stdout",
     "output_type": "stream",
     "text": [
      "<class 'pandas.core.frame.DataFrame'>\n",
      "Index: 23899 entries, 1242 to 253638\n",
      "Data columns (total 22 columns):\n",
      " #   Column                Non-Null Count  Dtype  \n",
      "---  ------                --------------  -----  \n",
      " 0   Diabetes_012          23899 non-null  int64  \n",
      " 1   HighBP                23899 non-null  int64  \n",
      " 2   HighChol              23899 non-null  int64  \n",
      " 3   CholCheck             23899 non-null  int64  \n",
      " 4   BMI                   23899 non-null  int64  \n",
      " 5   Smoker                23899 non-null  int64  \n",
      " 6   Stroke                23899 non-null  int64  \n",
      " 7   HeartDiseaseorAttack  23899 non-null  int64  \n",
      " 8   PhysActivity          23899 non-null  int64  \n",
      " 9   Fruits                23899 non-null  int64  \n",
      " 10  Veggies               23899 non-null  int64  \n",
      " 11  HvyAlcoholConsump     23899 non-null  int64  \n",
      " 12  AnyHealthcare         23899 non-null  int64  \n",
      " 13  NoDocbcCost           23899 non-null  int64  \n",
      " 14  GenHlth               23899 non-null  int64  \n",
      " 15  MentHlth              23899 non-null  float64\n",
      " 16  PhysHlth              23899 non-null  int64  \n",
      " 17  DiffWalk              23899 non-null  int64  \n",
      " 18  Sex                   23899 non-null  int64  \n",
      " 19  Age                   23899 non-null  int64  \n",
      " 20  Education             23899 non-null  int64  \n",
      " 21  Income                23899 non-null  int64  \n",
      "dtypes: float64(1), int64(21)\n",
      "memory usage: 4.2 MB\n"
     ]
    }
   ],
   "source": [
    "duplicates = data[data.duplicated()]\n",
    "duplicates.info()"
   ]
  },
  {
   "cell_type": "code",
   "execution_count": 6,
   "id": "d8d6acff-954b-4d98-8533-fdc1c53150f3",
   "metadata": {},
   "outputs": [],
   "source": [
    "data.drop_duplicates(inplace = True)"
   ]
  },
  {
   "cell_type": "markdown",
   "id": "056b1404-1204-4236-83a2-8b16aa20a751",
   "metadata": {},
   "source": [
    "## 2. Разбиение на обучающую и тестовую выборки."
   ]
  },
  {
   "cell_type": "code",
   "execution_count": 7,
   "id": "119cd2ba-8f1a-4dca-b20c-4ac2f525921b",
   "metadata": {},
   "outputs": [],
   "source": [
    "y = data[\"Diabetes_012\"]\n",
    "X = data.drop([\"Diabetes_012\"], axis=1)"
   ]
  },
  {
   "cell_type": "code",
   "execution_count": 9,
   "id": "8a0d28ad-4490-4916-9612-42e4c8a39423",
   "metadata": {},
   "outputs": [],
   "source": [
    "from sklearn.preprocessing import StandardScaler\n",
    "from sklearn import preprocessing"
   ]
  },
  {
   "cell_type": "code",
   "execution_count": 11,
   "id": "1ef8f91e-83d2-4a7a-b4c0-7ee6ab8eb54f",
   "metadata": {},
   "outputs": [],
   "source": [
    "scaler = StandardScaler()\n",
    "X = scaler.fit_transform(X)"
   ]
  },
  {
   "cell_type": "code",
   "execution_count": 12,
   "id": "a60cc887-dfc4-4eac-b24d-e942f2412a4e",
   "metadata": {},
   "outputs": [
    {
     "data": {
      "text/plain": [
       "(190055, 21)"
      ]
     },
     "execution_count": 12,
     "metadata": {},
     "output_type": "execute_result"
    }
   ],
   "source": [
    "X[y==0].shape"
   ]
  },
  {
   "cell_type": "code",
   "execution_count": 13,
   "id": "2c3800e0-f83c-4aa9-8401-745784b0a291",
   "metadata": {},
   "outputs": [
    {
     "data": {
      "text/plain": [
       "(4629, 21)"
      ]
     },
     "execution_count": 13,
     "metadata": {},
     "output_type": "execute_result"
    }
   ],
   "source": [
    "X[y==1].shape"
   ]
  },
  {
   "cell_type": "code",
   "execution_count": 14,
   "id": "158561f9-86c0-4aa1-9664-8da54ee675a6",
   "metadata": {},
   "outputs": [],
   "source": [
    "from imblearn.under_sampling import RandomUnderSampler\n",
    "\n",
    "rus = RandomUnderSampler()\n",
    "X_res, y_res = rus.fit_resample(X, y)"
   ]
  },
  {
   "cell_type": "code",
   "execution_count": 17,
   "id": "f50c2280-e2ab-486f-90ac-4f19063e86dd",
   "metadata": {},
   "outputs": [],
   "source": [
    "from sklearn.model_selection import train_test_split"
   ]
  },
  {
   "cell_type": "code",
   "execution_count": 18,
   "id": "133610fe-cbe8-46a4-aeda-671c8a507378",
   "metadata": {},
   "outputs": [],
   "source": [
    "X_train, X_test, y_train, y_test = train_test_split(X_res,y_res,test_size=0.2,random_state=0)"
   ]
  },
  {
   "cell_type": "markdown",
   "id": "4f78b12a-43ee-481b-a1fe-92d18126a4b0",
   "metadata": {},
   "source": [
    "## 3. Обучение моделей."
   ]
  },
  {
   "cell_type": "markdown",
   "id": "77c4c158-42da-42f9-9a45-81b5dc0dbf85",
   "metadata": {},
   "source": [
    "### ML1. Naive Bayes."
   ]
  },
  {
   "cell_type": "code",
   "execution_count": 22,
   "id": "c26b51f9-4904-4d03-aaf1-62e6485bfd54",
   "metadata": {},
   "outputs": [],
   "source": [
    "from sklearn.naive_bayes import GaussianNB\n",
    "from sklearn.metrics import accuracy_score\n",
    "from sklearn.metrics import f1_score, classification_report"
   ]
  },
  {
   "cell_type": "code",
   "execution_count": 23,
   "id": "d5604098-857f-4f9b-9ae8-b58e22af5d79",
   "metadata": {},
   "outputs": [
    {
     "data": {
      "text/plain": [
       "0.476601871850252"
      ]
     },
     "execution_count": 23,
     "metadata": {},
     "output_type": "execute_result"
    }
   ],
   "source": [
    "gnb = GaussianNB()\n",
    "gnb.fit(X_train, y_train)\n",
    "predictions_gnb= gnb.predict(X_test)\n",
    "accuracy_score(y_test, predictions_gnb)"
   ]
  },
  {
   "cell_type": "code",
   "execution_count": 24,
   "id": "ae84b298-c115-4d2d-98d0-36f373baea23",
   "metadata": {},
   "outputs": [
    {
     "name": "stdout",
     "output_type": "stream",
     "text": [
      "              precision    recall  f1-score   support\n",
      "\n",
      "           0       0.49      0.66      0.57       878\n",
      "           1       0.41      0.13      0.20       956\n",
      "           2       0.48      0.65      0.55       944\n",
      "\n",
      "    accuracy                           0.48      2778\n",
      "   macro avg       0.46      0.48      0.44      2778\n",
      "weighted avg       0.46      0.48      0.43      2778\n",
      "\n",
      "Predicted labels:  [0 0 2 ... 2 2 1]\n"
     ]
    }
   ],
   "source": [
    "predictions_gnb= gnb.predict(X_test)\n",
    "print(classification_report(y_test, predictions_gnb))\n",
    "print('Predicted labels: ', predictions_gnb)"
   ]
  },
  {
   "cell_type": "markdown",
   "id": "8c5bbde3-3ed6-4646-8ee1-c1909dcabd56",
   "metadata": {},
   "source": [
    "### ML2. KMeans."
   ]
  },
  {
   "cell_type": "code",
   "execution_count": 25,
   "id": "a5b2cda1-ca2d-48f2-89db-daaaff37a8ab",
   "metadata": {},
   "outputs": [],
   "source": [
    "from sklearn.cluster import KMeans"
   ]
  },
  {
   "cell_type": "code",
   "execution_count": 72,
   "id": "d6abf90e-cf50-4f49-b504-4c3c21d0fce5",
   "metadata": {},
   "outputs": [],
   "source": [
    "kmeans = KMeans(n_clusters=3, random_state=100)"
   ]
  },
  {
   "cell_type": "code",
   "execution_count": 76,
   "id": "33a8b00f-5630-4eaf-8df9-20cb30f0844e",
   "metadata": {},
   "outputs": [
    {
     "name": "stderr",
     "output_type": "stream",
     "text": [
      "/Users/sergejkotov/Desktop/ml/venv/lib/python3.9/site-packages/sklearn/cluster/_kmeans.py:1416: FutureWarning: The default value of `n_init` will change from 10 to 'auto' in 1.4. Set the value of `n_init` explicitly to suppress the warning\n",
      "  super()._check_params_vs_input(X, default_n_init=10)\n"
     ]
    }
   ],
   "source": [
    "data_c = scaler.fit_transform(data)\n",
    "kmeans_fit = kmeans.fit(data_c)"
   ]
  },
  {
   "cell_type": "code",
   "execution_count": 85,
   "id": "45004249-2ab5-4b1e-bf37-9e2ab24c3068",
   "metadata": {},
   "outputs": [
    {
     "data": {
      "text/plain": [
       "array([[ 0.56993087,  0.4654769 ,  0.33931985,  0.096404  ,  0.40802286,\n",
       "         0.29719638,  0.51650313,  0.56337381, -0.6430796 , -0.16061844,\n",
       "        -0.24210088, -0.11384848, -0.07811914,  0.45785618,  1.25605876,\n",
       "         0.85368465,  1.46650668,  1.49470391, -0.15791768,  0.30116078,\n",
       "        -0.55987115, -0.8775252 ],\n",
       "       [ 0.20791379,  0.712017  ,  0.43093571,  0.17213617,  0.09713792,\n",
       "         0.10156407, -0.01948432,  0.11178221,  0.03093302,  0.02205819,\n",
       "        -0.00455621, -0.02860949,  0.14969538, -0.20143794,  0.00423124,\n",
       "        -0.27404566, -0.30471903, -0.2221605 ,  0.15267294,  0.55020885,\n",
       "        -0.03848094,  0.0517552 ],\n",
       "       [-0.38887673, -0.7520662 , -0.47763873, -0.17552791, -0.23696827,\n",
       "        -0.19729125, -0.18582979, -0.30929111,  0.22602246,  0.04496826,\n",
       "         0.09807294,  0.06732642, -0.08948052, -0.01716104, -0.49326782,\n",
       "        -0.11335961, -0.32778932, -0.40493905, -0.06074403, -0.55832741,\n",
       "         0.24919021,  0.30077456]])"
      ]
     },
     "execution_count": 85,
     "metadata": {},
     "output_type": "execute_result"
    }
   ],
   "source": [
    "kmeans_fit.cluster_centers_"
   ]
  },
  {
   "cell_type": "code",
   "execution_count": 79,
   "id": "d653e95f-56f6-4885-accd-7f74c48bc6eb",
   "metadata": {},
   "outputs": [],
   "source": [
    "pr = kmeans_fit.predict(data_c)"
   ]
  },
  {
   "cell_type": "code",
   "execution_count": 86,
   "id": "5ce1e261-f93a-434f-8dc2-e2ef25277958",
   "metadata": {},
   "outputs": [
    {
     "data": {
      "text/plain": [
       "4284406.7390978895"
      ]
     },
     "execution_count": 86,
     "metadata": {},
     "output_type": "execute_result"
    }
   ],
   "source": [
    "kmeans_fit.inertia_"
   ]
  },
  {
   "cell_type": "code",
   "execution_count": 83,
   "id": "3f03c59c-222d-4016-99c0-4b6ba31a8a23",
   "metadata": {},
   "outputs": [],
   "source": [
    "from sklearn.metrics import silhouette_score, silhouette_samples"
   ]
  },
  {
   "cell_type": "code",
   "execution_count": 87,
   "id": "fc74c18b-dccd-429c-b3c3-029a721e94c9",
   "metadata": {},
   "outputs": [
    {
     "data": {
      "text/plain": [
       "0.06966353131034572"
      ]
     },
     "execution_count": 87,
     "metadata": {},
     "output_type": "execute_result"
    }
   ],
   "source": [
    "silhouette_score(data_c, kmeans.labels_)"
   ]
  },
  {
   "cell_type": "markdown",
   "id": "10db6bfb-21ee-4b38-837e-8652ddb9b446",
   "metadata": {},
   "source": [
    "### ML3. Gradient Boosting."
   ]
  },
  {
   "cell_type": "code",
   "execution_count": 92,
   "id": "4a39330d-07d8-42b9-8058-2cc4e8de8d84",
   "metadata": {},
   "outputs": [],
   "source": [
    "from sklearn.ensemble import BaggingClassifier, BaggingRegressor, GradientBoostingClassifier, GradientBoostingRegressor\n",
    "from sklearn.tree import DecisionTreeClassifier"
   ]
  },
  {
   "cell_type": "code",
   "execution_count": 93,
   "id": "ff492851-7daa-4a2e-bec8-fa2f6e55bbce",
   "metadata": {},
   "outputs": [],
   "source": [
    "base_class = DecisionTreeClassifier()\n",
    "gradient_classifier = GradientBoostingClassifier(learning_rate=0.1)"
   ]
  },
  {
   "cell_type": "code",
   "execution_count": 95,
   "id": "564d3901-e9d8-446f-927b-60ce7f2f96ae",
   "metadata": {},
   "outputs": [
    {
     "data": {
      "text/html": [
       "<style>#sk-container-id-11 {color: black;}#sk-container-id-11 pre{padding: 0;}#sk-container-id-11 div.sk-toggleable {background-color: white;}#sk-container-id-11 label.sk-toggleable__label {cursor: pointer;display: block;width: 100%;margin-bottom: 0;padding: 0.3em;box-sizing: border-box;text-align: center;}#sk-container-id-11 label.sk-toggleable__label-arrow:before {content: \"▸\";float: left;margin-right: 0.25em;color: #696969;}#sk-container-id-11 label.sk-toggleable__label-arrow:hover:before {color: black;}#sk-container-id-11 div.sk-estimator:hover label.sk-toggleable__label-arrow:before {color: black;}#sk-container-id-11 div.sk-toggleable__content {max-height: 0;max-width: 0;overflow: hidden;text-align: left;background-color: #f0f8ff;}#sk-container-id-11 div.sk-toggleable__content pre {margin: 0.2em;color: black;border-radius: 0.25em;background-color: #f0f8ff;}#sk-container-id-11 input.sk-toggleable__control:checked~div.sk-toggleable__content {max-height: 200px;max-width: 100%;overflow: auto;}#sk-container-id-11 input.sk-toggleable__control:checked~label.sk-toggleable__label-arrow:before {content: \"▾\";}#sk-container-id-11 div.sk-estimator input.sk-toggleable__control:checked~label.sk-toggleable__label {background-color: #d4ebff;}#sk-container-id-11 div.sk-label input.sk-toggleable__control:checked~label.sk-toggleable__label {background-color: #d4ebff;}#sk-container-id-11 input.sk-hidden--visually {border: 0;clip: rect(1px 1px 1px 1px);clip: rect(1px, 1px, 1px, 1px);height: 1px;margin: -1px;overflow: hidden;padding: 0;position: absolute;width: 1px;}#sk-container-id-11 div.sk-estimator {font-family: monospace;background-color: #f0f8ff;border: 1px dotted black;border-radius: 0.25em;box-sizing: border-box;margin-bottom: 0.5em;}#sk-container-id-11 div.sk-estimator:hover {background-color: #d4ebff;}#sk-container-id-11 div.sk-parallel-item::after {content: \"\";width: 100%;border-bottom: 1px solid gray;flex-grow: 1;}#sk-container-id-11 div.sk-label:hover label.sk-toggleable__label {background-color: #d4ebff;}#sk-container-id-11 div.sk-serial::before {content: \"\";position: absolute;border-left: 1px solid gray;box-sizing: border-box;top: 0;bottom: 0;left: 50%;z-index: 0;}#sk-container-id-11 div.sk-serial {display: flex;flex-direction: column;align-items: center;background-color: white;padding-right: 0.2em;padding-left: 0.2em;position: relative;}#sk-container-id-11 div.sk-item {position: relative;z-index: 1;}#sk-container-id-11 div.sk-parallel {display: flex;align-items: stretch;justify-content: center;background-color: white;position: relative;}#sk-container-id-11 div.sk-item::before, #sk-container-id-11 div.sk-parallel-item::before {content: \"\";position: absolute;border-left: 1px solid gray;box-sizing: border-box;top: 0;bottom: 0;left: 50%;z-index: -1;}#sk-container-id-11 div.sk-parallel-item {display: flex;flex-direction: column;z-index: 1;position: relative;background-color: white;}#sk-container-id-11 div.sk-parallel-item:first-child::after {align-self: flex-end;width: 50%;}#sk-container-id-11 div.sk-parallel-item:last-child::after {align-self: flex-start;width: 50%;}#sk-container-id-11 div.sk-parallel-item:only-child::after {width: 0;}#sk-container-id-11 div.sk-dashed-wrapped {border: 1px dashed gray;margin: 0 0.4em 0.5em 0.4em;box-sizing: border-box;padding-bottom: 0.4em;background-color: white;}#sk-container-id-11 div.sk-label label {font-family: monospace;font-weight: bold;display: inline-block;line-height: 1.2em;}#sk-container-id-11 div.sk-label-container {text-align: center;}#sk-container-id-11 div.sk-container {/* jupyter's `normalize.less` sets `[hidden] { display: none; }` but bootstrap.min.css set `[hidden] { display: none !important; }` so we also need the `!important` here to be able to override the default hidden behavior on the sphinx rendered scikit-learn.org. See: https://github.com/scikit-learn/scikit-learn/issues/21755 */display: inline-block !important;position: relative;}#sk-container-id-11 div.sk-text-repr-fallback {display: none;}</style><div id=\"sk-container-id-11\" class=\"sk-top-container\"><div class=\"sk-text-repr-fallback\"><pre>GradientBoostingClassifier()</pre><b>In a Jupyter environment, please rerun this cell to show the HTML representation or trust the notebook. <br />On GitHub, the HTML representation is unable to render, please try loading this page with nbviewer.org.</b></div><div class=\"sk-container\" hidden><div class=\"sk-item\"><div class=\"sk-estimator sk-toggleable\"><input class=\"sk-toggleable__control sk-hidden--visually\" id=\"sk-estimator-id-11\" type=\"checkbox\" checked><label for=\"sk-estimator-id-11\" class=\"sk-toggleable__label sk-toggleable__label-arrow\">GradientBoostingClassifier</label><div class=\"sk-toggleable__content\"><pre>GradientBoostingClassifier()</pre></div></div></div></div></div>"
      ],
      "text/plain": [
       "GradientBoostingClassifier()"
      ]
     },
     "execution_count": 95,
     "metadata": {},
     "output_type": "execute_result"
    }
   ],
   "source": [
    "gradient_classifier.fit(X_train, y_train)"
   ]
  },
  {
   "cell_type": "code",
   "execution_count": 96,
   "id": "92ce5023-2a8a-418b-88e5-616624894f58",
   "metadata": {},
   "outputs": [],
   "source": [
    "y_pred_gc = gradient_classifier.predict(X_test)"
   ]
  },
  {
   "cell_type": "code",
   "execution_count": 97,
   "id": "386ce697-5310-4dcc-b7c6-05472e460896",
   "metadata": {},
   "outputs": [
    {
     "name": "stdout",
     "output_type": "stream",
     "text": [
      "              precision    recall  f1-score   support\n",
      "\n",
      "           0       0.57      0.57      0.57       878\n",
      "           1       0.39      0.32      0.35       956\n",
      "           2       0.50      0.59      0.54       944\n",
      "\n",
      "    accuracy                           0.49      2778\n",
      "   macro avg       0.49      0.49      0.49      2778\n",
      "weighted avg       0.49      0.49      0.49      2778\n",
      "\n"
     ]
    }
   ],
   "source": [
    "print(classification_report(y_test, y_pred_gc))"
   ]
  },
  {
   "cell_type": "markdown",
   "id": "5917ec8b-3ccd-470f-83b4-65f4e88f406a",
   "metadata": {},
   "source": [
    "### ML4. Bagging."
   ]
  },
  {
   "cell_type": "code",
   "execution_count": 98,
   "id": "8b32e425-f336-49a4-9c58-895f6f44cc9a",
   "metadata": {},
   "outputs": [],
   "source": [
    "bagging_classifier = BaggingClassifier(base_class, n_estimators = 10)"
   ]
  },
  {
   "cell_type": "code",
   "execution_count": 99,
   "id": "f75df141-c1ac-4d29-812b-3ce4681f7429",
   "metadata": {},
   "outputs": [
    {
     "data": {
      "text/html": [
       "<style>#sk-container-id-12 {color: black;}#sk-container-id-12 pre{padding: 0;}#sk-container-id-12 div.sk-toggleable {background-color: white;}#sk-container-id-12 label.sk-toggleable__label {cursor: pointer;display: block;width: 100%;margin-bottom: 0;padding: 0.3em;box-sizing: border-box;text-align: center;}#sk-container-id-12 label.sk-toggleable__label-arrow:before {content: \"▸\";float: left;margin-right: 0.25em;color: #696969;}#sk-container-id-12 label.sk-toggleable__label-arrow:hover:before {color: black;}#sk-container-id-12 div.sk-estimator:hover label.sk-toggleable__label-arrow:before {color: black;}#sk-container-id-12 div.sk-toggleable__content {max-height: 0;max-width: 0;overflow: hidden;text-align: left;background-color: #f0f8ff;}#sk-container-id-12 div.sk-toggleable__content pre {margin: 0.2em;color: black;border-radius: 0.25em;background-color: #f0f8ff;}#sk-container-id-12 input.sk-toggleable__control:checked~div.sk-toggleable__content {max-height: 200px;max-width: 100%;overflow: auto;}#sk-container-id-12 input.sk-toggleable__control:checked~label.sk-toggleable__label-arrow:before {content: \"▾\";}#sk-container-id-12 div.sk-estimator input.sk-toggleable__control:checked~label.sk-toggleable__label {background-color: #d4ebff;}#sk-container-id-12 div.sk-label input.sk-toggleable__control:checked~label.sk-toggleable__label {background-color: #d4ebff;}#sk-container-id-12 input.sk-hidden--visually {border: 0;clip: rect(1px 1px 1px 1px);clip: rect(1px, 1px, 1px, 1px);height: 1px;margin: -1px;overflow: hidden;padding: 0;position: absolute;width: 1px;}#sk-container-id-12 div.sk-estimator {font-family: monospace;background-color: #f0f8ff;border: 1px dotted black;border-radius: 0.25em;box-sizing: border-box;margin-bottom: 0.5em;}#sk-container-id-12 div.sk-estimator:hover {background-color: #d4ebff;}#sk-container-id-12 div.sk-parallel-item::after {content: \"\";width: 100%;border-bottom: 1px solid gray;flex-grow: 1;}#sk-container-id-12 div.sk-label:hover label.sk-toggleable__label {background-color: #d4ebff;}#sk-container-id-12 div.sk-serial::before {content: \"\";position: absolute;border-left: 1px solid gray;box-sizing: border-box;top: 0;bottom: 0;left: 50%;z-index: 0;}#sk-container-id-12 div.sk-serial {display: flex;flex-direction: column;align-items: center;background-color: white;padding-right: 0.2em;padding-left: 0.2em;position: relative;}#sk-container-id-12 div.sk-item {position: relative;z-index: 1;}#sk-container-id-12 div.sk-parallel {display: flex;align-items: stretch;justify-content: center;background-color: white;position: relative;}#sk-container-id-12 div.sk-item::before, #sk-container-id-12 div.sk-parallel-item::before {content: \"\";position: absolute;border-left: 1px solid gray;box-sizing: border-box;top: 0;bottom: 0;left: 50%;z-index: -1;}#sk-container-id-12 div.sk-parallel-item {display: flex;flex-direction: column;z-index: 1;position: relative;background-color: white;}#sk-container-id-12 div.sk-parallel-item:first-child::after {align-self: flex-end;width: 50%;}#sk-container-id-12 div.sk-parallel-item:last-child::after {align-self: flex-start;width: 50%;}#sk-container-id-12 div.sk-parallel-item:only-child::after {width: 0;}#sk-container-id-12 div.sk-dashed-wrapped {border: 1px dashed gray;margin: 0 0.4em 0.5em 0.4em;box-sizing: border-box;padding-bottom: 0.4em;background-color: white;}#sk-container-id-12 div.sk-label label {font-family: monospace;font-weight: bold;display: inline-block;line-height: 1.2em;}#sk-container-id-12 div.sk-label-container {text-align: center;}#sk-container-id-12 div.sk-container {/* jupyter's `normalize.less` sets `[hidden] { display: none; }` but bootstrap.min.css set `[hidden] { display: none !important; }` so we also need the `!important` here to be able to override the default hidden behavior on the sphinx rendered scikit-learn.org. See: https://github.com/scikit-learn/scikit-learn/issues/21755 */display: inline-block !important;position: relative;}#sk-container-id-12 div.sk-text-repr-fallback {display: none;}</style><div id=\"sk-container-id-12\" class=\"sk-top-container\"><div class=\"sk-text-repr-fallback\"><pre>BaggingClassifier(estimator=DecisionTreeClassifier())</pre><b>In a Jupyter environment, please rerun this cell to show the HTML representation or trust the notebook. <br />On GitHub, the HTML representation is unable to render, please try loading this page with nbviewer.org.</b></div><div class=\"sk-container\" hidden><div class=\"sk-item sk-dashed-wrapped\"><div class=\"sk-label-container\"><div class=\"sk-label sk-toggleable\"><input class=\"sk-toggleable__control sk-hidden--visually\" id=\"sk-estimator-id-12\" type=\"checkbox\" ><label for=\"sk-estimator-id-12\" class=\"sk-toggleable__label sk-toggleable__label-arrow\">BaggingClassifier</label><div class=\"sk-toggleable__content\"><pre>BaggingClassifier(estimator=DecisionTreeClassifier())</pre></div></div></div><div class=\"sk-parallel\"><div class=\"sk-parallel-item\"><div class=\"sk-item\"><div class=\"sk-label-container\"><div class=\"sk-label sk-toggleable\"><input class=\"sk-toggleable__control sk-hidden--visually\" id=\"sk-estimator-id-13\" type=\"checkbox\" ><label for=\"sk-estimator-id-13\" class=\"sk-toggleable__label sk-toggleable__label-arrow\">estimator: DecisionTreeClassifier</label><div class=\"sk-toggleable__content\"><pre>DecisionTreeClassifier()</pre></div></div></div><div class=\"sk-serial\"><div class=\"sk-item\"><div class=\"sk-estimator sk-toggleable\"><input class=\"sk-toggleable__control sk-hidden--visually\" id=\"sk-estimator-id-14\" type=\"checkbox\" ><label for=\"sk-estimator-id-14\" class=\"sk-toggleable__label sk-toggleable__label-arrow\">DecisionTreeClassifier</label><div class=\"sk-toggleable__content\"><pre>DecisionTreeClassifier()</pre></div></div></div></div></div></div></div></div></div></div>"
      ],
      "text/plain": [
       "BaggingClassifier(estimator=DecisionTreeClassifier())"
      ]
     },
     "execution_count": 99,
     "metadata": {},
     "output_type": "execute_result"
    }
   ],
   "source": [
    "bagging_classifier.fit(X_train, y_train)"
   ]
  },
  {
   "cell_type": "code",
   "execution_count": 100,
   "id": "674b7dc9-2b1a-453b-a403-ef63a5d95e3b",
   "metadata": {},
   "outputs": [],
   "source": [
    "y_pred_bc = bagging_classifier.predict(X_test)"
   ]
  },
  {
   "cell_type": "code",
   "execution_count": 101,
   "id": "dd026521-daa6-4068-8643-c1a32804cda1",
   "metadata": {},
   "outputs": [
    {
     "name": "stdout",
     "output_type": "stream",
     "text": [
      "              precision    recall  f1-score   support\n",
      "\n",
      "           0       0.49      0.54      0.51       878\n",
      "           1       0.40      0.39      0.39       956\n",
      "           2       0.48      0.45      0.46       944\n",
      "\n",
      "    accuracy                           0.46      2778\n",
      "   macro avg       0.46      0.46      0.46      2778\n",
      "weighted avg       0.46      0.46      0.46      2778\n",
      "\n"
     ]
    }
   ],
   "source": [
    "print(classification_report(y_test, y_pred_bc))"
   ]
  },
  {
   "cell_type": "markdown",
   "id": "40031e31-850d-406d-89d2-04f3b9c52663",
   "metadata": {},
   "source": [
    "### ML5. Stacking."
   ]
  },
  {
   "cell_type": "code",
   "execution_count": 105,
   "id": "85eff148-2f4c-4259-a3ca-f5cec56a519a",
   "metadata": {},
   "outputs": [],
   "source": [
    "from sklearn.linear_model import LogisticRegression\n",
    "from sklearn.ensemble import StackingClassifier"
   ]
  },
  {
   "cell_type": "code",
   "execution_count": 106,
   "id": "2a3bc56d-963a-4343-8080-0d1beb8b95e9",
   "metadata": {},
   "outputs": [],
   "source": [
    "base_models_class = [\n",
    "    ('gnb', GaussianNB()),\n",
    "    ('LogisticRegression', LogisticRegression(C=0.1, penalty='l1', solver='liblinear', max_iter=200, class_weight='balanced'))\n",
    "]"
   ]
  },
  {
   "cell_type": "code",
   "execution_count": 107,
   "id": "5016b5e0-61cb-4bf0-b315-fb297f154b65",
   "metadata": {},
   "outputs": [],
   "source": [
    "stacking_classifier = StackingClassifier(estimators=base_models_class, final_estimator=DecisionTreeClassifier())"
   ]
  },
  {
   "cell_type": "code",
   "execution_count": 108,
   "id": "ac461f7c-2f52-4b8d-a582-7f6c220917b2",
   "metadata": {},
   "outputs": [
    {
     "data": {
      "text/html": [
       "<style>#sk-container-id-13 {color: black;}#sk-container-id-13 pre{padding: 0;}#sk-container-id-13 div.sk-toggleable {background-color: white;}#sk-container-id-13 label.sk-toggleable__label {cursor: pointer;display: block;width: 100%;margin-bottom: 0;padding: 0.3em;box-sizing: border-box;text-align: center;}#sk-container-id-13 label.sk-toggleable__label-arrow:before {content: \"▸\";float: left;margin-right: 0.25em;color: #696969;}#sk-container-id-13 label.sk-toggleable__label-arrow:hover:before {color: black;}#sk-container-id-13 div.sk-estimator:hover label.sk-toggleable__label-arrow:before {color: black;}#sk-container-id-13 div.sk-toggleable__content {max-height: 0;max-width: 0;overflow: hidden;text-align: left;background-color: #f0f8ff;}#sk-container-id-13 div.sk-toggleable__content pre {margin: 0.2em;color: black;border-radius: 0.25em;background-color: #f0f8ff;}#sk-container-id-13 input.sk-toggleable__control:checked~div.sk-toggleable__content {max-height: 200px;max-width: 100%;overflow: auto;}#sk-container-id-13 input.sk-toggleable__control:checked~label.sk-toggleable__label-arrow:before {content: \"▾\";}#sk-container-id-13 div.sk-estimator input.sk-toggleable__control:checked~label.sk-toggleable__label {background-color: #d4ebff;}#sk-container-id-13 div.sk-label input.sk-toggleable__control:checked~label.sk-toggleable__label {background-color: #d4ebff;}#sk-container-id-13 input.sk-hidden--visually {border: 0;clip: rect(1px 1px 1px 1px);clip: rect(1px, 1px, 1px, 1px);height: 1px;margin: -1px;overflow: hidden;padding: 0;position: absolute;width: 1px;}#sk-container-id-13 div.sk-estimator {font-family: monospace;background-color: #f0f8ff;border: 1px dotted black;border-radius: 0.25em;box-sizing: border-box;margin-bottom: 0.5em;}#sk-container-id-13 div.sk-estimator:hover {background-color: #d4ebff;}#sk-container-id-13 div.sk-parallel-item::after {content: \"\";width: 100%;border-bottom: 1px solid gray;flex-grow: 1;}#sk-container-id-13 div.sk-label:hover label.sk-toggleable__label {background-color: #d4ebff;}#sk-container-id-13 div.sk-serial::before {content: \"\";position: absolute;border-left: 1px solid gray;box-sizing: border-box;top: 0;bottom: 0;left: 50%;z-index: 0;}#sk-container-id-13 div.sk-serial {display: flex;flex-direction: column;align-items: center;background-color: white;padding-right: 0.2em;padding-left: 0.2em;position: relative;}#sk-container-id-13 div.sk-item {position: relative;z-index: 1;}#sk-container-id-13 div.sk-parallel {display: flex;align-items: stretch;justify-content: center;background-color: white;position: relative;}#sk-container-id-13 div.sk-item::before, #sk-container-id-13 div.sk-parallel-item::before {content: \"\";position: absolute;border-left: 1px solid gray;box-sizing: border-box;top: 0;bottom: 0;left: 50%;z-index: -1;}#sk-container-id-13 div.sk-parallel-item {display: flex;flex-direction: column;z-index: 1;position: relative;background-color: white;}#sk-container-id-13 div.sk-parallel-item:first-child::after {align-self: flex-end;width: 50%;}#sk-container-id-13 div.sk-parallel-item:last-child::after {align-self: flex-start;width: 50%;}#sk-container-id-13 div.sk-parallel-item:only-child::after {width: 0;}#sk-container-id-13 div.sk-dashed-wrapped {border: 1px dashed gray;margin: 0 0.4em 0.5em 0.4em;box-sizing: border-box;padding-bottom: 0.4em;background-color: white;}#sk-container-id-13 div.sk-label label {font-family: monospace;font-weight: bold;display: inline-block;line-height: 1.2em;}#sk-container-id-13 div.sk-label-container {text-align: center;}#sk-container-id-13 div.sk-container {/* jupyter's `normalize.less` sets `[hidden] { display: none; }` but bootstrap.min.css set `[hidden] { display: none !important; }` so we also need the `!important` here to be able to override the default hidden behavior on the sphinx rendered scikit-learn.org. See: https://github.com/scikit-learn/scikit-learn/issues/21755 */display: inline-block !important;position: relative;}#sk-container-id-13 div.sk-text-repr-fallback {display: none;}</style><div id=\"sk-container-id-13\" class=\"sk-top-container\"><div class=\"sk-text-repr-fallback\"><pre>StackingClassifier(estimators=[(&#x27;gnb&#x27;, GaussianNB()),\n",
       "                               (&#x27;LogisticRegression&#x27;,\n",
       "                                LogisticRegression(C=0.1,\n",
       "                                                   class_weight=&#x27;balanced&#x27;,\n",
       "                                                   max_iter=200, penalty=&#x27;l1&#x27;,\n",
       "                                                   solver=&#x27;liblinear&#x27;))],\n",
       "                   final_estimator=DecisionTreeClassifier())</pre><b>In a Jupyter environment, please rerun this cell to show the HTML representation or trust the notebook. <br />On GitHub, the HTML representation is unable to render, please try loading this page with nbviewer.org.</b></div><div class=\"sk-container\" hidden><div class=\"sk-item sk-dashed-wrapped\"><div class=\"sk-label-container\"><div class=\"sk-label sk-toggleable\"><input class=\"sk-toggleable__control sk-hidden--visually\" id=\"sk-estimator-id-15\" type=\"checkbox\" ><label for=\"sk-estimator-id-15\" class=\"sk-toggleable__label sk-toggleable__label-arrow\">StackingClassifier</label><div class=\"sk-toggleable__content\"><pre>StackingClassifier(estimators=[(&#x27;gnb&#x27;, GaussianNB()),\n",
       "                               (&#x27;LogisticRegression&#x27;,\n",
       "                                LogisticRegression(C=0.1,\n",
       "                                                   class_weight=&#x27;balanced&#x27;,\n",
       "                                                   max_iter=200, penalty=&#x27;l1&#x27;,\n",
       "                                                   solver=&#x27;liblinear&#x27;))],\n",
       "                   final_estimator=DecisionTreeClassifier())</pre></div></div></div><div class=\"sk-serial\"><div class=\"sk-item\"><div class=\"sk-parallel\"><div class=\"sk-parallel-item\"><div class=\"sk-item\"><div class=\"sk-label-container\"><div class=\"sk-label sk-toggleable\"><label>gnb</label></div></div><div class=\"sk-serial\"><div class=\"sk-item\"><div class=\"sk-estimator sk-toggleable\"><input class=\"sk-toggleable__control sk-hidden--visually\" id=\"sk-estimator-id-16\" type=\"checkbox\" ><label for=\"sk-estimator-id-16\" class=\"sk-toggleable__label sk-toggleable__label-arrow\">GaussianNB</label><div class=\"sk-toggleable__content\"><pre>GaussianNB()</pre></div></div></div></div></div></div><div class=\"sk-parallel-item\"><div class=\"sk-item\"><div class=\"sk-label-container\"><div class=\"sk-label sk-toggleable\"><label>LogisticRegression</label></div></div><div class=\"sk-serial\"><div class=\"sk-item\"><div class=\"sk-estimator sk-toggleable\"><input class=\"sk-toggleable__control sk-hidden--visually\" id=\"sk-estimator-id-17\" type=\"checkbox\" ><label for=\"sk-estimator-id-17\" class=\"sk-toggleable__label sk-toggleable__label-arrow\">LogisticRegression</label><div class=\"sk-toggleable__content\"><pre>LogisticRegression(C=0.1, class_weight=&#x27;balanced&#x27;, max_iter=200, penalty=&#x27;l1&#x27;,\n",
       "                   solver=&#x27;liblinear&#x27;)</pre></div></div></div></div></div></div></div></div><div class=\"sk-item\"><div class=\"sk-parallel\"><div class=\"sk-parallel-item\"><div class=\"sk-item\"><div class=\"sk-label-container\"><div class=\"sk-label sk-toggleable\"><label>final_estimator</label></div></div><div class=\"sk-serial\"><div class=\"sk-item\"><div class=\"sk-estimator sk-toggleable\"><input class=\"sk-toggleable__control sk-hidden--visually\" id=\"sk-estimator-id-18\" type=\"checkbox\" ><label for=\"sk-estimator-id-18\" class=\"sk-toggleable__label sk-toggleable__label-arrow\">DecisionTreeClassifier</label><div class=\"sk-toggleable__content\"><pre>DecisionTreeClassifier()</pre></div></div></div></div></div></div></div></div></div></div></div></div>"
      ],
      "text/plain": [
       "StackingClassifier(estimators=[('gnb', GaussianNB()),\n",
       "                               ('LogisticRegression',\n",
       "                                LogisticRegression(C=0.1,\n",
       "                                                   class_weight='balanced',\n",
       "                                                   max_iter=200, penalty='l1',\n",
       "                                                   solver='liblinear'))],\n",
       "                   final_estimator=DecisionTreeClassifier())"
      ]
     },
     "execution_count": 108,
     "metadata": {},
     "output_type": "execute_result"
    }
   ],
   "source": [
    "stacking_classifier.fit(X_train, y_train)"
   ]
  },
  {
   "cell_type": "code",
   "execution_count": 109,
   "id": "cfa4e5bb-350e-4269-bba3-a783dc05b7ec",
   "metadata": {},
   "outputs": [],
   "source": [
    "y_pred_stacking_classifier = stacking_classifier.predict(X_test)"
   ]
  },
  {
   "cell_type": "code",
   "execution_count": 110,
   "id": "37ef35cd-b21e-4a5e-9b1a-8420259db435",
   "metadata": {},
   "outputs": [
    {
     "name": "stdout",
     "output_type": "stream",
     "text": [
      "              precision    recall  f1-score   support\n",
      "\n",
      "           0       0.47      0.51      0.49       878\n",
      "           1       0.35      0.33      0.34       956\n",
      "           2       0.42      0.41      0.41       944\n",
      "\n",
      "    accuracy                           0.41      2778\n",
      "   macro avg       0.41      0.42      0.41      2778\n",
      "weighted avg       0.41      0.41      0.41      2778\n",
      "\n"
     ]
    }
   ],
   "source": [
    "print(classification_report(y_test, y_pred_stacking_classifier))"
   ]
  },
  {
   "cell_type": "code",
   "execution_count": null,
   "id": "450fa387-d246-483c-910e-b38b339fa42e",
   "metadata": {},
   "outputs": [],
   "source": []
  }
 ],
 "metadata": {
  "kernelspec": {
   "display_name": "Python 3 (ipykernel)",
   "language": "python",
   "name": "python3"
  },
  "language_info": {
   "codemirror_mode": {
    "name": "ipython",
    "version": 3
   },
   "file_extension": ".py",
   "mimetype": "text/x-python",
   "name": "python",
   "nbconvert_exporter": "python",
   "pygments_lexer": "ipython3",
   "version": "3.9.6"
  }
 },
 "nbformat": 4,
 "nbformat_minor": 5
}
