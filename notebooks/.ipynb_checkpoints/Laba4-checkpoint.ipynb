{
 "cells": [
  {
   "cell_type": "markdown",
   "id": "214f95d6-2b60-450e-8090-ac012deff5b6",
   "metadata": {},
   "source": [
    "# Лабораторная работа №4 "
   ]
  },
  {
   "cell_type": "markdown",
   "id": "f0042ed9-16f3-4b27-941e-7d23be1f33c1",
   "metadata": {},
   "source": [
    "## Задание 2."
   ]
  },
  {
   "cell_type": "markdown",
   "id": "ae96ec77-7a5b-4157-a4ae-a3203fa0746c",
   "metadata": {},
   "source": [
    "### 2.1 Инициализация проекта. "
   ]
  },
  {
   "cell_type": "code",
   "execution_count": 64,
   "id": "1d470feb-15cb-4eb2-99a5-3b3ebc10f4e2",
   "metadata": {},
   "outputs": [],
   "source": [
    "import pandas as pd\n",
    "import matplotlib.pyplot as plt\n",
    "import numpy as np\n",
    "import seaborn as sns"
   ]
  },
  {
   "cell_type": "code",
   "execution_count": 65,
   "id": "c22d5f3a-74b3-4e3f-a897-694d6fe76e5f",
   "metadata": {},
   "outputs": [],
   "source": [
    "data = pd.read_csv('../data/weatherAUS.csv')"
   ]
  },
  {
   "cell_type": "markdown",
   "id": "e897cabf-e624-4f4d-a8b1-f211f4fb40ea",
   "metadata": {},
   "source": [
    "### 2.2 Исследование исходных данных и предобработка."
   ]
  },
  {
   "cell_type": "code",
   "execution_count": 66,
   "id": "776b88fd-7f04-40ff-8f66-9758ea05c362",
   "metadata": {},
   "outputs": [
    {
     "name": "stdout",
     "output_type": "stream",
     "text": [
      "<class 'pandas.core.frame.DataFrame'>\n",
      "RangeIndex: 145460 entries, 0 to 145459\n",
      "Data columns (total 23 columns):\n",
      " #   Column         Non-Null Count   Dtype  \n",
      "---  ------         --------------   -----  \n",
      " 0   Date           145460 non-null  object \n",
      " 1   Location       145460 non-null  object \n",
      " 2   MinTemp        143975 non-null  float64\n",
      " 3   MaxTemp        144199 non-null  float64\n",
      " 4   Rainfall       142199 non-null  float64\n",
      " 5   Evaporation    82670 non-null   float64\n",
      " 6   Sunshine       75625 non-null   float64\n",
      " 7   WindGustDir    135134 non-null  object \n",
      " 8   WindGustSpeed  135197 non-null  float64\n",
      " 9   WindDir9am     134894 non-null  object \n",
      " 10  WindDir3pm     141232 non-null  object \n",
      " 11  WindSpeed9am   143693 non-null  float64\n",
      " 12  WindSpeed3pm   142398 non-null  float64\n",
      " 13  Humidity9am    142806 non-null  float64\n",
      " 14  Humidity3pm    140953 non-null  float64\n",
      " 15  Pressure9am    130395 non-null  float64\n",
      " 16  Pressure3pm    130432 non-null  float64\n",
      " 17  Cloud9am       89572 non-null   float64\n",
      " 18  Cloud3pm       86102 non-null   float64\n",
      " 19  Temp9am        143693 non-null  float64\n",
      " 20  Temp3pm        141851 non-null  float64\n",
      " 21  RainToday      142199 non-null  object \n",
      " 22  RainTomorrow   142193 non-null  object \n",
      "dtypes: float64(16), object(7)\n",
      "memory usage: 25.5+ MB\n"
     ]
    }
   ],
   "source": [
    "data.info()"
   ]
  },
  {
   "cell_type": "code",
   "execution_count": 67,
   "id": "a4af3fa4-88f1-4349-916d-667d1c690ffd",
   "metadata": {},
   "outputs": [
    {
     "data": {
      "text/plain": [
       "Date                 0\n",
       "Location             0\n",
       "MinTemp           1485\n",
       "MaxTemp           1261\n",
       "Rainfall          3261\n",
       "Evaporation      62790\n",
       "Sunshine         69835\n",
       "WindGustDir      10326\n",
       "WindGustSpeed    10263\n",
       "WindDir9am       10566\n",
       "WindDir3pm        4228\n",
       "WindSpeed9am      1767\n",
       "WindSpeed3pm      3062\n",
       "Humidity9am       2654\n",
       "Humidity3pm       4507\n",
       "Pressure9am      15065\n",
       "Pressure3pm      15028\n",
       "Cloud9am         55888\n",
       "Cloud3pm         59358\n",
       "Temp9am           1767\n",
       "Temp3pm           3609\n",
       "RainToday         3261\n",
       "RainTomorrow      3267\n",
       "dtype: int64"
      ]
     },
     "execution_count": 67,
     "metadata": {},
     "output_type": "execute_result"
    }
   ],
   "source": [
    "data.isnull().sum()"
   ]
  },
  {
   "cell_type": "code",
   "execution_count": 68,
   "id": "ca1e9a5c-2f33-43d0-9aa6-7266cb51df79",
   "metadata": {},
   "outputs": [],
   "source": [
    "data.drop(['Evaporation','Sunshine','Cloud9am','Cloud3pm'],inplace=True,axis=1)"
   ]
  },
  {
   "cell_type": "code",
   "execution_count": 69,
   "id": "299ce094-5b90-48b8-9cc4-312c77057ee3",
   "metadata": {},
   "outputs": [
    {
     "data": {
      "text/plain": [
       "Date                 0\n",
       "Location             0\n",
       "MinTemp           1485\n",
       "MaxTemp           1261\n",
       "Rainfall          3261\n",
       "WindGustDir      10326\n",
       "WindGustSpeed    10263\n",
       "WindDir9am       10566\n",
       "WindDir3pm        4228\n",
       "WindSpeed9am      1767\n",
       "WindSpeed3pm      3062\n",
       "Humidity9am       2654\n",
       "Humidity3pm       4507\n",
       "Pressure9am      15065\n",
       "Pressure3pm      15028\n",
       "Temp9am           1767\n",
       "Temp3pm           3609\n",
       "RainToday         3261\n",
       "RainTomorrow      3267\n",
       "dtype: int64"
      ]
     },
     "execution_count": 69,
     "metadata": {},
     "output_type": "execute_result"
    }
   ],
   "source": [
    "data.isnull().sum()"
   ]
  },
  {
   "cell_type": "code",
   "execution_count": 70,
   "id": "2b63d319-8801-49a2-ab76-96c5c754390e",
   "metadata": {},
   "outputs": [
    {
     "name": "stderr",
     "output_type": "stream",
     "text": [
      "/var/folders/5m/pqtq1wd11j1d6pfnkny1707h0000gn/T/ipykernel_17317/4010142814.py:2: FutureWarning: Series.fillna with 'method' is deprecated and will raise in a future version. Use obj.ffill() or obj.bfill() instead.\n",
      "  data[col] = data[col].fillna(method='ffill')\n"
     ]
    }
   ],
   "source": [
    "for col in data.columns:\n",
    "    data[col] = data[col].fillna(method='ffill')"
   ]
  },
  {
   "cell_type": "code",
   "execution_count": 71,
   "id": "e8726fe1-53a8-4f2c-9bb6-67e47d9fcbda",
   "metadata": {},
   "outputs": [],
   "source": [
    "data.drop('Date',inplace=True,axis=1)"
   ]
  },
  {
   "cell_type": "markdown",
   "id": "c94089e5-c423-4149-b236-0d4dad1839a4",
   "metadata": {},
   "source": [
    "### 2.3 Разбиение датафрейма на обучающую и тестовую выборки."
   ]
  },
  {
   "cell_type": "code",
   "execution_count": 72,
   "id": "646ea0b7-ebc5-45e0-b9cb-2029f89e3ad1",
   "metadata": {},
   "outputs": [
    {
     "name": "stdout",
     "output_type": "stream",
     "text": [
      "<class 'pandas.core.frame.DataFrame'>\n",
      "RangeIndex: 145460 entries, 0 to 145459\n",
      "Data columns (total 18 columns):\n",
      " #   Column         Non-Null Count   Dtype  \n",
      "---  ------         --------------   -----  \n",
      " 0   Location       145460 non-null  object \n",
      " 1   MinTemp        145460 non-null  float64\n",
      " 2   MaxTemp        145460 non-null  float64\n",
      " 3   Rainfall       145460 non-null  float64\n",
      " 4   WindGustDir    145460 non-null  object \n",
      " 5   WindGustSpeed  145460 non-null  float64\n",
      " 6   WindDir9am     145460 non-null  object \n",
      " 7   WindDir3pm     145460 non-null  object \n",
      " 8   WindSpeed9am   145460 non-null  float64\n",
      " 9   WindSpeed3pm   145460 non-null  float64\n",
      " 10  Humidity9am    145460 non-null  float64\n",
      " 11  Humidity3pm    145460 non-null  float64\n",
      " 12  Pressure9am    145460 non-null  float64\n",
      " 13  Pressure3pm    145460 non-null  float64\n",
      " 14  Temp9am        145460 non-null  float64\n",
      " 15  Temp3pm        145460 non-null  float64\n",
      " 16  RainToday      145460 non-null  object \n",
      " 17  RainTomorrow   145460 non-null  object \n",
      "dtypes: float64(12), object(6)\n",
      "memory usage: 20.0+ MB\n"
     ]
    }
   ],
   "source": [
    "data.info()"
   ]
  },
  {
   "cell_type": "code",
   "execution_count": 74,
   "id": "159ec99c-8a65-4338-a502-6937f9d763e0",
   "metadata": {},
   "outputs": [],
   "source": [
    "from sklearn.preprocessing import StandardScaler\n",
    "from sklearn import preprocessing\n",
    "\n",
    "numeric_features = data.select_dtypes(include=['int64', 'float64']).columns\n",
    "\n",
    "scaler = StandardScaler()\n",
    "data[numeric_features] = scaler.fit_transform(data[numeric_features])"
   ]
  },
  {
   "cell_type": "code",
   "execution_count": 75,
   "id": "f0f06297-a2cd-4ef3-8368-92db369a3353",
   "metadata": {},
   "outputs": [
    {
     "data": {
      "text/plain": [
       "array(['W', 'WNW', 'WSW', 'NE', 'NNW', 'N', 'NNE', 'SW', 'ENE', 'SSE',\n",
       "       'S', 'NW', 'SE', 'ESE', 'E', 'SSW'], dtype=object)"
      ]
     },
     "execution_count": 75,
     "metadata": {},
     "output_type": "execute_result"
    }
   ],
   "source": [
    "data['WindGustDir'].unique()"
   ]
  },
  {
   "cell_type": "code",
   "execution_count": 76,
   "id": "05999d6f-32e0-461c-be7e-dae70ab7fa41",
   "metadata": {},
   "outputs": [
    {
     "data": {
      "text/plain": [
       "array(['No', 'Yes'], dtype=object)"
      ]
     },
     "execution_count": 76,
     "metadata": {},
     "output_type": "execute_result"
    }
   ],
   "source": [
    "data['RainToday'].unique()"
   ]
  },
  {
   "cell_type": "code",
   "execution_count": 77,
   "id": "d6856737-7448-4320-bda7-b0c2f6057e88",
   "metadata": {},
   "outputs": [],
   "source": [
    "from sklearn.preprocessing import OrdinalEncoder\n",
    "from sklearn.preprocessing import OneHotEncoder\n",
    "\n",
    "wind_dir_cats = [['W', 'WNW', 'WSW', 'NE', 'NNW', 'N', 'NNE', 'SW', 'ENE', 'SSE',\n",
    "       'S', 'NW', 'SE', 'ESE', 'E', 'SSW']]\n",
    "wind_dir_feats = ['WindGustDir']\n",
    "wind_dir_feats_9am = ['WindDir9am']\n",
    "wind_dir_feats_3pm = ['WindDir3pm']\n",
    "winddir_encoder = OrdinalEncoder(categories=wind_dir_cats)\n",
    "\n",
    "rain_cats = [['No', 'Yes']]\n",
    "rain_feats_today = ['RainToday']\n",
    "rain_feats_tomorrow = ['RainTomorrow']\n",
    "rain_encoder = OrdinalEncoder(categories=rain_cats)\n",
    "\n",
    "location_features = ['Location']\n",
    "location_encoder = OneHotEncoder(sparse_output=False)"
   ]
  },
  {
   "cell_type": "code",
   "execution_count": 78,
   "id": "056d4d6e-481d-4fc0-bbe0-b7161af2443c",
   "metadata": {},
   "outputs": [
    {
     "data": {
      "text/html": [
       "<div>\n",
       "<style scoped>\n",
       "    .dataframe tbody tr th:only-of-type {\n",
       "        vertical-align: middle;\n",
       "    }\n",
       "\n",
       "    .dataframe tbody tr th {\n",
       "        vertical-align: top;\n",
       "    }\n",
       "\n",
       "    .dataframe thead th {\n",
       "        text-align: right;\n",
       "    }\n",
       "</style>\n",
       "<table border=\"1\" class=\"dataframe\">\n",
       "  <thead>\n",
       "    <tr style=\"text-align: right;\">\n",
       "      <th></th>\n",
       "      <th>wind_dir__WindGustDir</th>\n",
       "      <th>wind_dir_9am__WindDir9am</th>\n",
       "      <th>wind_dir_3pm__WindDir3pm</th>\n",
       "      <th>rain_today__RainToday</th>\n",
       "      <th>rain_tomorrow__RainTomorrow</th>\n",
       "      <th>location__Location_Adelaide</th>\n",
       "      <th>location__Location_Albany</th>\n",
       "      <th>location__Location_Albury</th>\n",
       "      <th>location__Location_AliceSprings</th>\n",
       "      <th>location__Location_BadgerysCreek</th>\n",
       "      <th>...</th>\n",
       "      <th>location__Location_Townsville</th>\n",
       "      <th>location__Location_Tuggeranong</th>\n",
       "      <th>location__Location_Uluru</th>\n",
       "      <th>location__Location_WaggaWagga</th>\n",
       "      <th>location__Location_Walpole</th>\n",
       "      <th>location__Location_Watsonia</th>\n",
       "      <th>location__Location_Williamtown</th>\n",
       "      <th>location__Location_Witchcliffe</th>\n",
       "      <th>location__Location_Wollongong</th>\n",
       "      <th>location__Location_Woomera</th>\n",
       "    </tr>\n",
       "  </thead>\n",
       "  <tbody>\n",
       "    <tr>\n",
       "      <th>0</th>\n",
       "      <td>0.0</td>\n",
       "      <td>0.0</td>\n",
       "      <td>1.0</td>\n",
       "      <td>0.0</td>\n",
       "      <td>0.0</td>\n",
       "      <td>0.0</td>\n",
       "      <td>0.0</td>\n",
       "      <td>1.0</td>\n",
       "      <td>0.0</td>\n",
       "      <td>0.0</td>\n",
       "      <td>...</td>\n",
       "      <td>0.0</td>\n",
       "      <td>0.0</td>\n",
       "      <td>0.0</td>\n",
       "      <td>0.0</td>\n",
       "      <td>0.0</td>\n",
       "      <td>0.0</td>\n",
       "      <td>0.0</td>\n",
       "      <td>0.0</td>\n",
       "      <td>0.0</td>\n",
       "      <td>0.0</td>\n",
       "    </tr>\n",
       "    <tr>\n",
       "      <th>1</th>\n",
       "      <td>1.0</td>\n",
       "      <td>4.0</td>\n",
       "      <td>2.0</td>\n",
       "      <td>0.0</td>\n",
       "      <td>0.0</td>\n",
       "      <td>0.0</td>\n",
       "      <td>0.0</td>\n",
       "      <td>1.0</td>\n",
       "      <td>0.0</td>\n",
       "      <td>0.0</td>\n",
       "      <td>...</td>\n",
       "      <td>0.0</td>\n",
       "      <td>0.0</td>\n",
       "      <td>0.0</td>\n",
       "      <td>0.0</td>\n",
       "      <td>0.0</td>\n",
       "      <td>0.0</td>\n",
       "      <td>0.0</td>\n",
       "      <td>0.0</td>\n",
       "      <td>0.0</td>\n",
       "      <td>0.0</td>\n",
       "    </tr>\n",
       "    <tr>\n",
       "      <th>2</th>\n",
       "      <td>2.0</td>\n",
       "      <td>0.0</td>\n",
       "      <td>2.0</td>\n",
       "      <td>0.0</td>\n",
       "      <td>0.0</td>\n",
       "      <td>0.0</td>\n",
       "      <td>0.0</td>\n",
       "      <td>1.0</td>\n",
       "      <td>0.0</td>\n",
       "      <td>0.0</td>\n",
       "      <td>...</td>\n",
       "      <td>0.0</td>\n",
       "      <td>0.0</td>\n",
       "      <td>0.0</td>\n",
       "      <td>0.0</td>\n",
       "      <td>0.0</td>\n",
       "      <td>0.0</td>\n",
       "      <td>0.0</td>\n",
       "      <td>0.0</td>\n",
       "      <td>0.0</td>\n",
       "      <td>0.0</td>\n",
       "    </tr>\n",
       "    <tr>\n",
       "      <th>3</th>\n",
       "      <td>3.0</td>\n",
       "      <td>12.0</td>\n",
       "      <td>14.0</td>\n",
       "      <td>0.0</td>\n",
       "      <td>0.0</td>\n",
       "      <td>0.0</td>\n",
       "      <td>0.0</td>\n",
       "      <td>1.0</td>\n",
       "      <td>0.0</td>\n",
       "      <td>0.0</td>\n",
       "      <td>...</td>\n",
       "      <td>0.0</td>\n",
       "      <td>0.0</td>\n",
       "      <td>0.0</td>\n",
       "      <td>0.0</td>\n",
       "      <td>0.0</td>\n",
       "      <td>0.0</td>\n",
       "      <td>0.0</td>\n",
       "      <td>0.0</td>\n",
       "      <td>0.0</td>\n",
       "      <td>0.0</td>\n",
       "    </tr>\n",
       "    <tr>\n",
       "      <th>4</th>\n",
       "      <td>0.0</td>\n",
       "      <td>8.0</td>\n",
       "      <td>11.0</td>\n",
       "      <td>0.0</td>\n",
       "      <td>0.0</td>\n",
       "      <td>0.0</td>\n",
       "      <td>0.0</td>\n",
       "      <td>1.0</td>\n",
       "      <td>0.0</td>\n",
       "      <td>0.0</td>\n",
       "      <td>...</td>\n",
       "      <td>0.0</td>\n",
       "      <td>0.0</td>\n",
       "      <td>0.0</td>\n",
       "      <td>0.0</td>\n",
       "      <td>0.0</td>\n",
       "      <td>0.0</td>\n",
       "      <td>0.0</td>\n",
       "      <td>0.0</td>\n",
       "      <td>0.0</td>\n",
       "      <td>0.0</td>\n",
       "    </tr>\n",
       "  </tbody>\n",
       "</table>\n",
       "<p>5 rows × 54 columns</p>\n",
       "</div>"
      ],
      "text/plain": [
       "   wind_dir__WindGustDir  wind_dir_9am__WindDir9am  wind_dir_3pm__WindDir3pm  \\\n",
       "0                    0.0                       0.0                       1.0   \n",
       "1                    1.0                       4.0                       2.0   \n",
       "2                    2.0                       0.0                       2.0   \n",
       "3                    3.0                      12.0                      14.0   \n",
       "4                    0.0                       8.0                      11.0   \n",
       "\n",
       "   rain_today__RainToday  rain_tomorrow__RainTomorrow  \\\n",
       "0                    0.0                          0.0   \n",
       "1                    0.0                          0.0   \n",
       "2                    0.0                          0.0   \n",
       "3                    0.0                          0.0   \n",
       "4                    0.0                          0.0   \n",
       "\n",
       "   location__Location_Adelaide  location__Location_Albany  \\\n",
       "0                          0.0                        0.0   \n",
       "1                          0.0                        0.0   \n",
       "2                          0.0                        0.0   \n",
       "3                          0.0                        0.0   \n",
       "4                          0.0                        0.0   \n",
       "\n",
       "   location__Location_Albury  location__Location_AliceSprings  \\\n",
       "0                        1.0                              0.0   \n",
       "1                        1.0                              0.0   \n",
       "2                        1.0                              0.0   \n",
       "3                        1.0                              0.0   \n",
       "4                        1.0                              0.0   \n",
       "\n",
       "   location__Location_BadgerysCreek  ...  location__Location_Townsville  \\\n",
       "0                               0.0  ...                            0.0   \n",
       "1                               0.0  ...                            0.0   \n",
       "2                               0.0  ...                            0.0   \n",
       "3                               0.0  ...                            0.0   \n",
       "4                               0.0  ...                            0.0   \n",
       "\n",
       "   location__Location_Tuggeranong  location__Location_Uluru  \\\n",
       "0                             0.0                       0.0   \n",
       "1                             0.0                       0.0   \n",
       "2                             0.0                       0.0   \n",
       "3                             0.0                       0.0   \n",
       "4                             0.0                       0.0   \n",
       "\n",
       "   location__Location_WaggaWagga  location__Location_Walpole  \\\n",
       "0                            0.0                         0.0   \n",
       "1                            0.0                         0.0   \n",
       "2                            0.0                         0.0   \n",
       "3                            0.0                         0.0   \n",
       "4                            0.0                         0.0   \n",
       "\n",
       "   location__Location_Watsonia  location__Location_Williamtown  \\\n",
       "0                          0.0                             0.0   \n",
       "1                          0.0                             0.0   \n",
       "2                          0.0                             0.0   \n",
       "3                          0.0                             0.0   \n",
       "4                          0.0                             0.0   \n",
       "\n",
       "   location__Location_Witchcliffe  location__Location_Wollongong  \\\n",
       "0                             0.0                            0.0   \n",
       "1                             0.0                            0.0   \n",
       "2                             0.0                            0.0   \n",
       "3                             0.0                            0.0   \n",
       "4                             0.0                            0.0   \n",
       "\n",
       "   location__Location_Woomera  \n",
       "0                         0.0  \n",
       "1                         0.0  \n",
       "2                         0.0  \n",
       "3                         0.0  \n",
       "4                         0.0  \n",
       "\n",
       "[5 rows x 54 columns]"
      ]
     },
     "execution_count": 78,
     "metadata": {},
     "output_type": "execute_result"
    }
   ],
   "source": [
    "from sklearn.compose import ColumnTransformer\n",
    "ct = ColumnTransformer(transformers=[\n",
    "     ('wind_dir', winddir_encoder, wind_dir_feats),\n",
    "     ('wind_dir_9am', winddir_encoder, wind_dir_feats_9am),\n",
    "     ('wind_dir_3pm', winddir_encoder, wind_dir_feats_3pm),\n",
    "     ('rain_today', rain_encoder, rain_feats_today),\n",
    "     ('rain_tomorrow', rain_encoder, rain_feats_tomorrow),\n",
    "     ('location', location_encoder, location_features)\n",
    "     ])\n",
    "# Получите закодированные функции в виде DataFrame.\n",
    "ct.set_output(transform='pandas')\n",
    "encoded_data = ct.fit_transform(data)\n",
    "encoded_data.head()"
   ]
  },
  {
   "cell_type": "code",
   "execution_count": 82,
   "id": "9bd641d2-9d3f-4b9b-bd0a-9e8b86259788",
   "metadata": {},
   "outputs": [
    {
     "name": "stdout",
     "output_type": "stream",
     "text": [
      "<class 'pandas.core.frame.DataFrame'>\n",
      "RangeIndex: 145460 entries, 0 to 145459\n",
      "Data columns (total 54 columns):\n",
      " #   Column                               Non-Null Count   Dtype  \n",
      "---  ------                               --------------   -----  \n",
      " 0   wind_dir__WindGustDir                145460 non-null  float64\n",
      " 1   wind_dir_9am__WindDir9am             145460 non-null  float64\n",
      " 2   wind_dir_3pm__WindDir3pm             145460 non-null  float64\n",
      " 3   rain_today__RainToday                145460 non-null  float64\n",
      " 4   rain_tomorrow__RainTomorrow          145460 non-null  float64\n",
      " 5   location__Location_Adelaide          145460 non-null  float64\n",
      " 6   location__Location_Albany            145460 non-null  float64\n",
      " 7   location__Location_Albury            145460 non-null  float64\n",
      " 8   location__Location_AliceSprings      145460 non-null  float64\n",
      " 9   location__Location_BadgerysCreek     145460 non-null  float64\n",
      " 10  location__Location_Ballarat          145460 non-null  float64\n",
      " 11  location__Location_Bendigo           145460 non-null  float64\n",
      " 12  location__Location_Brisbane          145460 non-null  float64\n",
      " 13  location__Location_Cairns            145460 non-null  float64\n",
      " 14  location__Location_Canberra          145460 non-null  float64\n",
      " 15  location__Location_Cobar             145460 non-null  float64\n",
      " 16  location__Location_CoffsHarbour      145460 non-null  float64\n",
      " 17  location__Location_Dartmoor          145460 non-null  float64\n",
      " 18  location__Location_Darwin            145460 non-null  float64\n",
      " 19  location__Location_GoldCoast         145460 non-null  float64\n",
      " 20  location__Location_Hobart            145460 non-null  float64\n",
      " 21  location__Location_Katherine         145460 non-null  float64\n",
      " 22  location__Location_Launceston        145460 non-null  float64\n",
      " 23  location__Location_Melbourne         145460 non-null  float64\n",
      " 24  location__Location_MelbourneAirport  145460 non-null  float64\n",
      " 25  location__Location_Mildura           145460 non-null  float64\n",
      " 26  location__Location_Moree             145460 non-null  float64\n",
      " 27  location__Location_MountGambier      145460 non-null  float64\n",
      " 28  location__Location_MountGinini       145460 non-null  float64\n",
      " 29  location__Location_Newcastle         145460 non-null  float64\n",
      " 30  location__Location_Nhil              145460 non-null  float64\n",
      " 31  location__Location_NorahHead         145460 non-null  float64\n",
      " 32  location__Location_NorfolkIsland     145460 non-null  float64\n",
      " 33  location__Location_Nuriootpa         145460 non-null  float64\n",
      " 34  location__Location_PearceRAAF        145460 non-null  float64\n",
      " 35  location__Location_Penrith           145460 non-null  float64\n",
      " 36  location__Location_Perth             145460 non-null  float64\n",
      " 37  location__Location_PerthAirport      145460 non-null  float64\n",
      " 38  location__Location_Portland          145460 non-null  float64\n",
      " 39  location__Location_Richmond          145460 non-null  float64\n",
      " 40  location__Location_Sale              145460 non-null  float64\n",
      " 41  location__Location_SalmonGums        145460 non-null  float64\n",
      " 42  location__Location_Sydney            145460 non-null  float64\n",
      " 43  location__Location_SydneyAirport     145460 non-null  float64\n",
      " 44  location__Location_Townsville        145460 non-null  float64\n",
      " 45  location__Location_Tuggeranong       145460 non-null  float64\n",
      " 46  location__Location_Uluru             145460 non-null  float64\n",
      " 47  location__Location_WaggaWagga        145460 non-null  float64\n",
      " 48  location__Location_Walpole           145460 non-null  float64\n",
      " 49  location__Location_Watsonia          145460 non-null  float64\n",
      " 50  location__Location_Williamtown       145460 non-null  float64\n",
      " 51  location__Location_Witchcliffe       145460 non-null  float64\n",
      " 52  location__Location_Wollongong        145460 non-null  float64\n",
      " 53  location__Location_Woomera           145460 non-null  float64\n",
      "dtypes: float64(54)\n",
      "memory usage: 59.9 MB\n"
     ]
    }
   ],
   "source": [
    "encoded_data.info()"
   ]
  },
  {
   "cell_type": "code",
   "execution_count": 83,
   "id": "201db518-8765-4b77-9931-8fd57e7af03c",
   "metadata": {},
   "outputs": [],
   "source": [
    "y = encoded_data['rain_tomorrow__RainTomorrow']\n",
    "X = encoded_data.drop(['rain_tomorrow__RainTomorrow'],axis = 1)\n",
    "X_train, X_test, y_train, y_test = train_test_split(X,y,test_size=0.2,random_state=0)"
   ]
  },
  {
   "cell_type": "markdown",
   "id": "42090bc4-42eb-440b-93a5-7c24a039c7e9",
   "metadata": {},
   "source": [
    "### 2.4 Logistic Regression."
   ]
  },
  {
   "cell_type": "code",
   "execution_count": 84,
   "id": "3cca499a-70c3-4c59-87ac-a6d8c013c85c",
   "metadata": {},
   "outputs": [
    {
     "name": "stdout",
     "output_type": "stream",
     "text": [
      "              precision    recall  f1-score   support\n",
      "\n",
      "         0.0       0.81      0.94      0.87     22557\n",
      "         1.0       0.52      0.22      0.31      6535\n",
      "\n",
      "    accuracy                           0.78     29092\n",
      "   macro avg       0.66      0.58      0.59     29092\n",
      "weighted avg       0.74      0.78      0.74     29092\n",
      "\n",
      "Predicted labels:  [0. 0. 0. ... 0. 0. 0.]\n",
      "F1-score:  0.30739299610894943\n"
     ]
    },
    {
     "name": "stderr",
     "output_type": "stream",
     "text": [
      "/Users/sergejkotov/Desktop/ml/venv/lib/python3.9/site-packages/sklearn/linear_model/_logistic.py:460: ConvergenceWarning: lbfgs failed to converge (status=1):\n",
      "STOP: TOTAL NO. of ITERATIONS REACHED LIMIT.\n",
      "\n",
      "Increase the number of iterations (max_iter) or scale the data as shown in:\n",
      "    https://scikit-learn.org/stable/modules/preprocessing.html\n",
      "Please also refer to the documentation for alternative solver options:\n",
      "    https://scikit-learn.org/stable/modules/linear_model.html#logistic-regression\n",
      "  n_iter_i = _check_optimize_result(\n"
     ]
    }
   ],
   "source": [
    "from sklearn.metrics import f1_score, classification_report\n",
    "from sklearn.linear_model import LogisticRegression\n",
    "\n",
    "model = LogisticRegression()\n",
    "model.fit(X_train, y_train)\n",
    "predictions = model.predict(X_test)\n",
    "\n",
    "print(classification_report(y_test, predictions))\n",
    "print('Predicted labels: ', predictions)\n",
    "print('F1-score: ', f1_score(y_test, predictions))"
   ]
  },
  {
   "cell_type": "code",
   "execution_count": null,
   "id": "3c3f8421-c08c-4521-9dee-54a909b509ea",
   "metadata": {},
   "outputs": [],
   "source": []
  }
 ],
 "metadata": {
  "kernelspec": {
   "display_name": "Python 3 (ipykernel)",
   "language": "python",
   "name": "python3"
  },
  "language_info": {
   "codemirror_mode": {
    "name": "ipython",
    "version": 3
   },
   "file_extension": ".py",
   "mimetype": "text/x-python",
   "name": "python",
   "nbconvert_exporter": "python",
   "pygments_lexer": "ipython3",
   "version": "3.9.6"
  }
 },
 "nbformat": 4,
 "nbformat_minor": 5
}
